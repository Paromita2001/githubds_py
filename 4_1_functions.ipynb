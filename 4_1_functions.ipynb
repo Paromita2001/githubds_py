{
  "cells": [
    {
      "cell_type": "markdown",
      "metadata": {
        "id": "view-in-github",
        "colab_type": "text"
      },
      "source": [
        "<a href=\"https://colab.research.google.com/github/Paromita2001/githubds_py/blob/main/4_1_functions.ipynb\" target=\"_parent\"><img src=\"https://colab.research.google.com/assets/colab-badge.svg\" alt=\"Open In Colab\"/></a>"
      ]
    },
    {
      "cell_type": "markdown",
      "metadata": {
        "id": "Ak8FyLDWX9cm"
      },
      "source": [
        "#### Functions in Python\n",
        "Video Outline:\n",
        "1. Introduction to Functions\n",
        "2. Defining Functions\n",
        "3. Calling Functions\n",
        "4. Function Parameters\n",
        "5. Default Parameters\n",
        "6. Variable-Length Arguments\n",
        "7. Return Statement"
      ]
    },
    {
      "cell_type": "markdown",
      "metadata": {
        "id": "GjMf8lUqX9co"
      },
      "source": [
        "##### Introduction to Functions\n",
        "Definition:\n",
        "\n",
        "A function is a block of code that performs a specific task.\n",
        "Functions help in organizing code, reusing code, and improving readability.\n",
        "\n"
      ]
    },
    {
      "cell_type": "code",
      "execution_count": 1,
      "metadata": {
        "id": "fB5NeSD2X9co"
      },
      "outputs": [],
      "source": [
        "## syntax\n",
        "def function_name(parameters):\n",
        "    \"\"\"Docstring\"\"\"\n",
        "    # Function body\n",
        "    return expression\n"
      ]
    },
    {
      "cell_type": "code",
      "execution_count": 2,
      "metadata": {
        "colab": {
          "base_uri": "https://localhost:8080/"
        },
        "id": "t8TvU7DzX9cp",
        "outputId": "e6ad2669-cbdd-4237-f192-b6c37f9b63cf"
      },
      "outputs": [
        {
          "output_type": "stream",
          "name": "stdout",
          "text": [
            "the number is even\n"
          ]
        }
      ],
      "source": [
        "## why functions?\n",
        "num=24\n",
        "if num%2==0:\n",
        "    print(\"the number is even\")\n",
        "else:\n",
        "    print(\"the number is odd\")"
      ]
    },
    {
      "cell_type": "code",
      "execution_count": 6,
      "metadata": {
        "id": "oBgHc3NrX9cq"
      },
      "outputs": [],
      "source": [
        "def even_or_odd(num):\n",
        "    \"\"\"This function finds even or odd\"\"\"\n",
        "    if num%2==0:\n",
        "        print(\"the number is even\")\n",
        "    else:\n",
        "        print(\"the number is odd\")\n"
      ]
    },
    {
      "cell_type": "code",
      "execution_count": 5,
      "metadata": {
        "colab": {
          "base_uri": "https://localhost:8080/"
        },
        "id": "ndYbdUS7X9cq",
        "outputId": "30a2037c-7112-4e3b-ae89-88fc3411dace"
      },
      "outputs": [
        {
          "output_type": "stream",
          "name": "stdout",
          "text": [
            "the number is even\n"
          ]
        }
      ],
      "source": [
        "## Call this function\n",
        "even_or_odd(24)"
      ]
    },
    {
      "cell_type": "code",
      "execution_count": 7,
      "metadata": {
        "colab": {
          "base_uri": "https://localhost:8080/"
        },
        "id": "ZpkgkDSzX9cr",
        "outputId": "c44195b3-b77a-4867-804e-480982d06c3a"
      },
      "outputs": [
        {
          "output_type": "stream",
          "name": "stdout",
          "text": [
            "6\n"
          ]
        }
      ],
      "source": [
        "## function with multiple parameters\n",
        "\n",
        "def add(a,b):\n",
        "    return a+b\n",
        "\n",
        "result=add(2,4)\n",
        "print(result)\n",
        ""
      ]
    },
    {
      "cell_type": "code",
      "execution_count": 8,
      "metadata": {
        "colab": {
          "base_uri": "https://localhost:8080/"
        },
        "id": "RbE03jVzX9cr",
        "outputId": "c32f35ca-6fc0-4c77-9674-30aef84c51fa"
      },
      "outputs": [
        {
          "output_type": "stream",
          "name": "stdout",
          "text": [
            "Hello Alex Welcome To the paradise\n"
          ]
        }
      ],
      "source": [
        "## Default Parameters\n",
        "\n",
        "def greet(name):\n",
        "    print(f\"Hello {name} Welcome To the paradise\")\n",
        "\n",
        "greet(\"Alex\")\n"
      ]
    },
    {
      "cell_type": "code",
      "execution_count": 9,
      "metadata": {
        "colab": {
          "base_uri": "https://localhost:8080/"
        },
        "id": "tlEWZ0ZbX9cr",
        "outputId": "d31a98e7-72f6-42e2-84aa-743251d066df"
      },
      "outputs": [
        {
          "output_type": "stream",
          "name": "stdout",
          "text": [
            "Hello Alex Welcome To the paradise\n"
          ]
        }
      ],
      "source": [
        "def greet(name=\"Guest\"):\n",
        "    print(f\"Hello {name} Welcome To the paradise\")\n",
        "\n",
        "greet(\"Alex\")"
      ]
    },
    {
      "cell_type": "code",
      "execution_count": 11,
      "metadata": {
        "id": "p_oEfFXvX9cr"
      },
      "outputs": [],
      "source": [
        "### Variable Length Arguments\n",
        "## Positional And Keywords arguments\n",
        "\n",
        "def print_numbers(*Alex):\n",
        "    for number in Alex:\n",
        "        print(number)"
      ]
    },
    {
      "cell_type": "code",
      "execution_count": 12,
      "metadata": {
        "colab": {
          "base_uri": "https://localhost:8080/"
        },
        "id": "K-lyLB95X9cs",
        "outputId": "25eca0e7-452d-404b-8533-67e6c6b08c9e"
      },
      "outputs": [
        {
          "output_type": "stream",
          "name": "stdout",
          "text": [
            "1\n",
            "2\n",
            "3\n",
            "4\n",
            "5\n",
            "6\n",
            "7\n",
            "8\n",
            "Alex\n"
          ]
        }
      ],
      "source": [
        "print_numbers(1,2,3,4,5,6,7,8,\"Alex\")"
      ]
    },
    {
      "cell_type": "code",
      "execution_count": null,
      "metadata": {
        "id": "dy2iaj2IX9cs"
      },
      "outputs": [],
      "source": [
        "## Positional arguments\n",
        "def print_numbers(*args):\n",
        "    for number in args:\n",
        "        print(number)"
      ]
    },
    {
      "cell_type": "code",
      "execution_count": 13,
      "metadata": {
        "colab": {
          "base_uri": "https://localhost:8080/"
        },
        "id": "hB1RHVEjX9cs",
        "outputId": "dbade4b7-d764-40b9-e9a1-9ec76099ff32"
      },
      "outputs": [
        {
          "output_type": "stream",
          "name": "stdout",
          "text": [
            "1\n",
            "2\n",
            "3\n",
            "4\n",
            "5\n",
            "6\n",
            "7\n",
            "8\n",
            "Alex\n"
          ]
        }
      ],
      "source": [
        "print_numbers(1,2,3,4,5,6,7,8,\"Alex\")"
      ]
    },
    {
      "cell_type": "code",
      "execution_count": 14,
      "metadata": {
        "id": "V7Se82waX9ct"
      },
      "outputs": [],
      "source": [
        "### Keywords Arguments\n",
        "\n",
        "def print_details(**kwargs):\n",
        "    for key,value in kwargs.items():\n",
        "        print(f\"{key}:{value}\")"
      ]
    },
    {
      "cell_type": "code",
      "execution_count": 15,
      "metadata": {
        "colab": {
          "base_uri": "https://localhost:8080/"
        },
        "id": "cUJ5bl6HX9ct",
        "outputId": "0a7251ea-7069-4217-c203-ec28d8b591ea"
      },
      "outputs": [
        {
          "output_type": "stream",
          "name": "stdout",
          "text": [
            "name:Alex\n",
            "age:32\n",
            "country:India\n"
          ]
        }
      ],
      "source": [
        "print_details(name=\"Alex\",age=\"32\",country=\"India\")"
      ]
    },
    {
      "cell_type": "code",
      "execution_count": 16,
      "metadata": {
        "id": "xlwFiNPVX9ct"
      },
      "outputs": [],
      "source": [
        "def print_details(*args,**kwargs):\n",
        "    for val in args:\n",
        "        print(f\" Positional arument :{val}\")\n",
        "\n",
        "    for key,value in kwargs.items():\n",
        "        print(f\"{key}:{value}\")"
      ]
    },
    {
      "cell_type": "code",
      "execution_count": 17,
      "metadata": {
        "colab": {
          "base_uri": "https://localhost:8080/"
        },
        "id": "BlnuVxr9X9ct",
        "outputId": "b959d716-015c-4171-e5e6-5edf7688fd8a"
      },
      "outputs": [
        {
          "output_type": "stream",
          "name": "stdout",
          "text": [
            " Positional arument :1\n",
            " Positional arument :2\n",
            " Positional arument :3\n",
            " Positional arument :4\n",
            " Positional arument :Alex\n",
            "name:Alex\n",
            "age:32\n",
            "country:India\n"
          ]
        }
      ],
      "source": [
        "print_details(1,2,3,4,\"Alex\",name=\"Alex\",age=\"32\",country=\"India\")"
      ]
    },
    {
      "cell_type": "code",
      "execution_count": 18,
      "metadata": {
        "colab": {
          "base_uri": "https://localhost:8080/"
        },
        "id": "l4AJAAuoX9ct",
        "outputId": "be59e846-bf1b-4500-81c1-b4367de1b3eb"
      },
      "outputs": [
        {
          "output_type": "execute_result",
          "data": {
            "text/plain": [
              "6"
            ]
          },
          "metadata": {},
          "execution_count": 18
        }
      ],
      "source": [
        "### Return statements\n",
        "def multiply(a,b):\n",
        "    return a*b\n",
        "\n",
        "multiply(2,3)"
      ]
    },
    {
      "cell_type": "code",
      "execution_count": 19,
      "metadata": {
        "colab": {
          "base_uri": "https://localhost:8080/"
        },
        "id": "tRV9VJyKX9ct",
        "outputId": "bec227ca-28d2-41f4-fa70-6cc9b1f81371"
      },
      "outputs": [
        {
          "output_type": "execute_result",
          "data": {
            "text/plain": [
              "(6, 2)"
            ]
          },
          "metadata": {},
          "execution_count": 19
        }
      ],
      "source": [
        "### Return multiple parameters\n",
        "def multiply(a,b):\n",
        "    return a*b,a\n",
        "\n",
        "multiply(2,3)"
      ]
    },
    {
      "cell_type": "code",
      "execution_count": null,
      "metadata": {
        "id": "xyDyznTnX9cu"
      },
      "outputs": [],
      "source": []
    }
  ],
  "metadata": {
    "kernelspec": {
      "display_name": "Python 3",
      "language": "python",
      "name": "python3"
    },
    "language_info": {
      "codemirror_mode": {
        "name": "ipython",
        "version": 3
      },
      "file_extension": ".py",
      "mimetype": "text/x-python",
      "name": "python",
      "nbconvert_exporter": "python",
      "pygments_lexer": "ipython3",
      "version": "3.12.0"
    },
    "colab": {
      "provenance": [],
      "include_colab_link": true
    }
  },
  "nbformat": 4,
  "nbformat_minor": 0
}