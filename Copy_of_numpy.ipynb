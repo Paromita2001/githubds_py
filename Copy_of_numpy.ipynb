{
  "cells": [
    {
      "cell_type": "markdown",
      "metadata": {
        "id": "view-in-github",
        "colab_type": "text"
      },
      "source": [
        "<a href=\"https://colab.research.google.com/github/Paromita2001/githubds_py/blob/main/Copy_of_numpy.ipynb\" target=\"_parent\"><img src=\"https://colab.research.google.com/assets/colab-badge.svg\" alt=\"Open In Colab\"/></a>"
      ]
    },
    {
      "cell_type": "markdown",
      "metadata": {
        "id": "LzW0QnRBH8n-"
      },
      "source": [
        "#### Numpy\n",
        "NumPy is a fundamental library for scientific computing in Python. It provides support for arrays and matrices, along with a collection of mathematical functions to operate on these data structures. In this lesson, we will cover the basics of NumPy, focusing on arrays and vectorized operations."
      ]
    },
    {
      "cell_type": "code",
      "execution_count": null,
      "metadata": {
        "id": "EQ06c-gwH8n_",
        "outputId": "31fa9011-d9af-465e-a962-c03bb9db5210"
      },
      "outputs": [
        {
          "name": "stdout",
          "output_type": "stream",
          "text": [
            "Requirement already satisfied: numpy in e:\\udemy final\\python\\venv\\lib\\site-packages (1.26.4)\n"
          ]
        }
      ],
      "source": [
        "!pip install numpy"
      ]
    },
    {
      "cell_type": "code",
      "execution_count": null,
      "metadata": {
        "id": "zV-lHmP2H8oA",
        "outputId": "ce796560-ee1d-42a9-d75c-ef10e985b152"
      },
      "outputs": [
        {
          "name": "stdout",
          "output_type": "stream",
          "text": [
            "[1 2 3 4 5]\n",
            "<class 'numpy.ndarray'>\n",
            "(5,)\n"
          ]
        }
      ],
      "source": [
        "import numpy as np\n",
        "\n",
        "## create array using numpy\n",
        "##create a 1D array\n",
        "arr1=np.array([1,2,3,4,5])\n",
        "print(arr1)\n",
        "print(type(arr1))\n",
        "print(arr1.shape)"
      ]
    },
    {
      "cell_type": "code",
      "execution_count": null,
      "metadata": {
        "id": "jITvC_obH8oA",
        "outputId": "2dbd88da-6044-4635-c90c-e899aa58840a"
      },
      "outputs": [
        {
          "data": {
            "text/plain": [
              "array([[1, 2, 3, 4, 5]])"
            ]
          },
          "execution_count": 9,
          "metadata": {},
          "output_type": "execute_result"
        }
      ],
      "source": [
        "## 1 d array\n",
        "arr2=np.array([1,2,3,4,5])\n",
        "arr2.reshape(1,5)  ##1 row and 5 columns"
      ]
    },
    {
      "cell_type": "code",
      "execution_count": null,
      "metadata": {
        "id": "OLhptkNnH8oB",
        "outputId": "97a5d2ae-b62d-4420-b4b0-ce572c0b0347"
      },
      "outputs": [
        {
          "data": {
            "text/plain": [
              "(1, 5)"
            ]
          },
          "execution_count": 11,
          "metadata": {},
          "output_type": "execute_result"
        }
      ],
      "source": [
        "arr2=np.array([[1,2,3,4,5]])\n",
        "arr2.shape"
      ]
    },
    {
      "cell_type": "code",
      "execution_count": null,
      "metadata": {
        "id": "UFmyc-ylH8oB",
        "outputId": "d45e61e9-ac99-44ec-a5bf-0362c706d850"
      },
      "outputs": [
        {
          "name": "stdout",
          "output_type": "stream",
          "text": [
            "[[1 2 3 4 5]\n",
            " [2 3 4 5 6]]\n",
            "(2, 5)\n"
          ]
        }
      ],
      "source": [
        "## 2d array\n",
        "arr2=np.array([[1,2,3,4,5],[2,3,4,5,6]])\n",
        "print(arr2)\n",
        "print(arr2.shape)"
      ]
    },
    {
      "cell_type": "code",
      "execution_count": null,
      "metadata": {
        "id": "D9HX2c5JH8oB",
        "outputId": "52061bc7-53b4-41cc-d481-292097f75cff"
      },
      "outputs": [
        {
          "data": {
            "text/plain": [
              "array([[0],\n",
              "       [2],\n",
              "       [4],\n",
              "       [6],\n",
              "       [8]])"
            ]
          },
          "execution_count": 14,
          "metadata": {},
          "output_type": "execute_result"
        }
      ],
      "source": [
        "np.arange(0,10,2).reshape(5,1)"
      ]
    },
    {
      "cell_type": "code",
      "execution_count": null,
      "metadata": {
        "id": "mHewzAs3H8oB",
        "outputId": "cf7303d8-1de9-4a46-c60a-c68d3ce984c7"
      },
      "outputs": [
        {
          "data": {
            "text/plain": [
              "array([[1., 1., 1., 1.],\n",
              "       [1., 1., 1., 1.],\n",
              "       [1., 1., 1., 1.]])"
            ]
          },
          "execution_count": 15,
          "metadata": {},
          "output_type": "execute_result"
        }
      ],
      "source": [
        "np.ones((3,4))"
      ]
    },
    {
      "cell_type": "code",
      "execution_count": null,
      "metadata": {
        "id": "5btTpQnPH8oC",
        "outputId": "ecd55341-6e2a-44b6-acd5-1afab70fd9aa"
      },
      "outputs": [
        {
          "data": {
            "text/plain": [
              "array([[1., 0., 0.],\n",
              "       [0., 1., 0.],\n",
              "       [0., 0., 1.]])"
            ]
          },
          "execution_count": 16,
          "metadata": {},
          "output_type": "execute_result"
        }
      ],
      "source": [
        "## identity matrix\n",
        "np.eye(3)"
      ]
    },
    {
      "cell_type": "code",
      "execution_count": null,
      "metadata": {
        "id": "PR0DBudLH8oC",
        "outputId": "de36e12b-4f44-44f3-92e7-e6e0c7961fc5"
      },
      "outputs": [
        {
          "name": "stdout",
          "output_type": "stream",
          "text": [
            "Array:\n",
            " [[1 2 3]\n",
            " [4 5 6]]\n",
            "Shape: (2, 3)\n",
            "Number of dimensions: 2\n",
            "Size (number of elements): 6\n",
            "Data type: int32\n",
            "Item size (in bytes): 4\n"
          ]
        }
      ],
      "source": [
        "## Attributes of Numpy Array\n",
        "arr = np.array([[1, 2, 3], [4, 5, 6]])\n",
        "\n",
        "print(\"Array:\\n\", arr)\n",
        "print(\"Shape:\", arr.shape)  # Output: (2, 3)\n",
        "print(\"Number of dimensions:\", arr.ndim)  # Output: 2\n",
        "print(\"Size (number of elements):\", arr.size)  # Output: 6\n",
        "print(\"Data type:\", arr.dtype)  # Output: int32 (may vary based on platform)\n",
        "print(\"Item size (in bytes):\", arr.itemsize)  # Output: 8 (may vary based on platform)\n"
      ]
    },
    {
      "cell_type": "code",
      "execution_count": null,
      "metadata": {
        "id": "Smm_Q_YnH8oC",
        "outputId": "934fe742-340e-4ab3-992a-c1965f250d18"
      },
      "outputs": [
        {
          "name": "stdout",
          "output_type": "stream",
          "text": [
            "Addition: [11 22 33 44 55]\n",
            "Substraction: [ -9 -18 -27 -36 -45]\n",
            "Multiplication: [ 10  40  90 160 250]\n",
            "Division: [0.1 0.1 0.1 0.1 0.1]\n"
          ]
        }
      ],
      "source": [
        "### Numpy Vectorized Operation\n",
        "arr1=np.array([1,2,3,4,5])\n",
        "arr2=np.array([10,20,30,40,50])\n",
        "\n",
        "### Element Wise addition\n",
        "print(\"Addition:\", arr1+arr2)\n",
        "\n",
        "## Element Wise Substraction\n",
        "print(\"Substraction:\", arr1-arr2)\n",
        "\n",
        "# Element-wise multiplication\n",
        "print(\"Multiplication:\", arr1 * arr2)\n",
        "\n",
        "# Element-wise division\n",
        "print(\"Division:\", arr1 / arr2)"
      ]
    },
    {
      "cell_type": "code",
      "execution_count": null,
      "metadata": {
        "id": "TSBVAaFlH8oD",
        "outputId": "f6b0d8f2-73f2-4319-9c5f-3c59469fd04a"
      },
      "outputs": [
        {
          "name": "stdout",
          "output_type": "stream",
          "text": [
            "[1.41421356 1.73205081 2.         2.23606798 2.44948974]\n",
            "[  7.3890561   20.08553692  54.59815003 148.4131591  403.42879349]\n",
            "[ 0.90929743  0.14112001 -0.7568025  -0.95892427 -0.2794155 ]\n",
            "[0.69314718 1.09861229 1.38629436 1.60943791 1.79175947]\n"
          ]
        }
      ],
      "source": [
        "## Universal Function\n",
        "arr=np.array([2,3,4,5,6])\n",
        "## square root\n",
        "print(np.sqrt(arr))\n",
        "\n",
        "## Exponential\n",
        "print(np.exp(arr))\n",
        "\n",
        "## Sine\n",
        "print(np.sin(arr))\n",
        "\n",
        "## natural log\n",
        "print(np.log(arr))"
      ]
    },
    {
      "cell_type": "code",
      "execution_count": null,
      "metadata": {
        "id": "j4epefb_H8oD",
        "outputId": "dac1a6d9-c5b0-45e5-e619-9f47c30e235c"
      },
      "outputs": [
        {
          "name": "stdout",
          "output_type": "stream",
          "text": [
            "Array : \n",
            " [[ 1  2  3  4]\n",
            " [ 5  6  7  8]\n",
            " [ 9 10 11 12]]\n"
          ]
        }
      ],
      "source": [
        "## array slicing and Indexing\n",
        "\n",
        "arr=np.array([[1,2,3,4],[5,6,7,8],[9,10,11,12]])\n",
        "print(\"Array : \\n\", arr)\n",
        "\n"
      ]
    },
    {
      "cell_type": "code",
      "execution_count": null,
      "metadata": {
        "id": "V1sTi4aWH8oD",
        "outputId": "bbe37063-fff0-4fbb-96ea-f19d9ed95fb8"
      },
      "outputs": [
        {
          "name": "stdout",
          "output_type": "stream",
          "text": [
            "[[ 6  7]\n",
            " [10 11]]\n"
          ]
        }
      ],
      "source": [
        "print(arr[1:,1:3])"
      ]
    },
    {
      "cell_type": "code",
      "execution_count": null,
      "metadata": {
        "id": "9vjKUg4QH8oD",
        "outputId": "d4196803-e99c-4223-ba64-0bd79db4ffb1"
      },
      "outputs": [
        {
          "name": "stdout",
          "output_type": "stream",
          "text": [
            "1\n",
            "[[3 4]\n",
            " [7 8]]\n"
          ]
        }
      ],
      "source": [
        "print(arr[0][0])\n",
        "print(arr[0:2,2:])"
      ]
    },
    {
      "cell_type": "code",
      "execution_count": null,
      "metadata": {
        "id": "eIRX9mrgH8oE",
        "outputId": "a8a80749-a9ed-4abb-9170-a4af546744fe"
      },
      "outputs": [
        {
          "data": {
            "text/plain": [
              "array([[ 7,  8],\n",
              "       [11, 12]])"
            ]
          },
          "execution_count": 29,
          "metadata": {},
          "output_type": "execute_result"
        }
      ],
      "source": [
        "arr[1:,2:]"
      ]
    },
    {
      "cell_type": "code",
      "execution_count": null,
      "metadata": {
        "id": "noz2vHEAH8oE",
        "outputId": "658c869b-af98-4c5d-dc8a-8230fbe3f5e3"
      },
      "outputs": [
        {
          "name": "stdout",
          "output_type": "stream",
          "text": [
            "[[100   2   3   4]\n",
            " [  5   6   7   8]\n",
            " [  9  10  11  12]]\n"
          ]
        }
      ],
      "source": [
        "## Modify array elements\n",
        "arr[0,0]=100\n",
        "print(arr)"
      ]
    },
    {
      "cell_type": "code",
      "execution_count": null,
      "metadata": {
        "id": "53MSV7j8H8oE",
        "outputId": "d1467415-5e5d-423f-bb4e-492dd3fd3fae"
      },
      "outputs": [
        {
          "name": "stdout",
          "output_type": "stream",
          "text": [
            "[[100   2   3   4]\n",
            " [100 100 100 100]\n",
            " [100 100 100 100]]\n"
          ]
        }
      ],
      "source": [
        "arr[1:]=100\n",
        "print(arr)"
      ]
    },
    {
      "cell_type": "code",
      "execution_count": null,
      "metadata": {
        "id": "oq6Bu0xrH8oE",
        "outputId": "0445c61e-869e-4773-b1cc-6c260d25a282"
      },
      "outputs": [
        {
          "name": "stdout",
          "output_type": "stream",
          "text": [
            "Normalized data: [-1.41421356 -0.70710678  0.          0.70710678  1.41421356]\n"
          ]
        }
      ],
      "source": [
        "### statistical concepts--Normalization\n",
        "##to have a mean of 0 and standard deviation of 1\n",
        "data = np.array([1, 2, 3, 4, 5])\n",
        "\n",
        "# Calculate the mean and standard deviation\n",
        "mean = np.mean(data)\n",
        "std_dev = np.std(data)\n",
        "\n",
        "# Normalize the data\n",
        "normalized_data = (data - mean) / std_dev\n",
        "print(\"Normalized data:\", normalized_data)\n",
        "\n"
      ]
    },
    {
      "cell_type": "code",
      "execution_count": null,
      "metadata": {
        "id": "nIwb_OizH8oE",
        "outputId": "cca527d9-988b-450a-ccd3-94bc0ea17b55"
      },
      "outputs": [
        {
          "name": "stdout",
          "output_type": "stream",
          "text": [
            "Mean: 5.5\n",
            "Median: 5.5\n",
            "Standard Deviation: 2.8722813232690143\n",
            "Variance: 8.25\n"
          ]
        }
      ],
      "source": [
        "data = np.array([1, 2, 3, 4, 5, 6, 7, 8, 9, 10])\n",
        "\n",
        "# Mean\n",
        "mean = np.mean(data)\n",
        "print(\"Mean:\", mean)\n",
        "\n",
        "# Median\n",
        "median = np.median(data)\n",
        "print(\"Median:\", median)\n",
        "\n",
        "# Standard deviation\n",
        "std_dev = np.std(data)\n",
        "print(\"Standard Deviation:\", std_dev)\n",
        "\n",
        "# Variance\n",
        "variance = np.var(data)\n",
        "print(\"Variance:\", variance)\n",
        "\n"
      ]
    },
    {
      "cell_type": "code",
      "execution_count": null,
      "metadata": {
        "id": "x6IF4FL9H8oF",
        "outputId": "136ec566-d651-4247-b358-a843953d241b"
      },
      "outputs": [
        {
          "data": {
            "text/plain": [
              "array([5, 6, 7, 8])"
            ]
          },
          "execution_count": 48,
          "metadata": {},
          "output_type": "execute_result"
        }
      ],
      "source": [
        "## Logical operation\n",
        "data=np.array([1,2,3,4,5,6,7,8,9,10])\n",
        "\n",
        "data[(data>=5) & (data<=8)]"
      ]
    },
    {
      "cell_type": "code",
      "execution_count": null,
      "metadata": {
        "id": "QCTGibZpH8oF"
      },
      "outputs": [],
      "source": []
    },
    {
      "cell_type": "code",
      "execution_count": null,
      "metadata": {
        "id": "fnH3B-DaH8oF"
      },
      "outputs": [],
      "source": []
    }
  ],
  "metadata": {
    "kernelspec": {
      "display_name": "Python 3",
      "language": "python",
      "name": "python3"
    },
    "language_info": {
      "codemirror_mode": {
        "name": "ipython",
        "version": 3
      },
      "file_extension": ".py",
      "mimetype": "text/x-python",
      "name": "python",
      "nbconvert_exporter": "python",
      "pygments_lexer": "ipython3",
      "version": "3.12.0"
    },
    "colab": {
      "provenance": [],
      "include_colab_link": true
    }
  },
  "nbformat": 4,
  "nbformat_minor": 0
}