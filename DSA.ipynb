{
  "nbformat": 4,
  "nbformat_minor": 0,
  "metadata": {
    "colab": {
      "provenance": [],
      "authorship_tag": "ABX9TyOW6ENu19Ead9QLiP+b2GxI",
      "include_colab_link": true
    },
    "kernelspec": {
      "name": "python3",
      "display_name": "Python 3"
    },
    "language_info": {
      "name": "python"
    }
  },
  "cells": [
    {
      "cell_type": "markdown",
      "metadata": {
        "id": "view-in-github",
        "colab_type": "text"
      },
      "source": [
        "<a href=\"https://colab.research.google.com/github/Paromita2001/githubds_py/blob/main/DSA.ipynb\" target=\"_parent\"><img src=\"https://colab.research.google.com/assets/colab-badge.svg\" alt=\"Open In Colab\"/></a>"
      ]
    },
    {
      "cell_type": "code",
      "execution_count": 2,
      "metadata": {
        "colab": {
          "base_uri": "https://localhost:8080/"
        },
        "id": "tGB0niWhxD49",
        "outputId": "e136b974-4e49-4630-8e54-2da3521eae22"
      },
      "outputs": [
        {
          "output_type": "stream",
          "name": "stdout",
          "text": [
            "nohtyP si siht olleh\n"
          ]
        }
      ],
      "source": [
        "# 1. Reverse a String\n",
        "\n",
        "# Input: \"hello this is Python\"\n",
        "# Output: \"nohtyP si sith olleh\"\n",
        "\n",
        "def sent(words):\n",
        "  rev=''\n",
        "  for i in words:\n",
        "    rev= str(i)+rev\n",
        "    #print()\n",
        "  return rev\n",
        "\n",
        "print(sent(\"hello this is Python\"))\n",
        "\n",
        "\n"
      ]
    },
    {
      "cell_type": "code",
      "source": [
        "# 2. Check if Number is Prime\n",
        "\n",
        "# Input: 7\n",
        "# Output: True\n",
        "\n",
        "def is_prime(n):\n",
        "    if n <= 1:\n",
        "        return False\n",
        "\n",
        "    for i in range(2, int(n ** 0.5) + 1):\n",
        "        if n % i == 0:\n",
        "            return False\n",
        "    return True\n",
        "\n",
        "print(is_prime(7))\n"
      ],
      "metadata": {
        "colab": {
          "base_uri": "https://localhost:8080/"
        },
        "id": "ATMwMpqnyAzF",
        "outputId": "826b134a-d4a4-4633-a2c9-39069ddb62b3"
      },
      "execution_count": 16,
      "outputs": [
        {
          "output_type": "stream",
          "name": "stdout",
          "text": [
            "True\n"
          ]
        }
      ]
    },
    {
      "cell_type": "code",
      "source": [
        "# 3. Count Vowels and Consonants\n",
        "# Input: \"Hello World\"\n",
        "# Output: {'vowels': 3, 'consonants': 7}\n",
        "\n",
        "def sent(words):\n",
        "  vow_count=0\n",
        "  cons_count=0\n",
        "  vow='AEIOUaeiou'\n",
        "  for i in words:\n",
        "    if i in vow:\n",
        "      vow_count+=1\n",
        "    else:\n",
        "      cons_count+=1\n",
        "  return vow_count, cons_count\n",
        "print(sent(\"Hello World\"))\n",
        ""
      ],
      "metadata": {
        "colab": {
          "base_uri": "https://localhost:8080/"
        },
        "id": "Zi2qKik4BC8l",
        "outputId": "bc1ea3e6-e913-4825-c03d-bc45fd61dafe"
      },
      "execution_count": 5,
      "outputs": [
        {
          "output_type": "stream",
          "name": "stdout",
          "text": [
            "(3, 8)\n"
          ]
        }
      ]
    },
    {
      "cell_type": "code",
      "source": [
        "# 4. Palindrome Checker\n",
        "\n",
        "# Input: \"racecar\"\n",
        "# Output: True\n",
        "\n",
        "def pal(word):\n",
        "  rev=''\n",
        "  for i in word:\n",
        "    rev= str(i)+rev\n",
        "  return word==rev\n",
        "print(pal(\"racecar\"))"
      ],
      "metadata": {
        "colab": {
          "base_uri": "https://localhost:8080/"
        },
        "id": "LGHP1P3MBDLO",
        "outputId": "4adec83f-d06c-425a-8507-08c33928607f"
      },
      "execution_count": 9,
      "outputs": [
        {
          "output_type": "stream",
          "name": "stdout",
          "text": [
            "True\n"
          ]
        }
      ]
    },
    {
      "cell_type": "code",
      "source": [
        "# 5. Find Maximum in List\n",
        "\n",
        "\n",
        "# Input: [3, 7, 2, 9, 1]\n",
        "# Output: 9\n",
        "def num(n):\n",
        "  max=n[0]\n",
        "  for i in range(1,len(n)):\n",
        "    if n[i]>max:\n",
        "      max=n[i]\n",
        "  return max\n",
        "print(num([3, 7, 2, 9, 1]))"
      ],
      "metadata": {
        "colab": {
          "base_uri": "https://localhost:8080/"
        },
        "id": "koTM8rClBDRL",
        "outputId": "9340aec0-2f81-47ac-c80b-fc43bd4d3370"
      },
      "execution_count": 12,
      "outputs": [
        {
          "output_type": "stream",
          "name": "stdout",
          "text": [
            "9\n"
          ]
        }
      ]
    },
    {
      "cell_type": "code",
      "source": [
        "# 6. Sum of Digits\n",
        "\n",
        "# Input: 1234\n",
        "# Output: 10\n",
        "def num(n):\n",
        "  sum=0\n",
        "  for i in str(n):\n",
        "    sum+=int(i)\n",
        "  return sum\n",
        "print(num(1234))"
      ],
      "metadata": {
        "colab": {
          "base_uri": "https://localhost:8080/"
        },
        "id": "5L7pH39tBDVv",
        "outputId": "585586c6-6eb2-49ef-a546-bba1c0d4e6ac"
      },
      "execution_count": 13,
      "outputs": [
        {
          "output_type": "stream",
          "name": "stdout",
          "text": [
            "10\n"
          ]
        }
      ]
    },
    {
      "cell_type": "code",
      "source": [
        "# 7. Anagram Checker\n",
        "\n",
        "# Input: (\"listen\", \"silent\")\n",
        "# Output: True\n",
        "def is_anagram(word1, word2):\n",
        "    word1 = word1.lower()\n",
        "    word2 = word2.lower()\n",
        "\n",
        "    return sorted(word1) == sorted(word2)\n",
        "\n",
        "print(is_anagram(\"listen\", \"silent\"))\n"
      ],
      "metadata": {
        "colab": {
          "base_uri": "https://localhost:8080/"
        },
        "id": "IMVvanvYBDXU",
        "outputId": "83a47a06-57b8-45cd-e577-49b1fbf27b4c"
      },
      "execution_count": 15,
      "outputs": [
        {
          "output_type": "stream",
          "name": "stdout",
          "text": [
            "True\n"
          ]
        }
      ]
    },
    {
      "cell_type": "code",
      "source": [
        "# 8. Find Missing Number\n",
        "\n",
        "# Input: [1, 2, 4, 5, 6]  # n=6\n",
        "# Output: 3\n",
        "\n",
        "def num(n):\n",
        "  for i in range(1, len(n)):\n",
        "    if i not in n:\n",
        "      return i\n",
        "print(num([1, 2, 4, 5, 6] ))"
      ],
      "metadata": {
        "colab": {
          "base_uri": "https://localhost:8080/"
        },
        "id": "Ibv8IkhCBDah",
        "outputId": "bda007b2-03b2-488b-e856-fd1567fefc43"
      },
      "execution_count": 14,
      "outputs": [
        {
          "output_type": "stream",
          "name": "stdout",
          "text": [
            "3\n"
          ]
        }
      ]
    },
    {
      "cell_type": "code",
      "source": [
        "# 9. Remove Duplicates from List\n",
        "\n",
        "# Input: [1, 2, 2, 3, 4, 4, 5]\n",
        "# Output: [1, 2, 3, 4, 5]\n",
        "def num(lst):\n",
        "  no_dup=[]\n",
        "  for i in lst:\n",
        "    if i not in no_dup:\n",
        "      no_dup.append(i)\n",
        "  return no_dup\n",
        "print(num([1,2,2,3,4,4,5]))"
      ],
      "metadata": {
        "colab": {
          "base_uri": "https://localhost:8080/"
        },
        "id": "MMzOTFRsBDdr",
        "outputId": "0af9cf79-1842-47ec-c98c-9cc5c4b16f2d"
      },
      "execution_count": 17,
      "outputs": [
        {
          "output_type": "stream",
          "name": "stdout",
          "text": [
            "[1, 2, 3, 4, 5]\n"
          ]
        }
      ]
    },
    {
      "cell_type": "code",
      "source": [
        "# 10. Word Counter\n",
        "\n",
        "# Input: \"data science is data driven\"\n",
        "# Output: {'data': 2, 'science': 1, 'is': 1, 'driven': 1}\n",
        "\n",
        "def sent(words):\n",
        "    word_list = words.split()\n",
        "    count_dict = {}\n",
        "\n",
        "    for word in word_list:\n",
        "        if word in count_dict:\n",
        "            count_dict[word] += 1\n",
        "        else:\n",
        "            count_dict[word] = 1\n",
        "\n",
        "    return count_dict\n",
        "\n"
      ],
      "metadata": {
        "colab": {
          "base_uri": "https://localhost:8080/"
        },
        "id": "lqx435jyBDj_",
        "outputId": "e4856f9e-3ec8-4739-9198-f4d5134709d7"
      },
      "execution_count": 20,
      "outputs": [
        {
          "output_type": "stream",
          "name": "stdout",
          "text": [
            "None\n"
          ]
        }
      ]
    },
    {
      "cell_type": "code",
      "source": [
        "# 11. List Comprehension with Conditions\n",
        "\n",
        "# Input: [1, 2, 3, 4, 5]\n",
        "# Output: [1, 4, 27, 16, 125]  # odd cubed, even squared\n",
        "nums=[1,2,3,4,5]\n",
        "result = [i**2 if i % 2 == 0 else i**3 for i in nums]\n",
        "print(result)"
      ],
      "metadata": {
        "colab": {
          "base_uri": "https://localhost:8080/"
        },
        "id": "aKZtN6iTBDm-",
        "outputId": "9401b655-40c0-40a9-890b-d836ab34d22b"
      },
      "execution_count": 18,
      "outputs": [
        {
          "output_type": "stream",
          "name": "stdout",
          "text": [
            "[1, 4, 27, 16, 125]\n"
          ]
        }
      ]
    },
    {
      "cell_type": "code",
      "source": [],
      "metadata": {
        "id": "FrM7hMqpBDqX"
      },
      "execution_count": null,
      "outputs": []
    },
    {
      "cell_type": "code",
      "source": [],
      "metadata": {
        "id": "d1IZ4_EVBD0L"
      },
      "execution_count": null,
      "outputs": []
    }
  ]
}