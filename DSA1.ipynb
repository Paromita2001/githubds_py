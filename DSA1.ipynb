{
  "nbformat": 4,
  "nbformat_minor": 0,
  "metadata": {
    "colab": {
      "provenance": [],
      "authorship_tag": "ABX9TyNmEUacccPfWx2vNreBNbhN",
      "include_colab_link": true
    },
    "kernelspec": {
      "name": "python3",
      "display_name": "Python 3"
    },
    "language_info": {
      "name": "python"
    }
  },
  "cells": [
    {
      "cell_type": "markdown",
      "metadata": {
        "id": "view-in-github",
        "colab_type": "text"
      },
      "source": [
        "<a href=\"https://colab.research.google.com/github/Paromita2001/githubds_py/blob/main/DSA1.ipynb\" target=\"_parent\"><img src=\"https://colab.research.google.com/assets/colab-badge.svg\" alt=\"Open In Colab\"/></a>"
      ]
    },
    {
      "cell_type": "code",
      "execution_count": 7,
      "metadata": {
        "colab": {
          "base_uri": "https://localhost:8080/"
        },
        "id": "3fDHLPusC95A",
        "outputId": "a6729480-31fd-4c34-98f8-ceb858cbcbfd"
      },
      "outputs": [
        {
          "output_type": "stream",
          "name": "stdout",
          "text": [
            "d:{'h': 1, 'e': 1, 'l': 3, 'o': 2, ' ': 1, 'w': 1, 'r': 1, 'd': 1}\n"
          ]
        }
      ],
      "source": [
        "#Count the Frequency of Each Character in a String\n",
        "sent='hello world'\n",
        "count=0\n",
        "present={}\n",
        "for i in sent:\n",
        "  if i in present:\n",
        "    present[i]+=1\n",
        "  else:\n",
        "    present[i]=1\n",
        "print(f'{i}:{present}')"
      ]
    },
    {
      "cell_type": "code",
      "source": [
        "#Find the Largest Number in a List\n",
        "list1=[10,3,15,2,9,1]\n",
        "l=list1[0]\n",
        "for i in list1:\n",
        "  if i>l:\n",
        "    l=i\n",
        "print(l)\n",
        "\n"
      ],
      "metadata": {
        "colab": {
          "base_uri": "https://localhost:8080/"
        },
        "id": "G7JyuO51H3HO",
        "outputId": "f4d9c778-e6b9-46e2-c3fc-4411d74348b5"
      },
      "execution_count": 8,
      "outputs": [
        {
          "output_type": "stream",
          "name": "stdout",
          "text": [
            "15\n"
          ]
        }
      ]
    },
    {
      "cell_type": "code",
      "source": [
        "#Find the Second Largest Number in a List\n",
        "list1=[10, 3, 15, 2, 19, 16, 30]\n",
        "for i in list1:\n",
        "  if i==max(list1):\n",
        "    list1.remove(i)\n",
        "print(max(list1))"
      ],
      "metadata": {
        "colab": {
          "base_uri": "https://localhost:8080/"
        },
        "id": "kbLrXB2nLecH",
        "outputId": "eec833bb-240d-4bf6-89ec-0952e62dcc91"
      },
      "execution_count": 14,
      "outputs": [
        {
          "output_type": "stream",
          "name": "stdout",
          "text": [
            "19\n"
          ]
        }
      ]
    },
    {
      "cell_type": "code",
      "source": [
        "#Count the Number of Words in a Sentence\n",
        "sent= 'I am from odisha'\n",
        "count=0\n",
        "word=sent.split(' ')\n",
        "for i in word:\n",
        "  count+=1\n",
        "print(count)\n",
        "\n",
        "\n",
        "# sent='I am from odisha'\n",
        "# word=sent.split()\n",
        "# print(len(word))\n"
      ],
      "metadata": {
        "colab": {
          "base_uri": "https://localhost:8080/"
        },
        "id": "q7RKK1SIL6Wq",
        "outputId": "0a47652d-3d68-4a6f-b45a-3e45f3edcad0"
      },
      "execution_count": 29,
      "outputs": [
        {
          "output_type": "stream",
          "name": "stdout",
          "text": [
            "4\n"
          ]
        }
      ]
    },
    {
      "cell_type": "code",
      "source": [
        "#Remove Duplicate Elements from a List\n",
        "list2=[63, 10, 10, 34, 45]\n",
        "\n",
        "new_list=[]\n",
        "for i in list2:\n",
        "  if i not in new_list:\n",
        "    new_list.append(i)\n",
        "print(new_list)\n",
        "\n",
        "# for in list2:\n",
        "#   if list2.count>1:\n",
        "#     list2.remove(i)\n",
        "# print(list2)"
      ],
      "metadata": {
        "colab": {
          "base_uri": "https://localhost:8080/"
        },
        "id": "_B293cULMA7x",
        "outputId": "0ee60c2e-f239-49a9-9a28-fd773ef55ad6"
      },
      "execution_count": 36,
      "outputs": [
        {
          "output_type": "stream",
          "name": "stdout",
          "text": [
            "[63, 10, 34, 45]\n"
          ]
        }
      ]
    }
  ]
}