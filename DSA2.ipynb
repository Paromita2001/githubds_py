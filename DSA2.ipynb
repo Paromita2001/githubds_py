{
  "nbformat": 4,
  "nbformat_minor": 0,
  "metadata": {
    "colab": {
      "provenance": [],
      "authorship_tag": "ABX9TyOrnEGuDs/PWD/vwUZhsmSh",
      "include_colab_link": true
    },
    "kernelspec": {
      "name": "python3",
      "display_name": "Python 3"
    },
    "language_info": {
      "name": "python"
    }
  },
  "cells": [
    {
      "cell_type": "markdown",
      "metadata": {
        "id": "view-in-github",
        "colab_type": "text"
      },
      "source": [
        "<a href=\"https://colab.research.google.com/github/Paromita2001/githubds_py/blob/main/DSA2.ipynb\" target=\"_parent\"><img src=\"https://colab.research.google.com/assets/colab-badge.svg\" alt=\"Open In Colab\"/></a>"
      ]
    },
    {
      "cell_type": "markdown",
      "source": [
        "#1. Check if All Elements in a List Are Unique\n",
        "Input: [1, 2, 3, 4]\n",
        "Output: True\n",
        "\n",
        "Input: [1, 2, 2, 3]\n",
        "Output: False"
      ],
      "metadata": {
        "id": "xU2KDpM_gU-2"
      }
    },
    {
      "cell_type": "code",
      "execution_count": 21,
      "metadata": {
        "colab": {
          "base_uri": "https://localhost:8080/"
        },
        "id": "T3G2qwdmff5n",
        "outputId": "5110b233-e1b3-4468-e022-bd6aba7d0978"
      },
      "outputs": [
        {
          "output_type": "stream",
          "name": "stdout",
          "text": [
            "True\n",
            "False\n"
          ]
        }
      ],
      "source": [
        "def all_unique(lst):\n",
        "    for i in range(len(lst)):  #0-3\n",
        "        for j in range(i + 1, len(lst)): #1, 3\n",
        "            if lst[i] == lst[j]:\n",
        "                return False\n",
        "    return True\n",
        "print(all_unique([1, 2, 3, 4]))\n",
        "print(all_unique([1, 2, 2, 3]))\n",
        ""
      ]
    },
    {
      "cell_type": "markdown",
      "source": [
        "#2. Find the Index of a Given Element in a List (without using index())\n",
        "Input: [10, 20, 30, 40], target = 30\n",
        "Output: 2"
      ],
      "metadata": {
        "id": "RUvqRpQWlJYF"
      }
    },
    {
      "cell_type": "code",
      "source": [
        "list2=[10, 20, 30, 40]\n",
        "num=int(input('Enter a number:'))\n",
        "num_found= False\n",
        "for i in range(0, len(list2)):\n",
        "  if list2[i]==num:\n",
        "    print(i)\n",
        "    num_found=True\n",
        "if num_found is False:\n",
        "  print('Number is not in the list')"
      ],
      "metadata": {
        "colab": {
          "base_uri": "https://localhost:8080/"
        },
        "id": "jXDEmxUllISz",
        "outputId": "909baa89-85d7-4db5-829b-51fd7df62af7"
      },
      "execution_count": 2,
      "outputs": [
        {
          "output_type": "stream",
          "name": "stdout",
          "text": [
            "Enter a number:30\n",
            "2\n"
          ]
        }
      ]
    },
    {
      "cell_type": "markdown",
      "source": [
        "#3. Calculate the Average of a List of Numbers\n",
        "Input: [10, 20, 30]\n",
        "Output: 20.0"
      ],
      "metadata": {
        "id": "QteBxP7hnfLR"
      }
    },
    {
      "cell_type": "code",
      "source": [
        "list2=[10, 20, 30, 40]\n",
        "count=0\n",
        "for i in list2:\n",
        "  count+=i\n",
        "print(count/len(list2))\n",
        "\n"
      ],
      "metadata": {
        "colab": {
          "base_uri": "https://localhost:8080/"
        },
        "id": "rCjIwG2Xn6ZS",
        "outputId": "43ff3278-5e29-42d6-9c70-393119b5fe6f"
      },
      "execution_count": 5,
      "outputs": [
        {
          "output_type": "stream",
          "name": "stdout",
          "text": [
            "25.0\n"
          ]
        }
      ]
    },
    {
      "cell_type": "markdown",
      "source": [
        "#4. Print All Prime Numbers Between 1 and N\n",
        "Input: 10\n",
        "Output: 2, 3, 5, 7"
      ],
      "metadata": {
        "id": "JEi5ZZuFn5kr"
      }
    },
    {
      "cell_type": "code",
      "source": [
        "n=int(input('num'))\n",
        "print(i)\n",
        "\n",
        "for num in range(0,n+1):\n",
        "    if num > 1:\n",
        "        for i in range(2, int(num ** 0.5) + 1):\n",
        "            if num % i == 0:\n",
        "                break\n",
        "        else:\n",
        "            print(num, end=\"\\n\")\n",
        "\n"
      ],
      "metadata": {
        "colab": {
          "base_uri": "https://localhost:8080/"
        },
        "id": "0a5BeVAxnFkQ",
        "outputId": "6ea1a366-a9bc-4f94-ca28-76b0c6f0ca5f"
      },
      "execution_count": 12,
      "outputs": [
        {
          "output_type": "stream",
          "name": "stdout",
          "text": [
            "num20\n",
            "2\n",
            "2\n",
            "3\n",
            "5\n",
            "7\n",
            "11\n",
            "13\n",
            "17\n",
            "19\n"
          ]
        }
      ]
    },
    {
      "cell_type": "markdown",
      "source": [
        "#5. Swap First and Last Elements in a List\n",
        "Input: [1, 2, 3, 4]\n",
        "Output: [4, 2, 3, 1]"
      ],
      "metadata": {
        "id": "HGtbCIrpoPGX"
      }
    },
    {
      "cell_type": "code",
      "source": [
        "list3=[1,2,3,4,7]\n",
        "for i in range (len(list3)):\n",
        "  first_num=list3[0]\n",
        "  if i==len(list3)-1:\n",
        "    list3[0]=list3[i]\n",
        "    list3[i]=first_num\n",
        "print(list3)"
      ],
      "metadata": {
        "colab": {
          "base_uri": "https://localhost:8080/"
        },
        "id": "Fheaj4x1ucVM",
        "outputId": "6be1fd52-e9d6-419e-e537-d786cfb022f1"
      },
      "execution_count": 18,
      "outputs": [
        {
          "output_type": "stream",
          "name": "stdout",
          "text": [
            "[7, 2, 3, 4, 1]\n"
          ]
        }
      ]
    },
    {
      "cell_type": "markdown",
      "source": [
        "#6. Check if a List is Sorted (Ascending)\n",
        "Input: [1, 2, 3, 4]\n",
        "Output: True\n",
        "\n",
        "Input: [4, 2, 1]\n",
        "Output: False"
      ],
      "metadata": {
        "id": "y8-thbzD5vGh"
      }
    },
    {
      "cell_type": "code",
      "source": [
        "def all_unique(lst):\n",
        "    for i in range(len(lst)):  #0-3\n",
        "        for j in range(i + 1, len(lst)): #1, 3\n",
        "            if lst[i]<lst[j]:\n",
        "                return True\n",
        "    return False\n",
        "print(all_unique([1, 3, 2, 4]))\n",
        "print(all_unique([1, 2, 2, 3]))\n",
        "\n"
      ],
      "metadata": {
        "colab": {
          "base_uri": "https://localhost:8080/"
        },
        "id": "j9JRe0fD5tnq",
        "outputId": "d4aa5b06-8cf2-4a31-bf91-d9f56ae1ae8b"
      },
      "execution_count": 22,
      "outputs": [
        {
          "output_type": "stream",
          "name": "stdout",
          "text": [
            "True\n",
            "True\n"
          ]
        }
      ]
    },
    {
      "cell_type": "markdown",
      "source": [
        "#7. Count the Number of Capital Letters in a String\n",
        "Input: \"DataScience\"\n",
        "Output: 2"
      ],
      "metadata": {
        "id": "Ky76NwTa5vyP"
      }
    },
    {
      "cell_type": "code",
      "source": [
        "def count_capitals(s):\n",
        "    count = 0\n",
        "    for char in s:\n",
        "        if char.isupper():\n",
        "            count += 1\n",
        "    return count\n",
        "print(count_capitals(\"DataScience\"))\n"
      ],
      "metadata": {
        "colab": {
          "base_uri": "https://localhost:8080/"
        },
        "id": "-AxbWvId5trO",
        "outputId": "4a7a0702-5247-4844-f2b2-4de95535ab62"
      },
      "execution_count": 23,
      "outputs": [
        {
          "output_type": "stream",
          "name": "stdout",
          "text": [
            "2\n"
          ]
        }
      ]
    }
  ]
}