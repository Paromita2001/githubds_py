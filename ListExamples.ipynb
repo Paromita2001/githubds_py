{
  "cells": [
    {
      "cell_type": "markdown",
      "metadata": {
        "id": "view-in-github",
        "colab_type": "text"
      },
      "source": [
        "<a href=\"https://colab.research.google.com/github/Paromita2001/githubds_py/blob/main/ListExamples.ipynb\" target=\"_parent\"><img src=\"https://colab.research.google.com/assets/colab-badge.svg\" alt=\"Open In Colab\"/></a>"
      ]
    },
    {
      "cell_type": "markdown",
      "metadata": {
        "id": "VkJvb5oaM5HK"
      },
      "source": [
        "#### Real-World Examples Using Lists in Python\n",
        "Lists are one of the most commonly used data structures in Python, thanks to their versatility and ease of use. Here are several practical examples that illustrate their use in real-world scenarios"
      ]
    },
    {
      "cell_type": "markdown",
      "metadata": {
        "id": "jE2WDnA7M5HM"
      },
      "source": [
        "##### Example 1. Manage A To Do List\n",
        "- Create a To Do List To Keep Track OF Tasks"
      ]
    },
    {
      "cell_type": "code",
      "execution_count": null,
      "metadata": {
        "id": "UF-NNDXMM5HM",
        "outputId": "370e0b39-e9b6-4685-ccf1-a22899d1e98a"
      },
      "outputs": [
        {
          "name": "stdout",
          "output_type": "stream",
          "text": [
            "Don't forgrt to pay the utility bills\n",
            "To Do List remaining\n",
            "-Buy Groceries\n",
            "-Pay bills\n",
            "-Schedule meeting\n",
            "-Go For a Run\n"
          ]
        }
      ],
      "source": [
        "to_do_list=[\"Buy Groceries\",\"Clean the house\",\"Pay bills\"]\n",
        "\n",
        "## Adding to task\n",
        "to_do_list.append(\"Schedule meeting\")\n",
        "to_do_list.append(\"Go For a Run\")\n",
        "\n",
        "## Removing a completed task\n",
        "to_do_list.remove(\"Clean the house\")\n",
        "\n",
        "## checking if a task is in the list\n",
        "if \"Pay bills\" in to_do_list:\n",
        "    print(\"Don't forgrt to pay the utility bills\")\n",
        "\n",
        "print(\"To Do List remaining\")\n",
        "for task in to_do_list:\n",
        "    print(f\"-{task}\")"
      ]
    },
    {
      "cell_type": "markdown",
      "metadata": {
        "id": "W4-1DTCAM5HN"
      },
      "source": [
        "##### Example 2: Organizing Student Grades\n",
        "- Create a list to store and calculate average grades for students"
      ]
    },
    {
      "cell_type": "code",
      "execution_count": null,
      "metadata": {
        "id": "ZTZY-R5tM5HO",
        "outputId": "b27dc449-2925-49f2-a8a7-361df4362007"
      },
      "outputs": [
        {
          "name": "stdout",
          "output_type": "stream",
          "text": [
            "Average Grade: 88.00\n",
            "Highest Grade: 95\n",
            "Lowest Grade: 78\n"
          ]
        }
      ],
      "source": [
        "# Organizing student grades\n",
        "grades = [85, 92, 78, 90, 88]\n",
        "\n",
        "# Adding a new grade\n",
        "grades.append(95)\n",
        "\n",
        "# Calculating the average grade\n",
        "average_grade = sum(grades) / len(grades)\n",
        "print(f\"Average Grade: {average_grade:.2f}\")\n",
        "\n",
        "# Finding the highest and lowest grades\n",
        "highest_grade = max(grades)\n",
        "lowest_grade = min(grades)\n",
        "print(f\"Highest Grade: {highest_grade}\")\n",
        "print(f\"Lowest Grade: {lowest_grade}\")\n"
      ]
    },
    {
      "cell_type": "markdown",
      "metadata": {
        "id": "r-PChapWM5HO"
      },
      "source": [
        "##### Example 3: Managing An Inventory\n",
        "- Use a list to manage inventory items in a store"
      ]
    },
    {
      "cell_type": "code",
      "execution_count": null,
      "metadata": {
        "id": "qTZ0Vle9M5HO",
        "outputId": "02e775f4-f27e-4a97-b738-5b9d89c34b1f"
      },
      "outputs": [
        {
          "name": "stdout",
          "output_type": "stream",
          "text": [
            "oranges are in stock.\n",
            "Inventory List:\n",
            "- apples\n",
            "- oranges\n",
            "- grapes\n",
            "- strawberries\n"
          ]
        }
      ],
      "source": [
        "# Managing an inventory\n",
        "inventory = [\"apples\", \"bananas\", \"oranges\", \"grapes\"]\n",
        "\n",
        "# Adding a new item\n",
        "inventory.append(\"strawberries\")\n",
        "\n",
        "# Removing an item that is out of stock\n",
        "inventory.remove(\"bananas\")\n",
        "\n",
        "# Checking if an item is in stock\n",
        "item = \"oranges\"\n",
        "if item in inventory:\n",
        "    print(f\"{item} are in stock.\")\n",
        "else:\n",
        "    print(f\"{item} are out of stock.\")\n",
        "\n",
        "# Printing the inventory\n",
        "print(\"Inventory List:\")\n",
        "for item in inventory:\n",
        "    print(f\"- {item}\")\n"
      ]
    },
    {
      "cell_type": "markdown",
      "metadata": {
        "id": "cYKkM1zxM5HO"
      },
      "source": [
        "##### Example 4:Collecting User Feedback\n",
        "- Use a list to collect and analyze user feedback."
      ]
    },
    {
      "cell_type": "code",
      "execution_count": null,
      "metadata": {
        "id": "TOZ70krbM5HO",
        "outputId": "3eff74b0-24aa-418e-d576-afd2b741a74b"
      },
      "outputs": [
        {
          "name": "stdout",
          "output_type": "stream",
          "text": [
            "Positive Feedback Count: 2\n",
            "User Feedback:\n",
            "- Great service!\n",
            "- Very satisfied\n",
            "- Could be better\n",
            "- Excellent experience\n",
            "- Not happy with the service\n"
          ]
        }
      ],
      "source": [
        "# Collecting user feedback\n",
        "feedback = [\"Great service!\", \"Very satisfied\", \"Could be better\", \"Excellent experience\"]\n",
        "\n",
        "# Adding new feedback\n",
        "feedback.append(\"Not happy with the service\")\n",
        "\n",
        "# Counting specific feedback\n",
        "positive_feedback_count = sum(1 for comment in feedback if \"great\" in comment.lower() or \"excellent\" in comment.lower())\n",
        "print(f\"Positive Feedback Count: {positive_feedback_count}\")\n",
        "\n",
        "# Printing all feedback\n",
        "print(\"User Feedback:\")\n",
        "for comment in feedback:\n",
        "    print(f\"- {comment}\")\n"
      ]
    },
    {
      "cell_type": "code",
      "execution_count": null,
      "metadata": {
        "id": "3bd0vF2WM5HP"
      },
      "outputs": [],
      "source": []
    }
  ],
  "metadata": {
    "kernelspec": {
      "display_name": "Python 3",
      "language": "python",
      "name": "python3"
    },
    "language_info": {
      "codemirror_mode": {
        "name": "ipython",
        "version": 3
      },
      "file_extension": ".py",
      "mimetype": "text/x-python",
      "name": "python",
      "nbconvert_exporter": "python",
      "pygments_lexer": "ipython3",
      "version": "3.12.0"
    },
    "colab": {
      "provenance": [],
      "include_colab_link": true
    }
  },
  "nbformat": 4,
  "nbformat_minor": 0
}