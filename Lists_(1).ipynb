{
  "cells": [
    {
      "cell_type": "markdown",
      "metadata": {
        "id": "view-in-github",
        "colab_type": "text"
      },
      "source": [
        "<a href=\"https://colab.research.google.com/github/Paromita2001/githubds_py/blob/main/Lists_(1).ipynb\" target=\"_parent\"><img src=\"https://colab.research.google.com/assets/colab-badge.svg\" alt=\"Open In Colab\"/></a>"
      ]
    },
    {
      "cell_type": "markdown",
      "metadata": {
        "id": "EAoAqHocJYun"
      },
      "source": [
        "#### Introduction To Lists\n",
        "- Lists are ordered, mutable collections of items.\n",
        "- They can contain items of different data types."
      ]
    },
    {
      "cell_type": "markdown",
      "metadata": {
        "id": "D24XnUKPJYup"
      },
      "source": [
        "##### Video Outline:\n",
        "1. Introduction to Lists\n",
        "2. Creating Lists\n",
        "3. Accessing List Elements\n",
        "4. Modifying List Elements\n",
        "5. List Methods\n",
        "6. Slicing Lists\n",
        "7. Iterating Over Lists\n",
        "8. List Comprehensions\n",
        "9. Nested Lists\n",
        "10. Practical Examples and Common Errors"
      ]
    },
    {
      "cell_type": "code",
      "execution_count": null,
      "metadata": {
        "id": "AJGjrSm4JYup",
        "outputId": "1f35cb77-7158-4412-acdc-58477ef6337c"
      },
      "outputs": [
        {
          "name": "stdout",
          "output_type": "stream",
          "text": [
            "<class 'list'>\n"
          ]
        }
      ],
      "source": [
        "lst=[]\n",
        "print(type(lst))"
      ]
    },
    {
      "cell_type": "code",
      "execution_count": null,
      "metadata": {
        "id": "zf0x4GCXJYur",
        "outputId": "482428e8-85bc-4fcc-eb4f-a4688b1cab4e"
      },
      "outputs": [
        {
          "name": "stdout",
          "output_type": "stream",
          "text": [
            "['Krish', 'Jack', 'Jacob', 1, 2, 3, 4, 5]\n"
          ]
        }
      ],
      "source": [
        "names=[\"Krish\",\"Jack\",\"Jacob\",1,2,3,4,5]\n",
        "print(names)"
      ]
    },
    {
      "cell_type": "code",
      "execution_count": null,
      "metadata": {
        "id": "zl1LTBiRJYur",
        "outputId": "61aeaeb8-5f8a-414e-9570-606944e8e6a5"
      },
      "outputs": [
        {
          "name": "stdout",
          "output_type": "stream",
          "text": [
            "[1, 'Hello', 3.14, True]\n"
          ]
        }
      ],
      "source": [
        "mixed_list=[1,\"Hello\",3.14,True]\n",
        "print(mixed_list)"
      ]
    },
    {
      "cell_type": "code",
      "execution_count": null,
      "metadata": {
        "id": "oV4efYtKJYur"
      },
      "outputs": [],
      "source": [
        "### Accessing List Elements\n",
        "\n",
        "fruits=[\"apple\",\"banana\",\"cherry\",\"kiwi\",\"gauva\"]"
      ]
    },
    {
      "cell_type": "code",
      "execution_count": null,
      "metadata": {
        "id": "cjefs_QYJYur",
        "outputId": "d7ccdc35-e783-49e5-d74f-f3993ae4a443"
      },
      "outputs": [
        {
          "name": "stdout",
          "output_type": "stream",
          "text": [
            "apple\n",
            "cherry\n",
            "gauva\n",
            "gauva\n"
          ]
        }
      ],
      "source": [
        "print(fruits[0])\n",
        "print(fruits[2])\n",
        "print(fruits[4])\n",
        "print(fruits[-1])"
      ]
    },
    {
      "cell_type": "code",
      "execution_count": null,
      "metadata": {
        "id": "FCbUK75TJYus",
        "outputId": "6ec814eb-6d4b-45b7-ecbd-ed58c1726bad"
      },
      "outputs": [
        {
          "name": "stdout",
          "output_type": "stream",
          "text": [
            "['banana', 'cherry', 'kiwi', 'gauva']\n",
            "['banana', 'cherry']\n"
          ]
        }
      ],
      "source": [
        "print(fruits[1:])\n",
        "print(fruits[1:3])"
      ]
    },
    {
      "cell_type": "code",
      "execution_count": null,
      "metadata": {
        "id": "8uokodzvJYus",
        "outputId": "ccb701d4-dbd7-4a7e-956e-b5dc453a0618"
      },
      "outputs": [
        {
          "data": {
            "text/plain": [
              "['apple', 'banana', 'cherry', 'kiwi', 'gauva']"
            ]
          },
          "execution_count": 17,
          "metadata": {},
          "output_type": "execute_result"
        }
      ],
      "source": [
        "## Modifying The List elements\n",
        "fruits"
      ]
    },
    {
      "cell_type": "code",
      "execution_count": null,
      "metadata": {
        "id": "3nbBY5ADJYus",
        "outputId": "a001d37f-29df-4494-bcd1-839a477fda34"
      },
      "outputs": [
        {
          "name": "stdout",
          "output_type": "stream",
          "text": [
            "['apple', 'watermelon', 'cherry', 'kiwi', 'gauva']\n"
          ]
        }
      ],
      "source": [
        "fruits[1]=\"watermelon\"\n",
        "print(fruits)"
      ]
    },
    {
      "cell_type": "code",
      "execution_count": null,
      "metadata": {
        "id": "tq884-4gJYus"
      },
      "outputs": [],
      "source": [
        "fruits[1:]=\"watermelon\""
      ]
    },
    {
      "cell_type": "code",
      "execution_count": null,
      "metadata": {
        "id": "Lm7-FNoHJYus",
        "outputId": "14452631-9312-4d2c-be2f-d5a64eaaf142"
      },
      "outputs": [
        {
          "data": {
            "text/plain": [
              "['apple', 'w', 'a', 't', 'e', 'r', 'm', 'e', 'l', 'o', 'n']"
            ]
          },
          "execution_count": 22,
          "metadata": {},
          "output_type": "execute_result"
        }
      ],
      "source": [
        "fruits"
      ]
    },
    {
      "cell_type": "code",
      "execution_count": null,
      "metadata": {
        "id": "lbWgnRkPJYus"
      },
      "outputs": [],
      "source": [
        "fruits=[\"apple\",\"banana\",\"cherry\",\"kiwi\",\"gauva\"]"
      ]
    },
    {
      "cell_type": "code",
      "execution_count": null,
      "metadata": {
        "id": "KkuPl4Q1JYus",
        "outputId": "d8e3bda1-bcbe-47ab-fbeb-621e79cc04f2"
      },
      "outputs": [
        {
          "name": "stdout",
          "output_type": "stream",
          "text": [
            "['apple', 'banana', 'cherry', 'kiwi', 'gauva', 'orange']\n"
          ]
        }
      ],
      "source": [
        "## List Methods\n",
        "\n",
        "fruits.append(\"orange\") ## Add an item to the end\n",
        "print(fruits)"
      ]
    },
    {
      "cell_type": "code",
      "execution_count": null,
      "metadata": {
        "id": "MW-EBFJlJYut",
        "outputId": "837739aa-c744-4d6d-854b-9686d355c774"
      },
      "outputs": [
        {
          "name": "stdout",
          "output_type": "stream",
          "text": [
            "['apple', 'watermelon', 'banana', 'banana', 'cherry', 'kiwi', 'gauva', 'orange']\n"
          ]
        }
      ],
      "source": [
        "fruits.insert(1,\"watermelon\")\n",
        "print(fruits)"
      ]
    },
    {
      "cell_type": "code",
      "execution_count": null,
      "metadata": {
        "id": "TBbJJj6SJYut",
        "outputId": "e4852979-9798-4c4d-d0b0-fbfa3af52ff3"
      },
      "outputs": [
        {
          "name": "stdout",
          "output_type": "stream",
          "text": [
            "['apple', 'watermelon', 'banana', 'cherry', 'kiwi', 'gauva', 'orange']\n"
          ]
        }
      ],
      "source": [
        "fruits.remove(\"banana\") ## Removing the first occurance of an item\n",
        "print(fruits)"
      ]
    },
    {
      "cell_type": "code",
      "execution_count": null,
      "metadata": {
        "id": "3hbXKPURJYut",
        "outputId": "65971ad5-9eb2-4ef8-866e-74494a4617d4"
      },
      "outputs": [
        {
          "name": "stdout",
          "output_type": "stream",
          "text": [
            "orange\n",
            "['apple', 'watermelon', 'banana', 'cherry', 'kiwi', 'gauva']\n"
          ]
        }
      ],
      "source": [
        "## Remove and return the last element\n",
        "popped_fruits=fruits.pop()\n",
        "print(popped_fruits)\n",
        "print(fruits)"
      ]
    },
    {
      "cell_type": "code",
      "execution_count": null,
      "metadata": {
        "id": "XDzSLHk0JYut",
        "outputId": "bd50a812-bbd3-4f89-fee5-16f162ca89d4"
      },
      "outputs": [
        {
          "name": "stdout",
          "output_type": "stream",
          "text": [
            "3\n"
          ]
        }
      ],
      "source": [
        "index=fruits.index(\"cherry\")\n",
        "print(index)"
      ]
    },
    {
      "cell_type": "code",
      "execution_count": null,
      "metadata": {
        "id": "JK3wfiCsJYut",
        "outputId": "85d10058-f491-44dc-fb61-33e2b9aa987d"
      },
      "outputs": [
        {
          "name": "stdout",
          "output_type": "stream",
          "text": [
            "2\n"
          ]
        }
      ],
      "source": [
        "fruits.insert(2,\"banana\")\n",
        "print(fruits.count(\"banana\"))"
      ]
    },
    {
      "cell_type": "code",
      "execution_count": null,
      "metadata": {
        "id": "3K66eJmiJYut",
        "outputId": "5c776f10-4c5a-420f-96bf-58d79c1857bc"
      },
      "outputs": [
        {
          "data": {
            "text/plain": [
              "['apple', 'watermelon', 'banana', 'banana', 'cherry', 'kiwi', 'gauva']"
            ]
          },
          "execution_count": 31,
          "metadata": {},
          "output_type": "execute_result"
        }
      ],
      "source": [
        "fruits"
      ]
    },
    {
      "cell_type": "code",
      "execution_count": null,
      "metadata": {
        "id": "uUv4RGBlJYut"
      },
      "outputs": [],
      "source": [
        "fruits.sort() ## SSorts the list in ascending order"
      ]
    },
    {
      "cell_type": "code",
      "execution_count": null,
      "metadata": {
        "id": "8AD6ryaeJYut",
        "outputId": "cbe2bd49-13e3-42b7-edce-8ba469957a77"
      },
      "outputs": [
        {
          "data": {
            "text/plain": [
              "['apple', 'banana', 'banana', 'cherry', 'gauva', 'kiwi', 'watermelon']"
            ]
          },
          "execution_count": 33,
          "metadata": {},
          "output_type": "execute_result"
        }
      ],
      "source": [
        "fruits"
      ]
    },
    {
      "cell_type": "code",
      "execution_count": null,
      "metadata": {
        "id": "a1MpBce6JYuu"
      },
      "outputs": [],
      "source": [
        "fruits.reverse() ## REverse the list"
      ]
    },
    {
      "cell_type": "code",
      "execution_count": null,
      "metadata": {
        "id": "YLMcCZZqJYuu",
        "outputId": "a9f2c224-5260-4b19-ff8f-29c019411c13"
      },
      "outputs": [
        {
          "data": {
            "text/plain": [
              "['watermelon', 'kiwi', 'gauva', 'cherry', 'banana', 'banana', 'apple']"
            ]
          },
          "execution_count": 35,
          "metadata": {},
          "output_type": "execute_result"
        }
      ],
      "source": [
        "fruits"
      ]
    },
    {
      "cell_type": "code",
      "execution_count": null,
      "metadata": {
        "id": "iuPpWmHxJYuu",
        "outputId": "de2f73d9-7a15-4bcb-c8f1-adee23ab1dd5"
      },
      "outputs": [
        {
          "name": "stdout",
          "output_type": "stream",
          "text": [
            "[]\n"
          ]
        }
      ],
      "source": [
        "fruits.clear() ## Remove all items from the list\n",
        "\n",
        "print(fruits)"
      ]
    },
    {
      "cell_type": "code",
      "execution_count": null,
      "metadata": {
        "id": "OsZ9LoD-JYuu",
        "outputId": "d724b273-d4a2-4f04-c935-74a5953054f0"
      },
      "outputs": [
        {
          "name": "stdout",
          "output_type": "stream",
          "text": [
            "[3, 4, 5]\n",
            "[1, 2, 3, 4, 5]\n",
            "[6, 7, 8, 9, 10]\n",
            "[1, 3, 5, 7, 9]\n",
            "[10, 9, 8, 7, 6, 5, 4, 3, 2, 1]\n"
          ]
        }
      ],
      "source": [
        "## Slicing List\n",
        "numbers = [1, 2, 3, 4, 5, 6, 7, 8, 9, 10]\n",
        "print(numbers[2:5])\n",
        "print(numbers[:5])\n",
        "print(numbers[5:])\n",
        "print(numbers[::2])\n",
        "print(numbers[::-1])"
      ]
    },
    {
      "cell_type": "code",
      "execution_count": null,
      "metadata": {
        "id": "fGrQGT0OJYuu",
        "outputId": "ecfc6e63-ab23-461d-bb64-c54092fcf741"
      },
      "outputs": [
        {
          "data": {
            "text/plain": [
              "[1, 4, 7, 10]"
            ]
          },
          "execution_count": 41,
          "metadata": {},
          "output_type": "execute_result"
        }
      ],
      "source": [
        "numbers[::3]"
      ]
    },
    {
      "cell_type": "code",
      "execution_count": null,
      "metadata": {
        "id": "dyA17StgJYuu",
        "outputId": "27cbea73-e5dc-4f88-b566-c202c2019dea"
      },
      "outputs": [
        {
          "data": {
            "text/plain": [
              "[10, 8, 6, 4, 2]"
            ]
          },
          "execution_count": 42,
          "metadata": {},
          "output_type": "execute_result"
        }
      ],
      "source": [
        "numbers[::-2]"
      ]
    },
    {
      "cell_type": "code",
      "execution_count": null,
      "metadata": {
        "id": "Rr-Wru43JYuu",
        "outputId": "ac3c44b8-d4ac-44ea-b067-e883786cb934"
      },
      "outputs": [
        {
          "name": "stdout",
          "output_type": "stream",
          "text": [
            "1\n",
            "2\n",
            "3\n",
            "4\n",
            "5\n",
            "6\n",
            "7\n",
            "8\n",
            "9\n",
            "10\n"
          ]
        }
      ],
      "source": [
        "### Iterating Over List\n",
        "\n",
        "for number in numbers:\n",
        "    print(number)"
      ]
    },
    {
      "cell_type": "code",
      "execution_count": null,
      "metadata": {
        "id": "AvXtrDw6JYuu",
        "outputId": "05ba0c2c-d6ee-496c-c89e-3c988bf5b0a7"
      },
      "outputs": [
        {
          "name": "stdout",
          "output_type": "stream",
          "text": [
            "0 1\n",
            "1 2\n",
            "2 3\n",
            "3 4\n",
            "4 5\n",
            "5 6\n",
            "6 7\n",
            "7 8\n",
            "8 9\n",
            "9 10\n"
          ]
        }
      ],
      "source": [
        "## Iterating with index\n",
        "for index,number in enumerate(numbers):\n",
        "    print(index,number)"
      ]
    },
    {
      "cell_type": "code",
      "execution_count": null,
      "metadata": {
        "id": "bbWnKo1-JYuu",
        "outputId": "9163395c-a0c7-4eb8-9092-932900f1a69b"
      },
      "outputs": [
        {
          "name": "stdout",
          "output_type": "stream",
          "text": [
            "[0, 1, 4, 9, 16, 25, 36, 49, 64, 81]\n"
          ]
        }
      ],
      "source": [
        "## List comprehension\n",
        "lst=[]\n",
        "for x in range(10):\n",
        "    lst.append(x**2)\n",
        "\n",
        "print(lst)\n"
      ]
    },
    {
      "cell_type": "code",
      "execution_count": null,
      "metadata": {
        "id": "HSQjDKHDJYuu",
        "outputId": "dbecb5bb-93a9-415f-a1eb-cbc4aa3c3dea"
      },
      "outputs": [
        {
          "data": {
            "text/plain": [
              "[0, 1, 4, 9, 16, 25, 36, 49, 64, 81]"
            ]
          },
          "execution_count": 48,
          "metadata": {},
          "output_type": "execute_result"
        }
      ],
      "source": [
        "[x**2 for x in range(10)]"
      ]
    },
    {
      "cell_type": "markdown",
      "metadata": {
        "id": "DJnP2iEmJYuv"
      },
      "source": [
        "##### List Comprehension\n",
        "\n",
        "Basics Syantax            [expression for item in iterable]\n",
        "\n",
        "with conditional logic    [expression for item in iterable if condition]\n",
        "\n",
        "Nested List Comprehension [expression for item1 in iterable1 for item2 in iterable2]\n",
        "\n",
        "\n"
      ]
    },
    {
      "cell_type": "code",
      "execution_count": null,
      "metadata": {
        "id": "J-muOTxNJYuv",
        "outputId": "245414d2-7f51-4636-a8db-c56801ac8895"
      },
      "outputs": [
        {
          "name": "stdout",
          "output_type": "stream",
          "text": [
            "[0, 1, 4, 9, 16, 25, 36, 49, 64, 81]\n"
          ]
        }
      ],
      "source": [
        "### Basic List Comphrension\n",
        "\n",
        "sqaure=[num**2 for num in range(10)]\n",
        "print(sqaure)"
      ]
    },
    {
      "cell_type": "code",
      "execution_count": null,
      "metadata": {
        "id": "JliKxtrkJYuv",
        "outputId": "f5de0905-2b5d-4d50-c903-26e27cdf8596"
      },
      "outputs": [
        {
          "name": "stdout",
          "output_type": "stream",
          "text": [
            "[0, 2, 4, 6, 8]\n"
          ]
        }
      ],
      "source": [
        "### List Comprehension with Condition\n",
        "lst=[]\n",
        "for i in range(10):\n",
        "    if i%2==0:\n",
        "        lst.append(i)\n",
        "\n",
        "print(lst)\n",
        ""
      ]
    },
    {
      "cell_type": "code",
      "execution_count": null,
      "metadata": {
        "id": "2sYn1feCJYuv",
        "outputId": "82320dfd-f2fc-4d31-d921-11173dc6f140"
      },
      "outputs": [
        {
          "name": "stdout",
          "output_type": "stream",
          "text": [
            "[0, 2, 4, 6, 8]\n"
          ]
        }
      ],
      "source": [
        "even_numbers=[num for num in range(10) if num%2==0]\n",
        "print(even_numbers)"
      ]
    },
    {
      "cell_type": "code",
      "execution_count": null,
      "metadata": {
        "id": "CkTBTIWPJYuv",
        "outputId": "f50f1d38-35d6-425d-e81a-454834712789"
      },
      "outputs": [
        {
          "name": "stdout",
          "output_type": "stream",
          "text": [
            "[[1, 'a'], [1, 'b'], [1, 'c'], [1, 'd'], [2, 'a'], [2, 'b'], [2, 'c'], [2, 'd'], [3, 'a'], [3, 'b'], [3, 'c'], [3, 'd'], [4, 'a'], [4, 'b'], [4, 'c'], [4, 'd']]\n"
          ]
        }
      ],
      "source": [
        "## Nested List Comphrension\n",
        "\n",
        "lst1=[1,2,3,4]\n",
        "lst2=['a','b','c','d']\n",
        "\n",
        "pair=[[i,j] for i in lst1 for j in lst2]\n",
        "\n",
        "print(pair)\n"
      ]
    },
    {
      "cell_type": "code",
      "execution_count": null,
      "metadata": {
        "id": "NPduYN7nJYuv",
        "outputId": "720eed72-3307-4593-d8c3-f370bd54f22d"
      },
      "outputs": [
        {
          "name": "stdout",
          "output_type": "stream",
          "text": [
            "[5, 5, 6, 4, 13]\n"
          ]
        }
      ],
      "source": [
        "## List Comprehension with function calls\n",
        "words = [\"hello\", \"world\", \"python\", \"list\", \"comprehension\"]\n",
        "lengths = [len(word) for word in words]\n",
        "print(lengths)  # Output: [5, 5, 6, 4, 13]\n",
        "\n"
      ]
    },
    {
      "cell_type": "markdown",
      "metadata": {
        "id": "5-L_IWoJJYuw"
      },
      "source": [
        "#### Conclusion\n",
        "List comprehensions are a powerful and concise way to create lists in Python. They are syntactically compact and can replace more verbose looping constructs. Understanding the syntax of list comprehensions will help you write cleaner and more efficient Python code."
      ]
    },
    {
      "cell_type": "code",
      "execution_count": null,
      "metadata": {
        "id": "58NPrVIQJYuw"
      },
      "outputs": [],
      "source": []
    }
  ],
  "metadata": {
    "kernelspec": {
      "display_name": "Python 3",
      "language": "python",
      "name": "python3"
    },
    "language_info": {
      "codemirror_mode": {
        "name": "ipython",
        "version": 3
      },
      "file_extension": ".py",
      "mimetype": "text/x-python",
      "name": "python",
      "nbconvert_exporter": "python",
      "pygments_lexer": "ipython3",
      "version": "3.12.0"
    },
    "colab": {
      "provenance": [],
      "include_colab_link": true
    }
  },
  "nbformat": 4,
  "nbformat_minor": 0
}