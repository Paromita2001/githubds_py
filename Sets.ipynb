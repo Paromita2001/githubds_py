{
  "cells": [
    {
      "cell_type": "markdown",
      "metadata": {
        "id": "view-in-github",
        "colab_type": "text"
      },
      "source": [
        "<a href=\"https://colab.research.google.com/github/Paromita2001/githubds_py/blob/main/Sets.ipynb\" target=\"_parent\"><img src=\"https://colab.research.google.com/assets/colab-badge.svg\" alt=\"Open In Colab\"/></a>"
      ]
    },
    {
      "cell_type": "markdown",
      "metadata": {
        "id": "PRQAogslAnYU"
      },
      "source": [
        "#### Sets\n",
        "Sets are a built-in data type in Python used to store collections of unique items. They are unordered, meaning that the elements do not follow a specific order, and they do not allow duplicate elements. Sets are useful for membership tests, eliminating duplicate entries, and performing mathematical set operations like union, intersection, difference, and symmetric difference."
      ]
    },
    {
      "cell_type": "code",
      "execution_count": null,
      "metadata": {
        "id": "xyOkjs7FAnYW",
        "outputId": "49863602-fece-4a21-bff5-419a7b0e025e"
      },
      "outputs": [
        {
          "name": "stdout",
          "output_type": "stream",
          "text": [
            "{1, 2, 3, 4, 5}\n",
            "<class 'set'>\n"
          ]
        }
      ],
      "source": [
        "##create a set\n",
        "my_set={1,2,3,4,5}\n",
        "print(my_set)\n",
        "print(type(my_set))"
      ]
    },
    {
      "cell_type": "code",
      "execution_count": null,
      "metadata": {
        "id": "it7ArbloAnYX",
        "outputId": "ec9ec149-3b47-47b5-996a-81c08e24fb02"
      },
      "outputs": [
        {
          "name": "stdout",
          "output_type": "stream",
          "text": [
            "<class 'set'>\n"
          ]
        }
      ],
      "source": [
        "my_empty_set=set()\n",
        "print(type(my_empty_set))"
      ]
    },
    {
      "cell_type": "code",
      "execution_count": null,
      "metadata": {
        "id": "tnxLr54nAnYY",
        "outputId": "e99e7e36-b006-42e2-c14c-acdbcd025b34"
      },
      "outputs": [
        {
          "name": "stdout",
          "output_type": "stream",
          "text": [
            "{1, 2, 3, 4, 5, 6}\n"
          ]
        }
      ],
      "source": [
        "my_set=set([1,2,3,4,5,6])\n",
        "print(my_set)"
      ]
    },
    {
      "cell_type": "code",
      "execution_count": null,
      "metadata": {
        "id": "0MFnxlO5AnYY",
        "outputId": "cf1ef17b-f845-45d3-a649-d5dce2bff986"
      },
      "outputs": [
        {
          "name": "stdout",
          "output_type": "stream",
          "text": [
            "{1, 2, 3, 4, 5, 6}\n"
          ]
        }
      ],
      "source": [
        "my_empty_set=set([1,2,3,6,5,4,5,6])\n",
        "print(my_empty_set)"
      ]
    },
    {
      "cell_type": "code",
      "execution_count": null,
      "metadata": {
        "id": "-W9iHpRzAnYY",
        "outputId": "a34c8b82-eee8-43cb-eb28-f1fcc65fdce0"
      },
      "outputs": [
        {
          "name": "stdout",
          "output_type": "stream",
          "text": [
            "{1, 2, 3, 4, 5, 6, 7}\n",
            "{1, 2, 3, 4, 5, 6, 7}\n"
          ]
        }
      ],
      "source": [
        "## Basics Sets Operation\n",
        "## Adiing and Removing Elements\n",
        "my_set.add(7)\n",
        "print(my_set)\n",
        "my_set.add(7)\n",
        "print(my_set)"
      ]
    },
    {
      "cell_type": "code",
      "execution_count": null,
      "metadata": {
        "id": "9y1qXo_GAnYZ",
        "outputId": "9aee281d-ffd5-45e2-fb6a-9286bf0caad0"
      },
      "outputs": [
        {
          "name": "stdout",
          "output_type": "stream",
          "text": [
            "{1, 2, 4, 5, 6, 7}\n"
          ]
        }
      ],
      "source": [
        "## Remove the elements from a set\n",
        "my_set.remove(3)\n",
        "print(my_set)"
      ]
    },
    {
      "cell_type": "code",
      "execution_count": null,
      "metadata": {
        "id": "0Kn44dqBAnYZ",
        "outputId": "5dfb6950-6300-412e-8d60-8c203e2f2eba"
      },
      "outputs": [
        {
          "ename": "KeyError",
          "evalue": "10",
          "output_type": "error",
          "traceback": [
            "\u001b[1;31m---------------------------------------------------------------------------\u001b[0m",
            "\u001b[1;31mKeyError\u001b[0m                                  Traceback (most recent call last)",
            "Cell \u001b[1;32mIn[11], line 1\u001b[0m\n\u001b[1;32m----> 1\u001b[0m \u001b[43mmy_set\u001b[49m\u001b[38;5;241;43m.\u001b[39;49m\u001b[43mremove\u001b[49m\u001b[43m(\u001b[49m\u001b[38;5;241;43m10\u001b[39;49m\u001b[43m)\u001b[49m\n",
            "\u001b[1;31mKeyError\u001b[0m: 10"
          ]
        }
      ],
      "source": [
        "my_set.remove(10)"
      ]
    },
    {
      "cell_type": "code",
      "execution_count": null,
      "metadata": {
        "id": "ocPHP5FkAnYZ",
        "outputId": "0ba8338c-4ca9-407d-a4eb-b4ae0ee500e4"
      },
      "outputs": [
        {
          "name": "stdout",
          "output_type": "stream",
          "text": [
            "{1, 2, 4, 5, 6, 7}\n"
          ]
        }
      ],
      "source": [
        "my_set.discard(11)\n",
        "print(my_set)"
      ]
    },
    {
      "cell_type": "code",
      "execution_count": null,
      "metadata": {
        "id": "Orj-6WszAnYZ",
        "outputId": "af3cff51-6e63-404a-e00a-cb033d088eea"
      },
      "outputs": [
        {
          "name": "stdout",
          "output_type": "stream",
          "text": [
            "1\n",
            "{2, 4, 5, 6, 7}\n"
          ]
        }
      ],
      "source": [
        "## pop method\n",
        "removed_element=my_set.pop()\n",
        "print(removed_element)\n",
        "print(my_set)"
      ]
    },
    {
      "cell_type": "code",
      "execution_count": null,
      "metadata": {
        "id": "GNcQWW66AnYa",
        "outputId": "b060c016-7b09-4fff-f093-058e72fddbae"
      },
      "outputs": [
        {
          "name": "stdout",
          "output_type": "stream",
          "text": [
            "set()\n"
          ]
        }
      ],
      "source": [
        "## clear all the elements\n",
        "my_set.clear()\n",
        "print(my_set)"
      ]
    },
    {
      "cell_type": "code",
      "execution_count": null,
      "metadata": {
        "id": "4_2i9E42AnYa",
        "outputId": "b528b648-8a7c-46a6-e201-095ecc5a7735"
      },
      "outputs": [
        {
          "name": "stdout",
          "output_type": "stream",
          "text": [
            "True\n",
            "False\n"
          ]
        }
      ],
      "source": [
        "## Set Memebership test\n",
        "my_set={1,2,3,4,5}\n",
        "print(3 in my_set)\n",
        "print(10 in my_set)"
      ]
    },
    {
      "cell_type": "code",
      "execution_count": null,
      "metadata": {
        "id": "1w8FUWceAnYa",
        "outputId": "effdf4d8-bb92-40f7-bfb3-cef8c412c807"
      },
      "outputs": [
        {
          "name": "stdout",
          "output_type": "stream",
          "text": [
            "{1, 2, 3, 4, 5, 6, 7, 8, 9}\n",
            "{4, 5, 6}\n",
            "{4, 5, 6}\n"
          ]
        }
      ],
      "source": [
        "## MAthematical Operation\n",
        "set1={1,2,3,4,5,6}\n",
        "set2={4,5,6,7,8,9}\n",
        "\n",
        "### Union\n",
        "union_set=set1.union(set2)\n",
        "print(union_set)\n",
        "\n",
        "## Intersection\n",
        "intersection_set=set1.intersection(set2)\n",
        "print(intersection_set)\n",
        "\n",
        "set1.intersection_update(set2)\n",
        "print(set1)"
      ]
    },
    {
      "cell_type": "code",
      "execution_count": null,
      "metadata": {
        "id": "fD4q8vX5AnYa",
        "outputId": "71b22604-204e-422e-e816-cb32ea99588a"
      },
      "outputs": [
        {
          "name": "stdout",
          "output_type": "stream",
          "text": [
            "{1, 2, 3}\n"
          ]
        }
      ],
      "source": [
        "set1={1,2,3,4,5,6}\n",
        "set2={4,5,6,7,8,9}\n",
        "\n",
        "## Difference\n",
        "print(set1.difference(set2))"
      ]
    },
    {
      "cell_type": "code",
      "execution_count": null,
      "metadata": {
        "id": "JkhnVM_tAnYb",
        "outputId": "a4475252-b2ed-4f6a-bb8d-f2a2c1d04381"
      },
      "outputs": [
        {
          "data": {
            "text/plain": [
              "{1, 2, 3, 4, 5, 6}"
            ]
          },
          "execution_count": 22,
          "metadata": {},
          "output_type": "execute_result"
        }
      ],
      "source": [
        "set1"
      ]
    },
    {
      "cell_type": "code",
      "execution_count": null,
      "metadata": {
        "id": "45U1Ek5EAnYb",
        "outputId": "8f9ed3fb-cb60-4a20-a611-fbd622245045"
      },
      "outputs": [
        {
          "data": {
            "text/plain": [
              "{7, 8, 9}"
            ]
          },
          "execution_count": 24,
          "metadata": {},
          "output_type": "execute_result"
        }
      ],
      "source": [
        "set2.difference(set1)"
      ]
    },
    {
      "cell_type": "code",
      "execution_count": null,
      "metadata": {
        "id": "7T39ODj5AnYb",
        "outputId": "2547be23-b60f-4867-999f-f9765b32ff7a"
      },
      "outputs": [
        {
          "data": {
            "text/plain": [
              "{1, 2, 3, 7, 8, 9}"
            ]
          },
          "execution_count": 25,
          "metadata": {},
          "output_type": "execute_result"
        }
      ],
      "source": [
        "## Symmetric Difference\n",
        "set1.symmetric_difference(set2)"
      ]
    },
    {
      "cell_type": "code",
      "execution_count": null,
      "metadata": {
        "id": "Qlbdjc6FAnYb",
        "outputId": "47ed3a84-eb7b-4cab-dbdc-0a4a836dd0ff"
      },
      "outputs": [
        {
          "name": "stdout",
          "output_type": "stream",
          "text": [
            "False\n",
            "True\n"
          ]
        }
      ],
      "source": [
        "## Sets Methods\n",
        "set1={1,2,3,4,5}\n",
        "set2={3,4,5}\n",
        "\n",
        "## is subset\n",
        "print(set1.issubset(set2))\n",
        "\n",
        "print(set1.issuperset(set2))"
      ]
    },
    {
      "cell_type": "code",
      "execution_count": null,
      "metadata": {
        "id": "cyvz6t9ZAnYb",
        "outputId": "5101d437-c198-4381-bf3e-0490482c704f"
      },
      "outputs": [
        {
          "data": {
            "text/plain": [
              "{1, 2, 3, 4, 5}"
            ]
          },
          "execution_count": 31,
          "metadata": {},
          "output_type": "execute_result"
        }
      ],
      "source": [
        "lst=[1,2,2,3,4,4,5]\n",
        "\n",
        "set(lst)"
      ]
    },
    {
      "cell_type": "code",
      "execution_count": null,
      "metadata": {
        "id": "LYkrE13wAnYc",
        "outputId": "7e0699c5-5e5a-474a-8b4f-027945af5643"
      },
      "outputs": [
        {
          "name": "stdout",
          "output_type": "stream",
          "text": [
            "{'tutorial', 'we', 'discussing', 'this', 'In', 'about', 'sets', 'are'}\n",
            "8\n"
          ]
        }
      ],
      "source": [
        "### Counting Unique words in text\n",
        "\n",
        "text=\"In this tutorial we are discussing about sets\"\n",
        "words=text.split()\n",
        "\n",
        "## convert list of words to set to get unique words\n",
        "\n",
        "unique_words=set(words)\n",
        "print(unique_words)\n",
        "print(len(unique_words))"
      ]
    },
    {
      "cell_type": "markdown",
      "metadata": {
        "id": "tGZASVz-AnYc"
      },
      "source": [
        "#### Conclusion\n",
        "Sets are a powerful and flexible data type in Python that provide a way to store collections of unique elements. They support various operations such as union, intersection, difference, and symmetric difference, which are useful for mathematical computations. Understanding how to use sets and their associated methods can help you write more efficient and clean Python code, especially when dealing with unique collections and membership tests."
      ]
    },
    {
      "cell_type": "code",
      "execution_count": null,
      "metadata": {
        "id": "HDAnkrPeAnYc"
      },
      "outputs": [],
      "source": []
    }
  ],
  "metadata": {
    "kernelspec": {
      "display_name": "Python 3",
      "language": "python",
      "name": "python3"
    },
    "language_info": {
      "codemirror_mode": {
        "name": "ipython",
        "version": 3
      },
      "file_extension": ".py",
      "mimetype": "text/x-python",
      "name": "python",
      "nbconvert_exporter": "python",
      "pygments_lexer": "ipython3",
      "version": "3.12.0"
    },
    "colab": {
      "provenance": [],
      "include_colab_link": true
    }
  },
  "nbformat": 4,
  "nbformat_minor": 0
}