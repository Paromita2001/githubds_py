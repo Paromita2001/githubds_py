{
  "cells": [
    {
      "cell_type": "markdown",
      "metadata": {
        "id": "view-in-github",
        "colab_type": "text"
      },
      "source": [
        "<a href=\"https://colab.research.google.com/github/Paromita2001/githubds_py/blob/main/Standardlibrary.ipynb\" target=\"_parent\"><img src=\"https://colab.research.google.com/assets/colab-badge.svg\" alt=\"Open In Colab\"/></a>"
      ]
    },
    {
      "cell_type": "markdown",
      "metadata": {
        "id": "fptugTTuXqLx"
      },
      "source": [
        "##### Standard Library Overview\n",
        "Python's Standard Library is a vast collection of modules and packages that come bundled with Python, providing a wide range of functionalities out of the box. Here's an overview of some of the most commonly used modules and packages in the Python Standard Library."
      ]
    },
    {
      "cell_type": "code",
      "execution_count": null,
      "metadata": {
        "id": "QDzqgB8wXqL0",
        "outputId": "bae3b8bf-614c-4a05-e119-4b99c625ca5a"
      },
      "outputs": [
        {
          "name": "stdout",
          "output_type": "stream",
          "text": [
            "array('i', [1, 2, 3, 4])\n"
          ]
        }
      ],
      "source": [
        "import array\n",
        "arr=array.array('i',[1,2,3,4])\n",
        "print(arr)"
      ]
    },
    {
      "cell_type": "code",
      "execution_count": null,
      "metadata": {
        "id": "_PbSVpofXqL1",
        "outputId": "4989a2df-85ab-4bc1-ca6f-15dadce653d1"
      },
      "outputs": [
        {
          "name": "stdout",
          "output_type": "stream",
          "text": [
            "4.0\n",
            "3.141592653589793\n"
          ]
        }
      ],
      "source": [
        "import math\n",
        "print(math.sqrt(16))\n",
        "print(math.pi)"
      ]
    },
    {
      "cell_type": "code",
      "execution_count": null,
      "metadata": {
        "id": "AvXOW1uHXqL1",
        "outputId": "69e36861-4143-443d-d70a-0389eebda926"
      },
      "outputs": [
        {
          "name": "stdout",
          "output_type": "stream",
          "text": [
            "2\n",
            "cherry\n"
          ]
        }
      ],
      "source": [
        "## random\n",
        "\n",
        "import random\n",
        "print(random.randint(1,10))\n",
        "print(random.choice(['apple','banana','cherry']))"
      ]
    },
    {
      "cell_type": "code",
      "execution_count": null,
      "metadata": {
        "id": "61KE4pC2XqL2",
        "outputId": "f58cfbf9-5cd8-4bdb-bf20-9ea3d82642a5"
      },
      "outputs": [
        {
          "name": "stdout",
          "output_type": "stream",
          "text": [
            "e:\\UDemy Final\\python\\5-Modules\n"
          ]
        }
      ],
      "source": [
        "### File And Directory Access\n",
        "\n",
        "import os\n",
        "print(os.getcwd())"
      ]
    },
    {
      "cell_type": "code",
      "execution_count": null,
      "metadata": {
        "id": "J65D-SyOXqL2"
      },
      "outputs": [],
      "source": [
        "os.mkdir('test_dir')"
      ]
    },
    {
      "cell_type": "code",
      "execution_count": null,
      "metadata": {
        "id": "xJr5qLygXqL2",
        "outputId": "15e52da0-d028-4db6-f5a7-978ebe361310"
      },
      "outputs": [
        {
          "data": {
            "text/plain": [
              "'destination.txt'"
            ]
          },
          "execution_count": 9,
          "metadata": {},
          "output_type": "execute_result"
        }
      ],
      "source": [
        "## High level operations on files and collection of files\n",
        "import shutil\n",
        "shutil.copyfile('source.txt','destination.txt')"
      ]
    },
    {
      "cell_type": "code",
      "execution_count": null,
      "metadata": {
        "id": "wDsIOkVSXqL2",
        "outputId": "48d0eaf6-7831-431a-cc2b-f2ba35d83924"
      },
      "outputs": [
        {
          "name": "stdout",
          "output_type": "stream",
          "text": [
            "{\"name\": \"Krish\", \"age\": 25}\n",
            "<class 'str'>\n",
            "{'name': 'Krish', 'age': 25}\n",
            "<class 'dict'>\n"
          ]
        }
      ],
      "source": [
        "## Data Serialization\n",
        "import json\n",
        "data={'name':'Krish','age':25}\n",
        "\n",
        "json_str=json.dumps(data)\n",
        "print(json_str)\n",
        "print(type(json_str))\n",
        "\n",
        "parsed_data=json.loads(json_str)\n",
        "print(parsed_data)\n",
        "print(type(parsed_data))\n"
      ]
    },
    {
      "cell_type": "code",
      "execution_count": null,
      "metadata": {
        "id": "UVazVhxJXqL2",
        "outputId": "37db9c9f-1e44-42e3-df48-dbbc7eba74ec"
      },
      "outputs": [
        {
          "name": "stdout",
          "output_type": "stream",
          "text": [
            "['name', 'age']\n",
            "['Krish', '32']\n"
          ]
        }
      ],
      "source": [
        "## csv\n",
        "\n",
        "import csv\n",
        "\n",
        "with open('example.csv',mode='w',newline='') as file:\n",
        "    writer=csv.writer(file)\n",
        "    writer.writerow(['name','age'])\n",
        "    writer.writerow(['Krish',32])\n",
        "\n",
        "with open('example.csv',mode='r') as file:\n",
        "    reader=csv.reader(file)\n",
        "    for row in reader:\n",
        "        print(row)"
      ]
    },
    {
      "cell_type": "code",
      "execution_count": null,
      "metadata": {
        "id": "TxlOfWRRXqL3",
        "outputId": "03d85d71-0f0a-42e8-ec1e-e47a114c9a15"
      },
      "outputs": [
        {
          "name": "stdout",
          "output_type": "stream",
          "text": [
            "2024-06-11 11:37:28.084474\n",
            "2024-06-10 11:37:28.084474\n"
          ]
        }
      ],
      "source": [
        "## datetime\n",
        "from datetime import datetime,timedelta\n",
        "\n",
        "now=datetime.now()\n",
        "print(now)\n",
        "\n",
        "yesterday=now-timedelta(days=1)\n",
        "\n",
        "print(yesterday)"
      ]
    },
    {
      "cell_type": "code",
      "execution_count": null,
      "metadata": {
        "id": "8cyY8QI2XqL3",
        "outputId": "194f474d-1e11-484d-f409-42fe162b647b"
      },
      "outputs": [
        {
          "name": "stdout",
          "output_type": "stream",
          "text": [
            "1718086104.8242216\n",
            "1718086106.82563\n"
          ]
        }
      ],
      "source": [
        "## time\n",
        "import time\n",
        "print(time.time())\n",
        "time.sleep(2)\n",
        "print(time.time())"
      ]
    },
    {
      "cell_type": "code",
      "execution_count": null,
      "metadata": {
        "id": "opnXDNhHXqL4",
        "outputId": "9a38e6b0-218e-474e-b314-0f26ad596908"
      },
      "outputs": [
        {
          "name": "stdout",
          "output_type": "stream",
          "text": [
            "123\n"
          ]
        }
      ],
      "source": [
        "## Regular expresiion\n",
        "import re\n",
        "\n",
        "pattern=r'\\d+'\n",
        "text='There are 123 apples 456'\n",
        "match=re.search(pattern,text)\n",
        "print(match.group())"
      ]
    },
    {
      "cell_type": "markdown",
      "metadata": {
        "id": "o6epVM6vXqL4"
      },
      "source": [
        "#### Conclusion\n",
        "Python's Standard Library is extensive and provides tools for almost any task you can think of, from file handling to web services, from data serialization to concurrent execution. Familiarizing yourself with the modules and packages available in the Standard Library can significantly enhance your ability to write efficient and effective Python programs."
      ]
    },
    {
      "cell_type": "code",
      "execution_count": null,
      "metadata": {
        "id": "6-FgkaIYXqL4"
      },
      "outputs": [],
      "source": []
    }
  ],
  "metadata": {
    "kernelspec": {
      "display_name": "Python 3",
      "language": "python",
      "name": "python3"
    },
    "language_info": {
      "codemirror_mode": {
        "name": "ipython",
        "version": 3
      },
      "file_extension": ".py",
      "mimetype": "text/x-python",
      "name": "python",
      "nbconvert_exporter": "python",
      "pygments_lexer": "ipython3",
      "version": "3.12.0"
    },
    "colab": {
      "provenance": [],
      "include_colab_link": true
    }
  },
  "nbformat": 4,
  "nbformat_minor": 0
}