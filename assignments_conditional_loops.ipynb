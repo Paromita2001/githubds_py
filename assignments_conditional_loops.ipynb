{
  "cells": [
    {
      "cell_type": "markdown",
      "metadata": {
        "id": "view-in-github",
        "colab_type": "text"
      },
      "source": [
        "<a href=\"https://colab.research.google.com/github/Paromita2001/githubds_py/blob/main/assignments_conditional_loops.ipynb\" target=\"_parent\"><img src=\"https://colab.research.google.com/assets/colab-badge.svg\" alt=\"Open In Colab\"/></a>"
      ]
    },
    {
      "cell_type": "code",
      "source": [
        "#Write a program that asks the user to input a number and prints whether the number is positive.\n",
        "num=int(input('enter a number: '))\n",
        "if num>0:\n",
        "  print('Number is Positive')\n",
        "else:\n",
        "  print('Number is Not Positive')"
      ],
      "metadata": {
        "colab": {
          "base_uri": "https://localhost:8080/"
        },
        "id": "1_gh21KHM-6F",
        "outputId": "f55d11c0-550c-4b0d-8ad1-f1e61dee324d"
      },
      "id": "1_gh21KHM-6F",
      "execution_count": 2,
      "outputs": [
        {
          "output_type": "stream",
          "name": "stdout",
          "text": [
            "enter a number: -1\n",
            "Number is Not Positive\n"
          ]
        }
      ]
    },
    {
      "cell_type": "code",
      "execution_count": 5,
      "metadata": {
        "colab": {
          "base_uri": "https://localhost:8080/"
        },
        "id": "Z3FiQmM-Mn3J",
        "outputId": "338a46f6-477d-4c8a-aea7-ae38611d50df"
      },
      "outputs": [
        {
          "output_type": "stream",
          "name": "stdout",
          "text": [
            "enter a number: 3\n",
            "Number is Positive\n"
          ]
        }
      ],
      "source": [
        "#Write a program that asks the user to input a number and prints whether the number is positive or negative.\n",
        "num=int(input('Enter a number: '))\n",
        "if num>0:\n",
        "  print('Number is Positive')\n",
        "else:\n",
        "  print('Number is Negative')"
      ],
      "id": "Z3FiQmM-Mn3J"
    },
    {
      "cell_type": "code",
      "source": [
        "#Write a program that asks the user to input a number and prints whether the number is positive, negative, or zero\n",
        "num=int(input('enter a number: '))\n",
        "if num>0:\n",
        "  print('Number is Positive')\n",
        "elif num<0:\n",
        "  print('Number is Negative')\n",
        "else:\n",
        "  print('Number is Zero')"
      ],
      "metadata": {
        "colab": {
          "base_uri": "https://localhost:8080/"
        },
        "id": "yFYQB-nJN4t_",
        "outputId": "b27b79d9-188a-48c2-914d-d8acde833cbd"
      },
      "id": "yFYQB-nJN4t_",
      "execution_count": 6,
      "outputs": [
        {
          "output_type": "stream",
          "name": "stdout",
          "text": [
            "enter a number: 0\n",
            "Number is Zero\n"
          ]
        }
      ]
    },
    {
      "cell_type": "code",
      "source": [
        "#Write a program that asks the user to input a number and prints whether the number is positive and even, positive and odd, or negative.\n",
        "\n",
        "num=int(input('enter a number: '))\n",
        "if num>0 and num%2==0:\n",
        "  print('Number is Positive and Even')\n",
        "elif num>0 and num%2!=0:\n",
        "  print('Number is Positive and Odd ')\n",
        "else:\n",
        "  print('Number is negative')"
      ],
      "metadata": {
        "colab": {
          "base_uri": "https://localhost:8080/"
        },
        "id": "7L7mzLAyOXxh",
        "outputId": "af7110d7-538f-4ef4-f06d-4e5e2d793a77"
      },
      "id": "7L7mzLAyOXxh",
      "execution_count": 7,
      "outputs": [
        {
          "output_type": "stream",
          "name": "stdout",
          "text": [
            "enter a number: 5\n",
            "Number is Positive and Odd \n"
          ]
        }
      ]
    },
    {
      "cell_type": "code",
      "source": [
        "#Write a program that prints all the numbers from 1 to 10 using a for loop.\n",
        "for i in range(10):\n",
        "  print(i)"
      ],
      "metadata": {
        "colab": {
          "base_uri": "https://localhost:8080/"
        },
        "id": "tqb8z9OCZeyF",
        "outputId": "5b56d7d9-c1f4-4c5d-b574-6fbdb6eb3eaf"
      },
      "id": "tqb8z9OCZeyF",
      "execution_count": 8,
      "outputs": [
        {
          "output_type": "stream",
          "name": "stdout",
          "text": [
            "0\n",
            "1\n",
            "2\n",
            "3\n",
            "4\n",
            "5\n",
            "6\n",
            "7\n",
            "8\n",
            "9\n"
          ]
        }
      ]
    },
    {
      "cell_type": "code",
      "source": [
        "#Write a program that prints all the numbers from 1 to 10 using a while loop.\n",
        "num=0\n",
        "while num<10:\n",
        "  print(num)\n",
        "  num=num+1"
      ],
      "metadata": {
        "colab": {
          "base_uri": "https://localhost:8080/"
        },
        "id": "FM4tvz42Ze1f",
        "outputId": "8e80649c-5776-4f76-b30b-bdc4d64ab751"
      },
      "id": "FM4tvz42Ze1f",
      "execution_count": 9,
      "outputs": [
        {
          "output_type": "stream",
          "name": "stdout",
          "text": [
            "0\n",
            "1\n",
            "2\n",
            "3\n",
            "4\n",
            "5\n",
            "6\n",
            "7\n",
            "8\n",
            "9\n"
          ]
        }
      ]
    },
    {
      "cell_type": "code",
      "source": [
        "#Write a program that prints a 5x5 grid of asterisks (*) using nested loops.\n",
        "for i in range(1,6):\n",
        "  for j in range(i):\n",
        "    print('*', end=' ')\n",
        "  print()"
      ],
      "metadata": {
        "colab": {
          "base_uri": "https://localhost:8080/"
        },
        "id": "c67xSRpFZSCH",
        "outputId": "660574a1-57ff-46b7-ac00-6108ae7317a5"
      },
      "id": "c67xSRpFZSCH",
      "execution_count": 11,
      "outputs": [
        {
          "output_type": "stream",
          "name": "stdout",
          "text": [
            "* \n",
            "* * \n",
            "* * * \n",
            "* * * * \n",
            "* * * * * \n"
          ]
        }
      ]
    },
    {
      "cell_type": "code",
      "source": [
        "#Write a program that asks the user to input numbers. The program should print the sum of the input numbers.\n",
        "num=int(input('enter a number: '))\n",
        "sum=0\n",
        "for i in str(num):\n",
        "  sum+=int(i)\n",
        "print(sum)"
      ],
      "metadata": {
        "colab": {
          "base_uri": "https://localhost:8080/"
        },
        "id": "kjLVqw24ZZDM",
        "outputId": "bcb5482f-bcd8-4dd1-b9c4-2eab38c3db0a"
      },
      "id": "kjLVqw24ZZDM",
      "execution_count": 13,
      "outputs": [
        {
          "output_type": "stream",
          "name": "stdout",
          "text": [
            "enter a number: 234\n",
            "9\n"
          ]
        }
      ]
    },
    {
      "cell_type": "code",
      "source": [
        "#Write a program that calculates the sum of the digits of a number input by the user using a while loop.\n",
        "num=int(input('enter a number: '))\n",
        "sum_num=0\n",
        "while num>0:\n",
        "  last_dig=num%10\n",
        "  sum_num+=last_dig\n",
        "  num=num//10\n",
        "print(sum_num)"
      ],
      "metadata": {
        "colab": {
          "base_uri": "https://localhost:8080/"
        },
        "id": "sOc0h2dslesz",
        "outputId": "ce7e714c-1193-4049-9e67-1e41407b2699"
      },
      "id": "sOc0h2dslesz",
      "execution_count": 35,
      "outputs": [
        {
          "output_type": "stream",
          "name": "stdout",
          "text": [
            "enter a number: 234\n",
            "9\n"
          ]
        }
      ]
    },
    {
      "cell_type": "code",
      "source": [
        "#Write a program that asks the user to input numbers until they input 0. The program should print the sum of all the input numbers.\n",
        "sum=0\n",
        "while True:\n",
        "   num=int(input('enter a number: '))\n",
        "   if num==0:\n",
        "      break\n",
        "   sum+=num\n",
        "print(sum)\n",
        ""
      ],
      "metadata": {
        "colab": {
          "base_uri": "https://localhost:8080/"
        },
        "id": "TgzCkFOkezH8",
        "outputId": "e798d785-235e-4dff-cccf-c22875239e71"
      },
      "id": "TgzCkFOkezH8",
      "execution_count": 18,
      "outputs": [
        {
          "output_type": "stream",
          "name": "stdout",
          "text": [
            "enter a number: 2\n",
            "enter a number: 3\n",
            "enter a number: 4\n",
            "enter a number: 0\n",
            "9\n"
          ]
        }
      ]
    },
    {
      "cell_type": "code",
      "source": [
        "#Write a program that prints all the numbers from 1 to 10 except 5 using a for loop and continue statement.\n",
        "\n",
        "for i in range(1,11):\n",
        "  if i==5:\n",
        "    continue\n",
        "  print(i)"
      ],
      "metadata": {
        "colab": {
          "base_uri": "https://localhost:8080/"
        },
        "id": "iQdQKsWZZvi_",
        "outputId": "0aacc039-bb53-4956-c10b-09cf236c5bca"
      },
      "id": "iQdQKsWZZvi_",
      "execution_count": 21,
      "outputs": [
        {
          "output_type": "stream",
          "name": "stdout",
          "text": [
            "1\n",
            "2\n",
            "3\n",
            "4\n",
            "6\n",
            "7\n",
            "8\n",
            "9\n",
            "10\n"
          ]
        }
      ]
    },
    {
      "cell_type": "code",
      "source": [
        "#Write a program that defines an empty function using the pass statement.\n",
        "def my_function():\n",
        "    pass\n",
        "my_function()\n"
      ],
      "metadata": {
        "id": "aBx-kHjxZvyC"
      },
      "id": "aBx-kHjxZvyC",
      "execution_count": 34,
      "outputs": []
    },
    {
      "cell_type": "code",
      "source": [
        "#Write a program that asks the user to input a number and prints all the even numbers from 1 to that number using a for loop.\n",
        "num=int(input('enter a number'))\n",
        "for i in range(1,num+1):\n",
        "  if i%2==0:\n",
        "    print(i)\n"
      ],
      "metadata": {
        "colab": {
          "base_uri": "https://localhost:8080/"
        },
        "id": "9hgSJiXyZv6u",
        "outputId": "cfb5d7a6-6766-4b20-b084-51cd216b6fd3"
      },
      "id": "9hgSJiXyZv6u",
      "execution_count": 22,
      "outputs": [
        {
          "output_type": "stream",
          "name": "stdout",
          "text": [
            "enter a number20\n",
            "2\n",
            "4\n",
            "6\n",
            "8\n",
            "10\n",
            "12\n",
            "14\n",
            "16\n",
            "18\n",
            "20\n"
          ]
        }
      ]
    },
    {
      "cell_type": "code",
      "source": [
        "#Write a program that calculates the factorial of a number input by the user using a while loop.\n",
        "num=int(input('enter a number'))\n",
        "n=1\n",
        "for i in range(1,num+1):\n",
        "  n*=i\n",
        "print(n)"
      ],
      "metadata": {
        "colab": {
          "base_uri": "https://localhost:8080/"
        },
        "id": "jGAroTVqZv9V",
        "outputId": "a54306dc-9e1c-4453-d337-3a735d7f1b7b"
      },
      "id": "jGAroTVqZv9V",
      "execution_count": 27,
      "outputs": [
        {
          "output_type": "stream",
          "name": "stdout",
          "text": [
            "enter a number4\n",
            "24\n"
          ]
        }
      ]
    },
    {
      "cell_type": "code",
      "source": [
        "#Write a program that checks if a number input by the user is a prime number using a for loop.\n",
        "num=int(input('enter a number'))\n",
        "if num>1:\n",
        "  for i in range(2, int(num**0.5)+1):\n",
        "    if num%i==0:\n",
        "      print(num, 'is not a prime number' )\n",
        "      break\n",
        "  else:\n",
        "    print(num, 'is a prime number')\n",
        "else:\n",
        "  print(num, 'is not a prime number')\n"
      ],
      "metadata": {
        "colab": {
          "base_uri": "https://localhost:8080/"
        },
        "id": "_dx3N06pZwBp",
        "outputId": "968c098f-d8a9-40f1-f2a4-df3221dd1287"
      },
      "id": "_dx3N06pZwBp",
      "execution_count": 29,
      "outputs": [
        {
          "output_type": "stream",
          "name": "stdout",
          "text": [
            "enter a number7\n",
            "7 is a prime number\n"
          ]
        }
      ]
    },
    {
      "cell_type": "code",
      "source": [
        "#Write a program that prints the first n Fibonacci numbers, where n is input by the user.\n",
        "a,b=0,1\n",
        "num=int(input('enter a number'))\n",
        "for i in range(num):\n",
        "  print(a)\n",
        "  a,b=b,a+b\n"
      ],
      "metadata": {
        "colab": {
          "base_uri": "https://localhost:8080/"
        },
        "id": "l4HVzt2GZwFH",
        "outputId": "755ca6a6-532d-452e-cc4c-4f19a8c9d484"
      },
      "id": "l4HVzt2GZwFH",
      "execution_count": 33,
      "outputs": [
        {
          "output_type": "stream",
          "name": "stdout",
          "text": [
            "enter a number7\n",
            "0\n",
            "1\n",
            "1\n",
            "2\n",
            "3\n",
            "5\n",
            "8\n"
          ]
        }
      ]
    },
    {
      "cell_type": "code",
      "source": [],
      "metadata": {
        "id": "CRSnX_Ngm9Hu"
      },
      "id": "CRSnX_Ngm9Hu",
      "execution_count": null,
      "outputs": []
    }
  ],
  "metadata": {
    "kernelspec": {
      "display_name": "Python 3",
      "language": "python",
      "name": "python3"
    },
    "language_info": {
      "codemirror_mode": {
        "name": "ipython",
        "version": 3
      },
      "file_extension": ".py",
      "mimetype": "text/x-python",
      "name": "python",
      "nbconvert_exporter": "python",
      "pygments_lexer": "ipython3",
      "version": "3.9.7"
    },
    "colab": {
      "provenance": [],
      "include_colab_link": true
    }
  },
  "nbformat": 4,
  "nbformat_minor": 5
}