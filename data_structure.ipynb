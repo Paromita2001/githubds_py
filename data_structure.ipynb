{
  "nbformat": 4,
  "nbformat_minor": 0,
  "metadata": {
    "colab": {
      "provenance": [],
      "authorship_tag": "ABX9TyPD6AZqytK6q8+iNQvgGaL2",
      "include_colab_link": true
    },
    "kernelspec": {
      "name": "python3",
      "display_name": "Python 3"
    },
    "language_info": {
      "name": "python"
    }
  },
  "cells": [
    {
      "cell_type": "markdown",
      "metadata": {
        "id": "view-in-github",
        "colab_type": "text"
      },
      "source": [
        "<a href=\"https://colab.research.google.com/github/Paromita2001/githubds_py/blob/main/data_structure.ipynb\" target=\"_parent\"><img src=\"https://colab.research.google.com/assets/colab-badge.svg\" alt=\"Open In Colab\"/></a>"
      ]
    },
    {
      "cell_type": "code",
      "execution_count": 5,
      "metadata": {
        "colab": {
          "base_uri": "https://localhost:8080/"
        },
        "id": "SzyS8MWc5Fqr",
        "outputId": "3bafdbc0-5293-4c74-b390-08f8183a1919"
      },
      "outputs": [
        {
          "output_type": "stream",
          "name": "stdout",
          "text": [
            "[20, 15, 6, 36, 17, 41, 25, 33]\n"
          ]
        }
      ],
      "source": [
        "# Create a list and append an item\n",
        "list1=[20,15,6,36,17,41,25]\n",
        "list1.append(33)\n",
        "print(list1)"
      ]
    },
    {
      "cell_type": "code",
      "source": [
        "# Remove an element from a list\n",
        "list1.remove(20)\n",
        "print(list1)"
      ],
      "metadata": {
        "colab": {
          "base_uri": "https://localhost:8080/"
        },
        "id": "qfuObP84GiyQ",
        "outputId": "9afcff41-4504-4b6d-865e-4ce27b7fb60c"
      },
      "execution_count": 6,
      "outputs": [
        {
          "output_type": "stream",
          "name": "stdout",
          "text": [
            "[15, 6, 36, 17, 41, 25, 33]\n"
          ]
        }
      ]
    },
    {
      "cell_type": "code",
      "source": [
        "#Slice a list to get first 3 elements\n",
        "print(list1[0:3])"
      ],
      "metadata": {
        "colab": {
          "base_uri": "https://localhost:8080/"
        },
        "id": "B9bixYNGGubX",
        "outputId": "6bbaa5e6-3a97-486f-cfe4-98f43348eab8"
      },
      "execution_count": 7,
      "outputs": [
        {
          "output_type": "stream",
          "name": "stdout",
          "text": [
            "[15, 6, 36]\n"
          ]
        }
      ]
    },
    {
      "cell_type": "code",
      "source": [
        "# Sort a list\n",
        "print(sorted(list1))"
      ],
      "metadata": {
        "colab": {
          "base_uri": "https://localhost:8080/"
        },
        "id": "e5GV4w5zG_71",
        "outputId": "98a220c5-8a73-46e9-aaaa-b81a3e66cf3f"
      },
      "execution_count": 9,
      "outputs": [
        {
          "output_type": "stream",
          "name": "stdout",
          "text": [
            "[6, 15, 17, 25, 33, 36, 41]\n"
          ]
        }
      ]
    },
    {
      "cell_type": "code",
      "source": [
        "#Check if element exists in list\n",
        "print(25 in list1)"
      ],
      "metadata": {
        "colab": {
          "base_uri": "https://localhost:8080/"
        },
        "id": "3as18HtdHI2J",
        "outputId": "3834ebf0-3c8e-4c4d-de06-443ed6185f7c"
      },
      "execution_count": 10,
      "outputs": [
        {
          "output_type": "stream",
          "name": "stdout",
          "text": [
            "True\n"
          ]
        }
      ]
    },
    {
      "cell_type": "code",
      "source": [
        "#Convert list to tuple\n",
        "list1=[6, 15, 17, 25, 33, 36, 41]\n",
        "tup1=tuple(list1)\n",
        "print(tup1)"
      ],
      "metadata": {
        "colab": {
          "base_uri": "https://localhost:8080/"
        },
        "id": "tkU8rDBCLiQT",
        "outputId": "e376a168-d527-472d-bbf2-1210f435e56a"
      },
      "execution_count": 14,
      "outputs": [
        {
          "output_type": "stream",
          "name": "stdout",
          "text": [
            "(6, 15, 17, 25, 33, 36, 41)\n"
          ]
        }
      ]
    },
    {
      "cell_type": "code",
      "source": [
        "#Create a tuple and access elements\n",
        "print(tup1[0])"
      ],
      "metadata": {
        "colab": {
          "base_uri": "https://localhost:8080/"
        },
        "id": "nacr94QILwsq",
        "outputId": "6f0279d4-b680-439c-9ce6-83e48b92878c"
      },
      "execution_count": 15,
      "outputs": [
        {
          "output_type": "stream",
          "name": "stdout",
          "text": [
            "6\n"
          ]
        }
      ]
    },
    {
      "cell_type": "code",
      "source": [
        "#Tuple unpacking\n",
        "t=(6, 15, 17, 25, 33, 36, 41)\n",
        "a,b,c,d,e,f,g=t\n",
        "print(a)\n",
        "print(b)\n",
        "print(c)\n",
        "print(d)\n",
        "print(e)\n",
        "print(f)\n",
        "print(g)"
      ],
      "metadata": {
        "colab": {
          "base_uri": "https://localhost:8080/"
        },
        "id": "IF3YafuhL3qC",
        "outputId": "102a8dbc-fa58-4d1f-fe53-6ea21b604f36"
      },
      "execution_count": 16,
      "outputs": [
        {
          "output_type": "stream",
          "name": "stdout",
          "text": [
            "6\n",
            "15\n",
            "17\n",
            "25\n",
            "33\n",
            "36\n",
            "41\n"
          ]
        }
      ]
    },
    {
      "cell_type": "code",
      "source": [
        "# Create a set and add element\n",
        "set1={6, 15, 17, 25, 33, 36, 41}\n",
        "set1.add(50)\n",
        "print(set1)"
      ],
      "metadata": {
        "colab": {
          "base_uri": "https://localhost:8080/"
        },
        "id": "OfbD58V0ciLF",
        "outputId": "7528a0b5-7983-4d5c-cd60-1e6a54d8b3ef"
      },
      "execution_count": 24,
      "outputs": [
        {
          "output_type": "stream",
          "name": "stdout",
          "text": [
            "{33, 17, 50, 36, 6, 41, 25, 15}\n"
          ]
        }
      ]
    },
    {
      "cell_type": "code",
      "source": [
        "#Remove from set\n",
        "set1.remove(33)\n",
        "print(set1)"
      ],
      "metadata": {
        "colab": {
          "base_uri": "https://localhost:8080/"
        },
        "id": "kR5t4vJoe-aQ",
        "outputId": "2b40fa79-11ea-4fcf-961d-dad64872c076"
      },
      "execution_count": 25,
      "outputs": [
        {
          "output_type": "stream",
          "name": "stdout",
          "text": [
            "{17, 50, 36, 6, 41, 25, 15}\n"
          ]
        }
      ]
    },
    {
      "cell_type": "code",
      "source": [
        "#Union of sets\n",
        "set1={6, 15, 17, 25, 33}\n",
        "set2={6, 15, 17, 25, 33, 36, 41,50}\n",
        "print(set1 | set2)"
      ],
      "metadata": {
        "colab": {
          "base_uri": "https://localhost:8080/"
        },
        "id": "yOev8Aw6fb8T",
        "outputId": "f55ff6b4-563d-44fd-e7e5-44d6be690ff6"
      },
      "execution_count": 1,
      "outputs": [
        {
          "output_type": "stream",
          "name": "stdout",
          "text": [
            "{33, 36, 6, 41, 15, 17, 50, 25}\n"
          ]
        }
      ]
    },
    {
      "cell_type": "code",
      "source": [
        "#Intersection of sets\n",
        "print(set1 & set2)"
      ],
      "metadata": {
        "colab": {
          "base_uri": "https://localhost:8080/"
        },
        "id": "_gXD1odkfOp7",
        "outputId": "87b58b10-b139-4ae1-bbd4-60f10d75fa43"
      },
      "execution_count": 3,
      "outputs": [
        {
          "output_type": "stream",
          "name": "stdout",
          "text": [
            "{33, 6, 15, 17, 25}\n"
          ]
        }
      ]
    },
    {
      "cell_type": "code",
      "source": [
        "#Create a dictionary\n",
        "d = {\"name\": \"Alice\", \"age\": 25}\n",
        "d"
      ],
      "metadata": {
        "colab": {
          "base_uri": "https://localhost:8080/"
        },
        "id": "OURSZ_c9KiVG",
        "outputId": "5b652dfb-c225-4038-a8c6-2670361bb78a"
      },
      "execution_count": 10,
      "outputs": [
        {
          "output_type": "execute_result",
          "data": {
            "text/plain": [
              "{'name': 'Alice', 'age': 25}"
            ]
          },
          "metadata": {},
          "execution_count": 10
        }
      ]
    },
    {
      "cell_type": "code",
      "source": [
        "#Access dictionary value\n",
        "print(d[\"name\"])"
      ],
      "metadata": {
        "colab": {
          "base_uri": "https://localhost:8080/"
        },
        "id": "zlGPkX_IKiXj",
        "outputId": "8a922a4d-cd57-4052-b36c-273ee20e44b9"
      },
      "execution_count": 4,
      "outputs": [
        {
          "output_type": "stream",
          "name": "stdout",
          "text": [
            "Alice\n"
          ]
        }
      ]
    },
    {
      "cell_type": "code",
      "source": [
        "#Add new key-value\n",
        "d['gender']='female'\n",
        "print(d)"
      ],
      "metadata": {
        "colab": {
          "base_uri": "https://localhost:8080/"
        },
        "id": "vz0Xq0NFKiaS",
        "outputId": "21b91301-18b5-4572-b48b-7c049baffb73"
      },
      "execution_count": 11,
      "outputs": [
        {
          "output_type": "stream",
          "name": "stdout",
          "text": [
            "{'name': 'Alice', 'age': 25, 'gender': 'female'}\n"
          ]
        }
      ]
    },
    {
      "cell_type": "code",
      "source": [
        "#Loop through dictionary\n",
        "for key,value in d.items():\n",
        "  print(key,value)\n"
      ],
      "metadata": {
        "colab": {
          "base_uri": "https://localhost:8080/"
        },
        "id": "wpOm-NtIKidD",
        "outputId": "aa534edc-ddbd-4b03-ad17-ab2175ced06b"
      },
      "execution_count": 7,
      "outputs": [
        {
          "output_type": "stream",
          "name": "stdout",
          "text": [
            "name Alice\n",
            "age 25\n",
            "gender female\n"
          ]
        }
      ]
    },
    {
      "cell_type": "code",
      "source": [
        "#Delete key from dictionary\n",
        "del d[\"age\"]\n",
        "print(d)"
      ],
      "metadata": {
        "colab": {
          "base_uri": "https://localhost:8080/"
        },
        "id": "j3x4T5sDKifx",
        "outputId": "28f5b542-4223-4003-fb7b-3d76d3ca8e03"
      },
      "execution_count": 12,
      "outputs": [
        {
          "output_type": "stream",
          "name": "stdout",
          "text": [
            "{'name': 'Alice', 'gender': 'female'}\n"
          ]
        }
      ]
    },
    {
      "cell_type": "code",
      "source": [
        "#Get keys and values\n",
        "print(list(d.keys()), list(d.values()))"
      ],
      "metadata": {
        "colab": {
          "base_uri": "https://localhost:8080/"
        },
        "id": "FOFKA884Kiih",
        "outputId": "e6ffbcf1-509a-4d87-e45d-4a9711c91693"
      },
      "execution_count": 13,
      "outputs": [
        {
          "output_type": "stream",
          "name": "stdout",
          "text": [
            "['name', 'gender'] ['Alice', 'female']\n"
          ]
        }
      ]
    },
    {
      "cell_type": "code",
      "source": [
        "#Check if key exists\n",
        "print(\"name\" in d)"
      ],
      "metadata": {
        "colab": {
          "base_uri": "https://localhost:8080/"
        },
        "id": "Te9ILHoCKilc",
        "outputId": "71481ec1-b84d-4ce0-efd3-4dae610e246d"
      },
      "execution_count": 14,
      "outputs": [
        {
          "output_type": "stream",
          "name": "stdout",
          "text": [
            "True\n"
          ]
        }
      ]
    },
    {
      "cell_type": "code",
      "source": [
        "#Dictionary comprehension\n",
        "squared = {x: x**2 for x in range(5)}\n",
        "squared"
      ],
      "metadata": {
        "colab": {
          "base_uri": "https://localhost:8080/"
        },
        "id": "Q3rqQxKQKioY",
        "outputId": "12257870-dff1-4b04-affd-5db51eee9d4b"
      },
      "execution_count": 18,
      "outputs": [
        {
          "output_type": "execute_result",
          "data": {
            "text/plain": [
              "{0: 0, 1: 1, 2: 4, 3: 9, 4: 16}"
            ]
          },
          "metadata": {},
          "execution_count": 18
        }
      ]
    },
    {
      "cell_type": "code",
      "source": [
        "#Loop through a list and square each element\n",
        "list1=[6, 15, 17, 25, 33, 36, 41]\n",
        "sq_list=[]\n",
        "for i in list1:\n",
        "  sq_list.append(i**2)\n",
        "print(sq_list)"
      ],
      "metadata": {
        "colab": {
          "base_uri": "https://localhost:8080/"
        },
        "id": "JP3HMgSqKirP",
        "outputId": "c1aab500-b6d2-4c0d-b95f-d033530ed034"
      },
      "execution_count": 20,
      "outputs": [
        {
          "output_type": "stream",
          "name": "stdout",
          "text": [
            "[36, 225, 289, 625, 1089, 1296, 1681]\n"
          ]
        }
      ]
    },
    {
      "cell_type": "code",
      "source": [
        "#Filter even numbers from a list using loop\n",
        "even=[]\n",
        "for i in list1:\n",
        "  if i%2==0:\n",
        "    even.append(i)\n",
        "print(even)"
      ],
      "metadata": {
        "id": "X0eG1VzsKiuB"
      },
      "execution_count": null,
      "outputs": []
    },
    {
      "cell_type": "code",
      "source": [
        "#Count frequency of characters in a string using dictionary\n",
        "sen='Hello World Programming'\n",
        "fre_char={}\n",
        "count=0\n",
        "for i in sen:\n",
        "  if i not in fre_char:\n",
        "    fre_char[i]=1\n",
        "  else:\n",
        "    fre_char[i]+=1\n",
        "print(fre_char)"
      ],
      "metadata": {
        "colab": {
          "base_uri": "https://localhost:8080/"
        },
        "id": "xMoT-6FPKiw8",
        "outputId": "7e2c61da-ba4c-4939-c04c-557cfb0ee4f1"
      },
      "execution_count": 23,
      "outputs": [
        {
          "output_type": "stream",
          "name": "stdout",
          "text": [
            "{'H': 1, 'e': 1, 'l': 3, 'o': 3, ' ': 2, 'W': 1, 'r': 3, 'd': 1, 'P': 1, 'g': 2, 'a': 1, 'm': 2, 'i': 1, 'n': 1}\n"
          ]
        }
      ]
    },
    {
      "cell_type": "code",
      "source": [
        "#Create nested list using loops\n",
        "matrix = []\n",
        "for i in range(3):\n",
        "    row = []\n",
        "    for j in range(3):\n",
        "        row.append(i * j)\n",
        "    matrix.append(row)\n",
        "print(matrix)\n"
      ],
      "metadata": {
        "colab": {
          "base_uri": "https://localhost:8080/"
        },
        "id": "5ZQ9AhSIKi0W",
        "outputId": "c86db643-2461-4a26-f735-fb1b78423410"
      },
      "execution_count": 25,
      "outputs": [
        {
          "output_type": "stream",
          "name": "stdout",
          "text": [
            "[[0, 0, 0], [0, 1, 2], [0, 2, 4]]\n"
          ]
        }
      ]
    },
    {
      "cell_type": "code",
      "source": [
        "#Remove duplicates from list using set\n",
        "unique_list = list(set([1, 2, 2, 3, 3, 3]))\n",
        "print(unique_list)"
      ],
      "metadata": {
        "colab": {
          "base_uri": "https://localhost:8080/"
        },
        "id": "rckHFOQuUL1d",
        "outputId": "2e861bbd-18b0-4753-ff64-7a673f5cee10"
      },
      "execution_count": 27,
      "outputs": [
        {
          "output_type": "stream",
          "name": "stdout",
          "text": [
            "[1, 2, 3]\n"
          ]
        }
      ]
    },
    {
      "cell_type": "code",
      "source": [
        "\n",
        "#Combine two lists into a dictionary\n",
        "keys = [\"a\", \"b\", \"c\"]\n",
        "values = [1, 2, 3]\n",
        "combined = dict(zip(keys, values))\n",
        "print(combined)"
      ],
      "metadata": {
        "colab": {
          "base_uri": "https://localhost:8080/"
        },
        "id": "RX9tgESQYmn4",
        "outputId": "53157fde-09ba-4ce1-d012-85883cdd4fa9"
      },
      "execution_count": 29,
      "outputs": [
        {
          "output_type": "stream",
          "name": "stdout",
          "text": [
            "{'a': 1, 'b': 2, 'c': 3}\n"
          ]
        }
      ]
    },
    {
      "cell_type": "code",
      "source": [
        "#Flatten a 2D list using loop\n",
        "list2d = [[1, 2, 3], [4, 5, 6], [7, 8, 9]]\n",
        "flattened = []\n",
        "for sublist in list2d:\n",
        "    for item in sublist:\n",
        "        flattened.append(item)\n",
        "print(flattened)"
      ],
      "metadata": {
        "colab": {
          "base_uri": "https://localhost:8080/"
        },
        "id": "u8jAlzuOY6JN",
        "outputId": "18d7715c-38f8-40dd-e7df-7768809a673d"
      },
      "execution_count": 30,
      "outputs": [
        {
          "output_type": "stream",
          "name": "stdout",
          "text": [
            "[1, 2, 3, 4, 5, 6, 7, 8, 9]\n"
          ]
        }
      ]
    },
    {
      "cell_type": "code",
      "source": [
        "#List comprehension with condition\n",
        "filtered = [x for x in range(10) if x % 2 == 0]\n",
        "print(filtered)\n"
      ],
      "metadata": {
        "colab": {
          "base_uri": "https://localhost:8080/"
        },
        "id": "tXO_iCnffWWP",
        "outputId": "a42eb09e-540c-443a-d063-fd2c2c99506f"
      },
      "execution_count": 31,
      "outputs": [
        {
          "output_type": "stream",
          "name": "stdout",
          "text": [
            "[0, 2, 4, 6, 8]\n"
          ]
        }
      ]
    },
    {
      "cell_type": "code",
      "source": [
        "list2=[61,62,53,44,21,17]\n",
        "print(len(list2))\n",
        "print(list2[5:-1:-1])\n",
        "rev_list=[]\n",
        "for i in range(len(list2)-1,-1,-1):\n",
        "  rev_list.append(list2[i])\n",
        "print(rev_list)"
      ],
      "metadata": {
        "colab": {
          "base_uri": "https://localhost:8080/"
        },
        "id": "7UPkJqTBZhK7",
        "outputId": "6d9bfb37-6de1-416b-9724-81b92ce94451"
      },
      "execution_count": 39,
      "outputs": [
        {
          "output_type": "stream",
          "name": "stdout",
          "text": [
            "6\n",
            "[]\n",
            "[17, 21, 44, 53, 62, 61]\n"
          ]
        }
      ]
    },
    {
      "cell_type": "code",
      "source": [
        "#Merge two dictionaries\n",
        "x = {\"a\": 1, \"b\": 2}\n",
        "y = {\"c\": 3}\n",
        "z = {**x, **y}\n",
        "print(z)"
      ],
      "metadata": {
        "colab": {
          "base_uri": "https://localhost:8080/"
        },
        "id": "7kAIVZ-kZhbr",
        "outputId": "18073250-9123-41a4-d9f2-e35074228b25"
      },
      "execution_count": 40,
      "outputs": [
        {
          "output_type": "stream",
          "name": "stdout",
          "text": [
            "{'a': 1, 'b': 2, 'c': 3}\n"
          ]
        }
      ]
    },
    {
      "cell_type": "code",
      "source": [
        "# Find common elements in two lists using loops\n",
        "list1 = [1, 2, 3, 4]\n",
        "list2 = [3, 4, 5, 6]\n",
        "common = []\n",
        "for i in list1:\n",
        "    if i in list2:\n",
        "        common.append(i)\n",
        "print(common)"
      ],
      "metadata": {
        "colab": {
          "base_uri": "https://localhost:8080/"
        },
        "id": "3c4Ik1sgkfKd",
        "outputId": "be3ce1fc-33ca-48d1-ce50-6257c56ede74"
      },
      "execution_count": 41,
      "outputs": [
        {
          "output_type": "stream",
          "name": "stdout",
          "text": [
            "[3, 4]\n"
          ]
        }
      ]
    },
    {
      "cell_type": "code",
      "source": [
        "#count vowels in a string\n",
        "vowels = 'aeiou'\n",
        "count = 0\n",
        "for ch in \"education\":\n",
        "    if ch in vowels:\n",
        "        count += 1\n",
        "print(count)"
      ],
      "metadata": {
        "colab": {
          "base_uri": "https://localhost:8080/"
        },
        "id": "W7NczqxepaE-",
        "outputId": "2341aa5b-fd0a-4318-ee44-8323a3ac6c17"
      },
      "execution_count": 42,
      "outputs": [
        {
          "output_type": "stream",
          "name": "stdout",
          "text": [
            "5\n"
          ]
        }
      ]
    },
    {
      "cell_type": "code",
      "source": [
        "#Nested dictionary with loop\n",
        "nested_dict = {i: {j: i*j for j in range(1, 4)} for i in range(1, 4)}\n",
        "print(nested_dict)"
      ],
      "metadata": {
        "id": "IzoEt6AMpjoi"
      },
      "execution_count": null,
      "outputs": []
    },
    {
      "cell_type": "code",
      "source": [
        "#Zip and loop through two lists\n",
        "a = [1, 2, 3]\n",
        "b = ['a', 'b', 'c']\n",
        "for num, char in zip(a, b):\n",
        "    print(num, char)"
      ],
      "metadata": {
        "colab": {
          "base_uri": "https://localhost:8080/"
        },
        "id": "5Gp1Z7DDp1qC",
        "outputId": "4cc6183f-83fa-4808-95aa-f2223a3f1f28"
      },
      "execution_count": 43,
      "outputs": [
        {
          "output_type": "stream",
          "name": "stdout",
          "text": [
            "1 a\n",
            "2 b\n",
            "3 c\n"
          ]
        }
      ]
    },
    {
      "cell_type": "code",
      "source": [
        "# Print index and value using loop\n",
        "for index, value in enumerate([10, 20, 30]):\n",
        "    print(index, value)"
      ],
      "metadata": {
        "colab": {
          "base_uri": "https://localhost:8080/"
        },
        "id": "sXiqoPQvqCuV",
        "outputId": "c5fa2792-3a75-423b-bf50-028878c7c39e"
      },
      "execution_count": 44,
      "outputs": [
        {
          "output_type": "stream",
          "name": "stdout",
          "text": [
            "0 10\n",
            "1 20\n",
            "2 30\n"
          ]
        }
      ]
    }
  ]
}