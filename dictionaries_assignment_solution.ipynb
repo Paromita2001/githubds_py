{
  "cells": [
    {
      "cell_type": "markdown",
      "metadata": {
        "id": "view-in-github",
        "colab_type": "text"
      },
      "source": [
        "<a href=\"https://colab.research.google.com/github/Paromita2001/githubds_py/blob/main/dictionaries_assignment_solution.ipynb\" target=\"_parent\"><img src=\"https://colab.research.google.com/assets/colab-badge.svg\" alt=\"Open In Colab\"/></a>"
      ]
    },
    {
      "cell_type": "markdown",
      "metadata": {
        "id": "_Zkrau-Ynnwr"
      },
      "source": [
        "# Module: Data Structures Assignments\n",
        "#Dictionaries\n",
        "### Assignment 1: Creating and Accessing Dictionaries\n",
        "\n",
        "Create a dictionary with the first 10 positive integers as keys and their squares as values. Print the dictionary."
      ],
      "id": "_Zkrau-Ynnwr"
    },
    {
      "cell_type": "code",
      "execution_count": 1,
      "metadata": {
        "colab": {
          "base_uri": "https://localhost:8080/"
        },
        "id": "j_E0Emrxnnwu",
        "outputId": "7ef858d3-5835-4e76-9929-5a01ff3e7da3"
      },
      "outputs": [
        {
          "output_type": "stream",
          "name": "stdout",
          "text": [
            "{1: 1, 2: 4, 3: 9, 4: 16, 5: 25, 6: 36, 7: 49, 8: 64, 9: 81, 10: 100}\n"
          ]
        }
      ],
      "source": [
        "d = {i: i**2 for i in range(1, 11)}\n",
        "print(d)"
      ],
      "id": "j_E0Emrxnnwu"
    },
    {
      "cell_type": "markdown",
      "metadata": {
        "id": "gDJIPhPnnnww"
      },
      "source": [
        "### Assignment 2: Accessing Dictionary Elements\n",
        "\n",
        "Print the value of the key 5 and the keys of the dictionary created in Assignment 1."
      ],
      "id": "gDJIPhPnnnww"
    },
    {
      "cell_type": "code",
      "execution_count": 2,
      "metadata": {
        "colab": {
          "base_uri": "https://localhost:8080/"
        },
        "id": "GKTYvTabnnww",
        "outputId": "251e6922-00a5-4d43-faa6-2c38225e4676"
      },
      "outputs": [
        {
          "output_type": "stream",
          "name": "stdout",
          "text": [
            "Value of key 5: 25\n",
            "Keys: [1, 2, 3, 4, 5, 6, 7, 8, 9, 10]\n"
          ]
        }
      ],
      "source": [
        "print(f\"Value of key 5: {d[5]}\")\n",
        "print(f\"Keys: {list(d.keys())}\")"
      ],
      "id": "GKTYvTabnnww"
    },
    {
      "cell_type": "markdown",
      "metadata": {
        "id": "ykF2YMbTnnwx"
      },
      "source": [
        "### Assignment 3: Dictionary Methods\n",
        "\n",
        "Add a new key-value pair (11, 121) to the dictionary created in Assignment 1 and then remove the key-value pair with key 1. Print the modified dictionary."
      ],
      "id": "ykF2YMbTnnwx"
    },
    {
      "cell_type": "code",
      "execution_count": 3,
      "metadata": {
        "colab": {
          "base_uri": "https://localhost:8080/"
        },
        "id": "gcHXZ7qinnwx",
        "outputId": "f00a8378-8dce-4342-fa40-8a72c01a423e"
      },
      "outputs": [
        {
          "output_type": "stream",
          "name": "stdout",
          "text": [
            "{2: 4, 3: 9, 4: 16, 5: 25, 6: 36, 7: 49, 8: 64, 9: 81, 10: 100, 11: 121}\n"
          ]
        }
      ],
      "source": [
        "d[11] = 121\n",
        "d.pop(1)\n",
        "print(d)"
      ],
      "id": "gcHXZ7qinnwx"
    },
    {
      "cell_type": "markdown",
      "metadata": {
        "id": "r5mYR4d1nnwx"
      },
      "source": [
        "### Assignment 4: Iterating Over Dictionaries\n",
        "\n",
        "Iterate over the dictionary created in Assignment 1 and print each key-value pair."
      ],
      "id": "r5mYR4d1nnwx"
    },
    {
      "cell_type": "code",
      "execution_count": 4,
      "metadata": {
        "colab": {
          "base_uri": "https://localhost:8080/"
        },
        "id": "-mTN3cCPnnwy",
        "outputId": "e001973e-e1eb-4595-d17b-825f774da0fb"
      },
      "outputs": [
        {
          "output_type": "stream",
          "name": "stdout",
          "text": [
            "2: 4\n",
            "3: 9\n",
            "4: 16\n",
            "5: 25\n",
            "6: 36\n",
            "7: 49\n",
            "8: 64\n",
            "9: 81\n",
            "10: 100\n",
            "11: 121\n"
          ]
        }
      ],
      "source": [
        "for key, value in d.items():\n",
        "    print(f\"{key}: {value}\")"
      ],
      "id": "-mTN3cCPnnwy"
    },
    {
      "cell_type": "markdown",
      "metadata": {
        "id": "QckhEBFcnnwy"
      },
      "source": [
        "### Assignment 5: Dictionary Comprehensions\n",
        "\n",
        "Create a new dictionary containing the cubes of the first 10 positive integers using a dictionary comprehension. Print the new dictionary."
      ],
      "id": "QckhEBFcnnwy"
    },
    {
      "cell_type": "code",
      "execution_count": 5,
      "metadata": {
        "colab": {
          "base_uri": "https://localhost:8080/"
        },
        "id": "bPA7hCI3nnwz",
        "outputId": "eb2fd217-67bb-4401-9fd9-f1613dc5f01e"
      },
      "outputs": [
        {
          "output_type": "stream",
          "name": "stdout",
          "text": [
            "{1: 1, 2: 8, 3: 27, 4: 64, 5: 125, 6: 216, 7: 343, 8: 512, 9: 729, 10: 1000}\n"
          ]
        }
      ],
      "source": [
        "cubes = {i: i**3 for i in range(1, 11)}\n",
        "print(cubes)"
      ],
      "id": "bPA7hCI3nnwz"
    },
    {
      "cell_type": "markdown",
      "metadata": {
        "id": "PNdfBD2knnwz"
      },
      "source": [
        "### Assignment 6: Merging Dictionaries\n",
        "\n",
        "Create two dictionaries: one with keys as the first 5 positive integers and values as their squares, and another with keys as the next 5 positive integers and values as their squares. Merge these dictionaries into a single dictionary and print it."
      ],
      "id": "PNdfBD2knnwz"
    },
    {
      "cell_type": "code",
      "execution_count": 6,
      "metadata": {
        "colab": {
          "base_uri": "https://localhost:8080/"
        },
        "id": "TMJqOaavnnwz",
        "outputId": "f9f24a6a-4ee6-416e-d9b8-b6950128f353"
      },
      "outputs": [
        {
          "output_type": "stream",
          "name": "stdout",
          "text": [
            "{1: 1, 2: 4, 3: 9, 4: 16, 5: 25, 6: 36, 7: 49, 8: 64, 9: 81, 10: 100}\n"
          ]
        }
      ],
      "source": [
        "d1 = {i: i**2 for i in range(1, 6)}\n",
        "d2 = {i: i**2 for i in range(6, 11)}\n",
        "d1.update(d2)\n",
        "print(d1)"
      ],
      "id": "TMJqOaavnnwz"
    },
    {
      "cell_type": "markdown",
      "metadata": {
        "id": "iUh5plhbnnwz"
      },
      "source": [
        "### Assignment 7: Nested Dictionaries\n",
        "\n",
        "Create a nested dictionary representing a student with keys 'name', 'age', 'grades', where 'grades' is another dictionary with keys 'math', 'science', and 'english'. Print the nested dictionary."
      ],
      "id": "iUh5plhbnnwz"
    },
    {
      "cell_type": "code",
      "execution_count": 7,
      "metadata": {
        "colab": {
          "base_uri": "https://localhost:8080/"
        },
        "id": "8wRZkZyrnnw0",
        "outputId": "692211e8-5eb5-4513-8c2a-72702646a330"
      },
      "outputs": [
        {
          "output_type": "stream",
          "name": "stdout",
          "text": [
            "{'name': 'John Doe', 'age': 16, 'grades': {'math': 90, 'science': 85, 'english': 88}}\n"
          ]
        }
      ],
      "source": [
        "student = {\n",
        "    'name': 'John Doe',\n",
        "    'age': 16,\n",
        "    'grades': {\n",
        "        'math': 90,\n",
        "        'science': 85,\n",
        "        'english': 88\n",
        "    }\n",
        "}\n",
        "print(student)"
      ],
      "id": "8wRZkZyrnnw0"
    },
    {
      "cell_type": "markdown",
      "metadata": {
        "id": "LRUL3l2Gnnw0"
      },
      "source": [
        "### Assignment 8: Dictionary of Lists\n",
        "\n",
        "Create a dictionary where the keys are the first 5 positive integers and the values are lists containing the first 5 multiples of the key. Print the dictionary."
      ],
      "id": "LRUL3l2Gnnw0"
    },
    {
      "cell_type": "code",
      "execution_count": 8,
      "metadata": {
        "colab": {
          "base_uri": "https://localhost:8080/"
        },
        "id": "nhSKJPmdnnw0",
        "outputId": "e99abf61-80e6-4bcd-da88-2dad0f2d6712"
      },
      "outputs": [
        {
          "output_type": "stream",
          "name": "stdout",
          "text": [
            "{1: [1, 2, 3, 4, 5], 2: [2, 4, 6, 8, 10], 3: [3, 6, 9, 12, 15], 4: [4, 8, 12, 16, 20], 5: [5, 10, 15, 20, 25]}\n"
          ]
        }
      ],
      "source": [
        "multiples = {i: [i * j for j in range(1, 6)] for i in range(1, 6)}\n",
        "print(multiples)"
      ],
      "id": "nhSKJPmdnnw0"
    },
    {
      "cell_type": "markdown",
      "metadata": {
        "id": "kfCBSAjxnnw0"
      },
      "source": [
        "### Assignment 9: Dictionary of Tuples\n",
        "\n",
        "Create a dictionary where the keys are the first 5 positive integers and the values are tuples containing the key and its square. Print the dictionary."
      ],
      "id": "kfCBSAjxnnw0"
    },
    {
      "cell_type": "code",
      "execution_count": 9,
      "metadata": {
        "colab": {
          "base_uri": "https://localhost:8080/"
        },
        "id": "QCDzeEzxnnw0",
        "outputId": "96f60882-e3d9-4eca-e39c-8cfb5ad7de18"
      },
      "outputs": [
        {
          "output_type": "stream",
          "name": "stdout",
          "text": [
            "{1: (1, 1), 2: (2, 4), 3: (3, 9), 4: (4, 16), 5: (5, 25)}\n"
          ]
        }
      ],
      "source": [
        "tuple_dict = {i: (i, i**2) for i in range(1, 6)}\n",
        "print(tuple_dict)"
      ],
      "id": "QCDzeEzxnnw0"
    },
    {
      "cell_type": "markdown",
      "metadata": {
        "id": "n5pA5ketnnw1"
      },
      "source": [
        "### Assignment 10: Dictionary and List Conversion\n",
        "\n",
        "Create a dictionary with the first 5 positive integers as keys and their squares as values. Convert the dictionary to a list of tuples and print it."
      ],
      "id": "n5pA5ketnnw1"
    },
    {
      "cell_type": "code",
      "execution_count": 10,
      "metadata": {
        "colab": {
          "base_uri": "https://localhost:8080/"
        },
        "id": "awdRtnJGnnw1",
        "outputId": "2c5ee4cf-aef6-4497-e65e-d7007377d79b"
      },
      "outputs": [
        {
          "output_type": "stream",
          "name": "stdout",
          "text": [
            "[(1, 1), (2, 4), (3, 9), (4, 16), (5, 25)]\n"
          ]
        }
      ],
      "source": [
        "d = {i: i**2 for i in range(1, 6)}\n",
        "list_of_tuples = list(d.items())\n",
        "print(list_of_tuples)"
      ],
      "id": "awdRtnJGnnw1"
    },
    {
      "cell_type": "markdown",
      "metadata": {
        "id": "i5el2-monnw1"
      },
      "source": [
        "### Assignment 11: Dictionary Filtering\n",
        "\n",
        "Create a dictionary with the first 10 positive integers as keys and their squares as values. Create a new dictionary containing only the key-value pairs where the key is even. Print the new dictionary."
      ],
      "id": "i5el2-monnw1"
    },
    {
      "cell_type": "code",
      "execution_count": 11,
      "metadata": {
        "colab": {
          "base_uri": "https://localhost:8080/"
        },
        "id": "CpvwfuChnnw1",
        "outputId": "79d6c2a7-e92e-4140-f724-eb465d93bbf8"
      },
      "outputs": [
        {
          "output_type": "stream",
          "name": "stdout",
          "text": [
            "{2: 4, 4: 16, 6: 36, 8: 64, 10: 100}\n"
          ]
        }
      ],
      "source": [
        "d = {i: i**2 for i in range(1, 11)}\n",
        "even_dict = {k: v for k, v in d.items() if k % 2 == 0}\n",
        "print(even_dict)"
      ],
      "id": "CpvwfuChnnw1"
    },
    {
      "cell_type": "markdown",
      "metadata": {
        "id": "5EHuzMjrnnw1"
      },
      "source": [
        "### Assignment 12: Dictionary Key and Value Transformation\n",
        "\n",
        "Create a dictionary with the first 5 positive integers as keys and their squares as values. Create a new dictionary with keys and values swapped. Print the new dictionary."
      ],
      "id": "5EHuzMjrnnw1"
    },
    {
      "cell_type": "code",
      "execution_count": 12,
      "metadata": {
        "colab": {
          "base_uri": "https://localhost:8080/"
        },
        "id": "VftUAGJknnw2",
        "outputId": "11c48c17-4298-41bf-b4cd-2bb2f57093d2"
      },
      "outputs": [
        {
          "output_type": "stream",
          "name": "stdout",
          "text": [
            "{1: 1, 4: 2, 9: 3, 16: 4, 25: 5}\n"
          ]
        }
      ],
      "source": [
        "d = {i: i**2 for i in range(1, 6)}\n",
        "swapped_dict = {v: k for k, v in d.items()}\n",
        "print(swapped_dict)"
      ],
      "id": "VftUAGJknnw2"
    },
    {
      "cell_type": "markdown",
      "metadata": {
        "id": "d5z_5tBPnnw2"
      },
      "source": [
        "### Assignment 13: Default Dictionary\n",
        "\n",
        "Create a default dictionary where each key has a default value of an empty list. Add some elements to the lists and print the dictionary."
      ],
      "id": "d5z_5tBPnnw2"
    },
    {
      "cell_type": "code",
      "execution_count": 13,
      "metadata": {
        "colab": {
          "base_uri": "https://localhost:8080/"
        },
        "id": "KOMGvM9Hnnw2",
        "outputId": "a7fe41c9-2d97-4a1c-a99c-72017b91775c"
      },
      "outputs": [
        {
          "output_type": "stream",
          "name": "stdout",
          "text": [
            "defaultdict(<class 'list'>, {'a': [1, 2], 'b': [3]})\n"
          ]
        }
      ],
      "source": [
        "from collections import defaultdict\n",
        "\n",
        "default_dict = defaultdict(list)\n",
        "default_dict['a'].append(1)\n",
        "default_dict['a'].append(2)\n",
        "default_dict['b'].append(3)\n",
        "print(default_dict)"
      ],
      "id": "KOMGvM9Hnnw2"
    },
    {
      "cell_type": "markdown",
      "metadata": {
        "id": "ohC8q2o5nnw3"
      },
      "source": [
        "### Assignment 14: Counting with Dictionaries\n",
        "\n",
        "Write a function that takes a string and returns a dictionary with the count of each character in the string. Print the dictionary."
      ],
      "id": "ohC8q2o5nnw3"
    },
    {
      "cell_type": "code",
      "execution_count": 14,
      "metadata": {
        "colab": {
          "base_uri": "https://localhost:8080/"
        },
        "id": "R0hiU0vOnnw3",
        "outputId": "af93254f-9f17-4ce4-ebf8-359127b7cc97"
      },
      "outputs": [
        {
          "output_type": "stream",
          "name": "stdout",
          "text": [
            "{'h': 1, 'e': 1, 'l': 3, 'o': 2, ' ': 1, 'w': 1, 'r': 1, 'd': 1}\n"
          ]
        }
      ],
      "source": [
        "def count_chars(s):\n",
        "    count_dict = {}\n",
        "    for char in s:\n",
        "        count_dict[char] = count_dict.get(char, 0) + 1\n",
        "    return count_dict\n",
        "\n",
        "string = \"hello world\"\n",
        "print(count_chars(string))"
      ],
      "id": "R0hiU0vOnnw3"
    },
    {
      "cell_type": "markdown",
      "metadata": {
        "id": "Y0K6v9Hwnnw3"
      },
      "source": [
        "### Assignment 15: Dictionary and JSON\n",
        "\n",
        "Create a dictionary representing a book with keys 'title', 'author', 'year', and 'genre'. Convert the dictionary to a JSON string and print it."
      ],
      "id": "Y0K6v9Hwnnw3"
    },
    {
      "cell_type": "code",
      "execution_count": 15,
      "metadata": {
        "colab": {
          "base_uri": "https://localhost:8080/"
        },
        "id": "IA7NsogZnnw3",
        "outputId": "318887be-1b1f-49ca-ad21-085d4a908982"
      },
      "outputs": [
        {
          "output_type": "stream",
          "name": "stdout",
          "text": [
            "{\"title\": \"To Kill a Mockingbird\", \"author\": \"Harper Lee\", \"year\": 1960, \"genre\": \"Fiction\"}\n"
          ]
        }
      ],
      "source": [
        "import json\n",
        "\n",
        "book = {\n",
        "    'title': 'To Kill a Mockingbird',\n",
        "    'author': 'Harper Lee',\n",
        "    'year': 1960,\n",
        "    'genre': 'Fiction'\n",
        "}\n",
        "book_json = json.dumps(book)\n",
        "print(book_json)"
      ],
      "id": "IA7NsogZnnw3"
    },
    {
      "cell_type": "code",
      "source": [],
      "metadata": {
        "id": "hgcc372dqDMt"
      },
      "id": "hgcc372dqDMt",
      "execution_count": null,
      "outputs": []
    }
  ],
  "metadata": {
    "kernelspec": {
      "display_name": "Python 3",
      "language": "python",
      "name": "python3"
    },
    "language_info": {
      "codemirror_mode": {
        "name": "ipython",
        "version": 3
      },
      "file_extension": ".py",
      "mimetype": "text/x-python",
      "name": "python",
      "nbconvert_exporter": "python",
      "pygments_lexer": "ipython3",
      "version": "3.9.7"
    },
    "colab": {
      "provenance": [],
      "include_colab_link": true
    }
  },
  "nbformat": 4,
  "nbformat_minor": 5
}