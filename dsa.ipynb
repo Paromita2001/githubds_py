{
  "nbformat": 4,
  "nbformat_minor": 0,
  "metadata": {
    "colab": {
      "provenance": [],
      "authorship_tag": "ABX9TyOCGQ4u1HJgBaa1TXTxnfge",
      "include_colab_link": true
    },
    "kernelspec": {
      "name": "python3",
      "display_name": "Python 3"
    },
    "language_info": {
      "name": "python"
    }
  },
  "cells": [
    {
      "cell_type": "markdown",
      "metadata": {
        "id": "view-in-github",
        "colab_type": "text"
      },
      "source": [
        "<a href=\"https://colab.research.google.com/github/Paromita2001/githubds_py/blob/main/dsa.ipynb\" target=\"_parent\"><img src=\"https://colab.research.google.com/assets/colab-badge.svg\" alt=\"Open In Colab\"/></a>"
      ]
    },
    {
      "cell_type": "code",
      "execution_count": 4,
      "metadata": {
        "colab": {
          "base_uri": "https://localhost:8080/"
        },
        "id": "1NqS2fZp2qIa",
        "outputId": "64a681cb-c724-4a47-ca98-2e5e9149bdbd"
      },
      "outputs": [
        {
          "output_type": "stream",
          "name": "stdout",
          "text": [
            "210\n"
          ]
        }
      ],
      "source": [
        "# Find the sum of all elements in a list.\n",
        "def num(lst):\n",
        "  sum=0\n",
        "  for i in lst:\n",
        "    sum+=i\n",
        "  return sum\n",
        "print(num([1,2,3,45,2,24,78,20,35]))"
      ]
    },
    {
      "cell_type": "code",
      "source": [
        "# Remove duplicates from [1,2,2,3,3,4,4].\n",
        "def num(lst):\n",
        "  no_dup=[]\n",
        "  for i in lst:\n",
        "    if i not in no_dup:\n",
        "      no_dup.append(i)\n",
        "\n",
        "  return no_dup\n",
        "print(num([1,2,2,3,3,4,4]))"
      ],
      "metadata": {
        "colab": {
          "base_uri": "https://localhost:8080/"
        },
        "id": "PRM7sEjU3vyd",
        "outputId": "5fcf2f1b-6211-4c39-f61f-edb88a50884f"
      },
      "execution_count": 5,
      "outputs": [
        {
          "output_type": "stream",
          "name": "stdout",
          "text": [
            "[1, 2, 3, 4]\n"
          ]
        }
      ]
    },
    {
      "cell_type": "code",
      "source": [
        "# Extract all even numbers from [1..20] using list comprehension.\n",
        "x=[i for i in range (1,21) if i%2==0]\n",
        "print(x)"
      ],
      "metadata": {
        "colab": {
          "base_uri": "https://localhost:8080/"
        },
        "id": "icmO-whB3M6q",
        "outputId": "b6f41574-a66b-4b17-e2c8-f0e54bda129e"
      },
      "execution_count": 11,
      "outputs": [
        {
          "output_type": "stream",
          "name": "stdout",
          "text": [
            "[2, 4, 6, 8, 10, 12, 14, 16, 18, 20]\n"
          ]
        }
      ]
    },
    {
      "cell_type": "code",
      "source": [
        "# Return the maximum and minimum value from a tuple (5, 12, 7, 3).\n",
        "def min_max(lst):\n",
        "    return (min(lst), max(lst))\n",
        "\n",
        "result = min_max([5,12,7,3])\n",
        "print(result)\n",
        "\n"
      ],
      "metadata": {
        "colab": {
          "base_uri": "https://localhost:8080/"
        },
        "id": "wXKJ8MiY3M9C",
        "outputId": "968ab9c0-dc1c-469e-96d1-65930673a182"
      },
      "execution_count": 12,
      "outputs": [
        {
          "output_type": "stream",
          "name": "stdout",
          "text": [
            "(3, 12)\n"
          ]
        }
      ]
    },
    {
      "cell_type": "code",
      "source": [
        "#Swap the first and last elements of a tuple .\n",
        "def num(tup):\n",
        "  num=list(tup)\n",
        "  num[0],num[-1]=num[-1],num[0]\n",
        "\n",
        "  return tuple(num)\n",
        "print(num((1,2,3,4,5)))\n",
        "\n"
      ],
      "metadata": {
        "colab": {
          "base_uri": "https://localhost:8080/"
        },
        "id": "AcnWe5yz3raW",
        "outputId": "e8a55a80-7bed-4059-fe10-93aa98d9bfc4"
      },
      "execution_count": 15,
      "outputs": [
        {
          "output_type": "stream",
          "name": "stdout",
          "text": [
            "(5, 2, 3, 4, 1)\n"
          ]
        }
      ]
    },
    {
      "cell_type": "code",
      "source": [
        "#Find common elements between {1,2,3} and {2,3,4}.\n",
        "set1 = {1, 2, 3}\n",
        "set2 = {2, 3, 4}\n",
        "\n",
        "common = set1 & set2\n",
        "print(common)\n"
      ],
      "metadata": {
        "colab": {
          "base_uri": "https://localhost:8080/"
        },
        "id": "i-s6zmp13M_R",
        "outputId": "3e3a6cef-2fb9-401a-8f5e-2ddd6879d88a"
      },
      "execution_count": 16,
      "outputs": [
        {
          "output_type": "stream",
          "name": "stdout",
          "text": [
            "{2, 3}\n"
          ]
        }
      ]
    },
    {
      "cell_type": "code",
      "source": [
        "# Count the number of unique words in a list of strings.\n",
        "words = [\"data\", \"science\", \"data\", \"ai\", \"machine\", \"ai\"]\n",
        "\n",
        "unique = set(words)\n",
        "count = len(unique)\n",
        "print(count)\n"
      ],
      "metadata": {
        "colab": {
          "base_uri": "https://localhost:8080/"
        },
        "id": "1ftEGcMW3oAf",
        "outputId": "5a76dd77-b9b6-454c-be87-4975e9e31b6d"
      },
      "execution_count": 17,
      "outputs": [
        {
          "output_type": "stream",
          "name": "stdout",
          "text": [
            "4\n"
          ]
        }
      ]
    },
    {
      "cell_type": "code",
      "source": [
        "#Given {\"a\":1,\"b\":2,\"c\":3}, increment each value by 10.\n",
        "d = {\"a\": 1, \"b\": 2, \"c\": 3}\n",
        "x = {k: v + 10 for k, v in d.items()}\n",
        "print(x)\n"
      ],
      "metadata": {
        "colab": {
          "base_uri": "https://localhost:8080/"
        },
        "id": "ye2N8bNO3NB9",
        "outputId": "71c7be06-85fe-41a3-8203-af8095c49abc"
      },
      "execution_count": 20,
      "outputs": [
        {
          "output_type": "stream",
          "name": "stdout",
          "text": [
            "{'a': 11, 'b': 12, 'c': 13}\n"
          ]
        }
      ]
    },
    {
      "cell_type": "code",
      "source": [
        "#Extract all keys from {\"x\":10,\"y\":20,\"z\":30} whose value >15.\n",
        "data = {\"x\": 10, \"y\": 20, \"z\": 30}\n",
        "result = [k for k, v in data.items() if v > 15]\n",
        "print(result)\n"
      ],
      "metadata": {
        "id": "17xoskS63NEt"
      },
      "execution_count": null,
      "outputs": []
    },
    {
      "cell_type": "code",
      "source": [],
      "metadata": {
        "id": "imMiNplX3NHf"
      },
      "execution_count": 20,
      "outputs": []
    }
  ]
}