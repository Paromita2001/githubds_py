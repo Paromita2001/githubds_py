{
  "nbformat": 4,
  "nbformat_minor": 0,
  "metadata": {
    "colab": {
      "provenance": [],
      "authorship_tag": "ABX9TyMnNlOLBoOzRqgwcOGBahO7",
      "include_colab_link": true
    },
    "kernelspec": {
      "name": "python3",
      "display_name": "Python 3"
    },
    "language_info": {
      "name": "python"
    }
  },
  "cells": [
    {
      "cell_type": "markdown",
      "metadata": {
        "id": "view-in-github",
        "colab_type": "text"
      },
      "source": [
        "<a href=\"https://colab.research.google.com/github/Paromita2001/githubds_py/blob/main/dsa.ipynb\" target=\"_parent\"><img src=\"https://colab.research.google.com/assets/colab-badge.svg\" alt=\"Open In Colab\"/></a>"
      ]
    },
    {
      "cell_type": "code",
      "execution_count": 3,
      "metadata": {
        "colab": {
          "base_uri": "https://localhost:8080/"
        },
        "id": "P1rdrOO1LKJp",
        "outputId": "02949ec1-9a3c-4234-a5b9-ea70f1ffd135"
      },
      "outputs": [
        {
          "output_type": "stream",
          "name": "stdout",
          "text": [
            "9\n"
          ]
        }
      ],
      "source": [
        "# Problem 1: Find Maximum Element in Array\n",
        "# Given an array of integers, find and return the maximum element.\n",
        "\n",
        "# text\n",
        "# Input: arr = [3, 7, 2, 9, 1, 5]\n",
        "# Output: 9\n",
        "\n",
        "def lst(num):\n",
        "  n=0\n",
        "  for i in num:\n",
        "    if i>n:\n",
        "      n=i\n",
        "  return n\n",
        "\n",
        "print(lst([3, 7, 2, 9, 1, 5]))\n"
      ]
    },
    {
      "cell_type": "code",
      "source": [
        "\n",
        "# Problem 2: Reverse an Array In-Place\n",
        "# Reverse the given array without using extra space.\n",
        "\n",
        "# text\n",
        "# Input: arr = [1, 2, 3, 4, 5]\n",
        "# Output: [5, 4, 3, 2, 1]\n",
        "\n",
        "def lst(num):\n",
        "  rev=[]\n",
        "  for i in num:\n",
        "    rev=[i]+rev\n",
        "  return rev\n",
        "print(lst([1,2,3,4,5]))\n",
        ""
      ],
      "metadata": {
        "colab": {
          "base_uri": "https://localhost:8080/"
        },
        "id": "hhYT4fvULePM",
        "outputId": "abbdf391-0cdb-4f8a-e0e7-6e3483ce16d9"
      },
      "execution_count": 6,
      "outputs": [
        {
          "output_type": "stream",
          "name": "stdout",
          "text": [
            "[5, 4, 3, 2, 1]\n"
          ]
        }
      ]
    },
    {
      "cell_type": "code",
      "source": [
        "# Problem 3: Two Sum Problem\n",
        "# Find two numbers in array that add up to a target sum. Return their indices.\n",
        "\n",
        "# text\n",
        "# Input: arr = [2, 7, 11, 15], target = 9\n",
        "# Output: [0, 1]\n",
        "\n",
        "def two_sum(arr, target):\n",
        "    seen = {}  # value: index\n",
        "    for i, num in enumerate(arr):\n",
        "        diff = target - num\n",
        "        if diff in seen:\n",
        "            return [seen[diff], i]\n",
        "        seen[num] = i\n"
      ],
      "metadata": {
        "id": "BrM8g6iwLecd"
      },
      "execution_count": 8,
      "outputs": []
    },
    {
      "cell_type": "code",
      "source": [
        "# Problem 4: Remove Duplicates from Sorted Array\n",
        "# Given a sorted array, remove duplicates in-place and return new length.\n",
        "\n",
        "# text\n",
        "# Input: arr = [1, 1, 2, 2, 3, 4, 4]\n",
        "# Output: 4, arr = [1, 2, 3, 4, _, _, _]\n",
        "\n",
        "def remove_duplicates(arr):\n",
        "    if not arr:\n",
        "        return 0\n",
        "\n",
        "    i = 0\n",
        "\n",
        "    for j in range(1, len(arr)):\n",
        "        if arr[j] != arr[i]:\n",
        "            i += 1\n",
        "            arr[i] = arr[j]\n",
        "\n",
        "    return i + 1\n"
      ],
      "metadata": {
        "id": "ws04IXmhLe1U"
      },
      "execution_count": 7,
      "outputs": []
    },
    {
      "cell_type": "code",
      "source": [
        "# Problem 5: Move Zeros to End\n",
        "# Move all zeros to the end while maintaining relative order of non-zero elements.\n",
        "\n",
        "# text\n",
        "# Input: arr = [0, 1, 0, 3, 12]\n",
        "# Output: [1, 3, 12, 0, 0]\n",
        "\n",
        "def move_zeros(arr):\n",
        "    pos = 0\n",
        "    for i in range(len(arr)):\n",
        "        if arr[i] != 0:\n",
        "            arr[pos], arr[i] = arr[i], arr[pos]\n",
        "            pos += 1\n",
        "    return arr\n"
      ],
      "metadata": {
        "id": "kptxV1ShLe5W"
      },
      "execution_count": 6,
      "outputs": []
    },
    {
      "cell_type": "code",
      "source": [
        "# Problem 6: Find Second Largest Element\n",
        "# Find the second largest element in array.\n",
        "\n",
        "# text\n",
        "# Input: arr = [12, 35, 1, 10, 34, 1]\n",
        "# Output: 34\n",
        "\n",
        "def second_largest(arr):\n",
        "    first = second = float('-inf')\n",
        "\n",
        "    for num in arr:\n",
        "        if num > first:\n",
        "            second = first\n",
        "            first = num\n",
        "        elif num > second and num != first:\n",
        "            second = num\n",
        "\n",
        "    return second\n",
        "\n",
        "\n",
        "print(second_largest([12, 35, 1, 10, 34, 1]))\n",
        "\n"
      ],
      "metadata": {
        "colab": {
          "base_uri": "https://localhost:8080/"
        },
        "id": "LkbsfVVLLe94",
        "outputId": "124b76d5-6e3e-46fb-e9b3-82aeae32c08a"
      },
      "execution_count": 10,
      "outputs": [
        {
          "output_type": "stream",
          "name": "stdout",
          "text": [
            "34\n"
          ]
        }
      ]
    },
    {
      "cell_type": "code",
      "source": [
        "# Problem 7: Rotate Array by K Positions\n",
        "# Rotate array to the right by k steps.\n",
        "\n",
        "# text\n",
        "# Input: arr = [1, 2, 3, 4, 5, 6, 7], k = 3\n",
        "# Output: [5, 6, 7, 1, 2, 3, 4]\n",
        "\n",
        "def rotate_array_manual(arr, k):\n",
        "    n = len(arr)\n",
        "    k = k % n\n",
        "\n",
        "    rotated = []\n",
        "    # add last k elements first\n",
        "    for i in range(n - k, n):\n",
        "        rotated.append(arr[i])\n",
        "    # then add first n-k elements\n",
        "    for i in range(n - k):\n",
        "        rotated.append(arr[i])\n",
        "\n",
        "    return rotated\n",
        "\n",
        "print(rotate_array_manual([1, 2, 3, 4, 5, 6, 7], 3))\n"
      ],
      "metadata": {
        "colab": {
          "base_uri": "https://localhost:8080/"
        },
        "id": "CiLWSDbDLfCm",
        "outputId": "4c314fce-6876-44a9-cbd4-a61d91e9a7fc"
      },
      "execution_count": 4,
      "outputs": [
        {
          "output_type": "stream",
          "name": "stdout",
          "text": [
            "[5, 6, 7, 1, 2, 3, 4]\n"
          ]
        }
      ]
    },
    {
      "cell_type": "code",
      "source": [
        "# Problem 8: Check if Array is Sorted\n",
        "# Check whether array is sorted in ascending order.\n",
        "\n",
        "# text\n",
        "# Input: arr = [1, 2, 3, 4, 5]\n",
        "# Output: True\n",
        "\n",
        "def lst(num):\n",
        "    for i in range(len(num) - 1):\n",
        "        if num[i] > num[i + 1]:\n",
        "            return False\n",
        "    return True\n",
        "\n",
        "print(lst([1, 2, 3, 4, 5]))\n",
        "print(lst([1, 3, 2, 4, 5]))\n",
        "\n"
      ],
      "metadata": {
        "colab": {
          "base_uri": "https://localhost:8080/"
        },
        "id": "RPaIRRp-LfGj",
        "outputId": "c9eb092d-0bc7-4ad8-b9bc-310ff3b053b3"
      },
      "execution_count": 2,
      "outputs": [
        {
          "output_type": "stream",
          "name": "stdout",
          "text": [
            "True\n",
            "False\n"
          ]
        }
      ]
    },
    {
      "cell_type": "code",
      "source": [
        "# Problem 9: Find Missing Number (1 to N)\n",
        "# Array contains numbers from 1 to N with one missing. Find the missing number.\n",
        "\n",
        "# text\n",
        "# Input: arr = [1, 2, 4, 5, 6]\n",
        "# Output: 3\n",
        "def num(lst):\n",
        "  for i in range (1,lst[-1]):\n",
        "      if i not in lst:\n",
        "        print()\n",
        "        break\n",
        "  return i\n",
        "print(num([1,2,4,5,6]))\n",
        "\n"
      ],
      "metadata": {
        "colab": {
          "base_uri": "https://localhost:8080/"
        },
        "id": "vvBFc4d8LfKa",
        "outputId": "5f7e564d-d3cc-4141-9575-cb14e65343dd"
      },
      "execution_count": 18,
      "outputs": [
        {
          "output_type": "stream",
          "name": "stdout",
          "text": [
            "\n",
            "3\n"
          ]
        }
      ]
    },
    {
      "cell_type": "code",
      "source": [
        "# Problem 10: Merge Two Sorted Arrays\n",
        "# Merge two sorted arrays into one sorted array.\n",
        "\n",
        "# text\n",
        "# Input: arr1 = [1, 3, 5, 7], arr2 = [2, 4, 6, 8]\n",
        "# Output: [1, 2, 3, 4, 5, 6, 7, 8]\n",
        "\n",
        "def merge_sorted(arr1, arr2):\n",
        "    i = j = 0\n",
        "    merged = []\n",
        "\n",
        "    # loop until one array is exhausted\n",
        "    while i < len(arr1) and j < len(arr2):\n",
        "        if arr1[i] < arr2[j]:\n",
        "            merged.append(arr1[i])\n",
        "            i += 1\n",
        "        else:\n",
        "            merged.append(arr2[j])\n",
        "            j += 1\n",
        "\n",
        "    # add remaining elements (if any)\n",
        "    while i < len(arr1):\n",
        "        merged.append(arr1[i])\n",
        "        i += 1\n",
        "\n",
        "    while j < len(arr2):\n",
        "        merged.append(arr2[j])\n",
        "        j += 1\n",
        "\n",
        "    return merged\n",
        "\n",
        "print(merge_sorted([1, 3, 5, 7], [2, 4, 6, 8]))\n"
      ],
      "metadata": {
        "colab": {
          "base_uri": "https://localhost:8080/"
        },
        "id": "-xIVg7ahLfPS",
        "outputId": "32da253b-cf81-4446-d5d2-76e3af64ddaa"
      },
      "execution_count": 3,
      "outputs": [
        {
          "output_type": "stream",
          "name": "stdout",
          "text": [
            "[1, 2, 3, 4, 5, 6, 7, 8]\n"
          ]
        }
      ]
    },
    {
      "cell_type": "code",
      "source": [
        "#vowel\n",
        "def word(sent):\n",
        "  vow='aeiouAEIOU'\n",
        "  count=0\n",
        "  for i in sent:\n",
        "    for j in vow:\n",
        "      if i==j:\n",
        "        count+=1\n",
        "  return count\n",
        "\n",
        "print(word('Data Science Is Fun And Interesting'))\n"
      ],
      "metadata": {
        "colab": {
          "base_uri": "https://localhost:8080/"
        },
        "id": "hmG4nVSP5F3i",
        "outputId": "8f108937-5abb-419e-c0b1-4121b1148039"
      },
      "execution_count": 2,
      "outputs": [
        {
          "output_type": "stream",
          "name": "stdout",
          "text": [
            "12\n"
          ]
        }
      ]
    },
    {
      "cell_type": "code",
      "source": [
        "#factorial\n",
        "def num(n):\n",
        "  fact=1\n",
        "  for i in range (1,n+1):\n",
        "    fact*=i\n",
        "  return fact\n",
        "print(num(5))\n",
        ""
      ],
      "metadata": {
        "colab": {
          "base_uri": "https://localhost:8080/"
        },
        "id": "k4S8v9F15F8B",
        "outputId": "34a97bb3-b484-4f4d-e014-4e2bf18c9ac7"
      },
      "execution_count": 4,
      "outputs": [
        {
          "output_type": "stream",
          "name": "stdout",
          "text": [
            "120\n"
          ]
        }
      ]
    },
    {
      "cell_type": "code",
      "source": [
        "#palindrom\n",
        "def pal(word):\n",
        "  rev=''\n",
        "  for i in word:\n",
        "    rev=i+rev\n",
        "    if rev==word:\n",
        "      print('it is a palindrom')\n",
        "      break\n",
        "  else:\n",
        "    print('not a palindrom')\n",
        "  return word\n",
        "print(pal('mada'))\n"
      ],
      "metadata": {
        "colab": {
          "base_uri": "https://localhost:8080/"
        },
        "id": "izlLObil5F_g",
        "outputId": "8c693f06-054f-4f6a-80eb-f4f1831686f1"
      },
      "execution_count": 12,
      "outputs": [
        {
          "output_type": "stream",
          "name": "stdout",
          "text": [
            "not a palindrom\n",
            "mada\n"
          ]
        }
      ]
    },
    {
      "cell_type": "code",
      "source": [],
      "metadata": {
        "id": "vsovwB-T7VQp"
      },
      "execution_count": null,
      "outputs": []
    }
  ]
}