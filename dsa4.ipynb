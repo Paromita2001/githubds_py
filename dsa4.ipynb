{
  "nbformat": 4,
  "nbformat_minor": 0,
  "metadata": {
    "colab": {
      "provenance": [],
      "authorship_tag": "ABX9TyPATI7atZQGC21whhkPfFe+",
      "include_colab_link": true
    },
    "kernelspec": {
      "name": "python3",
      "display_name": "Python 3"
    },
    "language_info": {
      "name": "python"
    }
  },
  "cells": [
    {
      "cell_type": "markdown",
      "metadata": {
        "id": "view-in-github",
        "colab_type": "text"
      },
      "source": [
        "<a href=\"https://colab.research.google.com/github/Paromita2001/githubds_py/blob/main/dsa4.ipynb\" target=\"_parent\"><img src=\"https://colab.research.google.com/assets/colab-badge.svg\" alt=\"Open In Colab\"/></a>"
      ]
    },
    {
      "cell_type": "code",
      "execution_count": 13,
      "metadata": {
        "colab": {
          "base_uri": "https://localhost:8080/"
        },
        "id": "-wr_qGBXvD4u",
        "outputId": "cfd14363-8ba9-4965-c0c1-26274103c81a"
      },
      "outputs": [
        {
          "output_type": "stream",
          "name": "stdout",
          "text": [
            "-2\n"
          ]
        }
      ],
      "source": [
        "# Find the Second Smallest Element in a List (without using sort)\n",
        "#Input: [5, 2, 9, 1, 5] Output: 2\n",
        "def small(lst):\n",
        "  first_ele=lst[0]\n",
        "  for i in range(0,len(lst)):\n",
        "    if lst[i]<first_ele:\n",
        "      first_ele=lst[i]\n",
        "\n",
        "  lst.remove(first_ele)\n",
        "\n",
        "  small_ele=lst[0]\n",
        "  for j in range(0,len(lst)):\n",
        "    if lst[j]<small_ele:\n",
        "      small_ele=lst[j]\n",
        "  return small_ele\n",
        "\n",
        "print(small([5,2,9,1,5]))\n"
      ]
    },
    {
      "cell_type": "code",
      "source": [
        "# Find the First Non-Repeating Character in a String python\n",
        "# Input: \"aabbccde\" Output: d\n",
        "def nonrep(char):\n",
        "  for i in range(0,len(char)):\n",
        "    if char.count(char[i])==1:\n",
        "      return char[i]\n",
        "\n",
        "  return None\n",
        "print(nonrep(\"aabbccde\"))"
      ],
      "metadata": {
        "colab": {
          "base_uri": "https://localhost:8080/"
        },
        "id": "G_qYzJ5kvYd-",
        "outputId": "fbcbc5b0-2107-4e7b-d52c-8bae141c2cd0"
      },
      "execution_count": 22,
      "outputs": [
        {
          "output_type": "stream",
          "name": "stdout",
          "text": [
            "d\n"
          ]
        }
      ]
    },
    {
      "cell_type": "code",
      "source": [
        "# Reverse Each Word in a Sentence python\n",
        "# Input: \"data science is fun\" Output: \"atad ecneics si nuf\"\n",
        "# reverse each word in a sentence python\n",
        "\n",
        "input= \" data science is fun\"\n",
        "word=input.split()\n",
        "rev_sentence=\"\"\n",
        "\n",
        "for i in word:\n",
        "  rev=\"\"\n",
        "  for j in i:\n",
        "    rev=j+rev\n",
        "  rev_sentence=rev_sentence+rev+\" \"\n",
        "print(rev_sentence.strip())\n",
        "\n",
        "\n",
        "\n",
        "\n"
      ],
      "metadata": {
        "colab": {
          "base_uri": "https://localhost:8080/"
        },
        "id": "V2RkJ18FLsbQ",
        "outputId": "770aca35-b4ca-47fa-fde8-4ba0c192d392"
      },
      "execution_count": 35,
      "outputs": [
        {
          "output_type": "stream",
          "name": "stdout",
          "text": [
            "atad ecneics si nuf\n"
          ]
        }
      ]
    },
    {
      "cell_type": "code",
      "source": [
        "# Move All Zeros to the End of the List (Keep Order of Non-Zero Elements) python Copy Edit\n",
        "# Input: [0, 1, 0, 3, 0, 5] Output: [1, 3, 5, 0, 0, 0]\n",
        "def move_zeros(lst):\n",
        "    non_zeros = []\n",
        "    zeros = []\n",
        "\n",
        "    for num in lst:\n",
        "        if num == 0:\n",
        "            zeros.append(0)\n",
        "        else:\n",
        "            non_zeros.append(num)\n",
        "\n",
        "    return non_zeros + zeros\n",
        "\n",
        "\n",
        "print(move_zeros([0, 1, 0, 3, 0, 5]))\n"
      ],
      "metadata": {
        "colab": {
          "base_uri": "https://localhost:8080/"
        },
        "id": "tJmXe1ehS0h_",
        "outputId": "78edb113-3d4c-45d0-b74a-e35f4616a744"
      },
      "execution_count": 36,
      "outputs": [
        {
          "output_type": "stream",
          "name": "stdout",
          "text": [
            "[1, 3, 5, 0, 0, 0]\n"
          ]
        }
      ]
    },
    {
      "cell_type": "code",
      "source": [
        "# Count Pairs in a List That Sum to a Target Number python Copy Edit\n",
        "# Input: List = [1, 2, 3, 4, 5], Target = 6 Output: Pairs: (1, 5), (2, 4)\n",
        "\n",
        "def find_pairs(lst, target):\n",
        "    n = len(lst)\n",
        "    for i in range(n):\n",
        "        for j in range(i + 1, n):\n",
        "            if lst[i] + lst[j] == target:\n",
        "                print(f\"Pair: ({lst[i]}, {lst[j]})\")\n",
        "\n",
        "# Example\n",
        "find_pairs([1, 2, 3, 4, 5], 6)\n"
      ],
      "metadata": {
        "colab": {
          "base_uri": "https://localhost:8080/"
        },
        "id": "SfLmGxDXf0Gi",
        "outputId": "d52710ed-1a3a-433f-bc31-e7773279f74e"
      },
      "execution_count": 37,
      "outputs": [
        {
          "output_type": "stream",
          "name": "stdout",
          "text": [
            "Pair: (1, 5)\n",
            "Pair: (2, 4)\n"
          ]
        }
      ]
    },
    {
      "cell_type": "code",
      "source": [],
      "metadata": {
        "id": "luibhczrgBbN"
      },
      "execution_count": null,
      "outputs": []
    }
  ]
}