{
  "cells": [
    {
      "cell_type": "markdown",
      "metadata": {
        "id": "view-in-github",
        "colab_type": "text"
      },
      "source": [
        "<a href=\"https://colab.research.google.com/github/Paromita2001/githubds_py/blob/main/filepath.ipynb\" target=\"_parent\"><img src=\"https://colab.research.google.com/assets/colab-badge.svg\" alt=\"Open In Colab\"/></a>"
      ]
    },
    {
      "cell_type": "markdown",
      "metadata": {
        "id": "PJFbEs2z5s6s"
      },
      "source": [
        "#### Working With File Paths\n",
        "When working with files in Python, handling file paths correctly is crucial to ensure your code works across different operating systems and environments. Python provides several modules and functions for working with file paths effectively."
      ]
    },
    {
      "cell_type": "code",
      "execution_count": null,
      "metadata": {
        "id": "ug7ggQm45s6v",
        "outputId": "c9119559-b8e1-460d-d312-ea0445bab35a"
      },
      "outputs": [
        {
          "name": "stdout",
          "output_type": "stream",
          "text": [
            "Current working directory is e:\\UDemy Final\\python\\6-File Handling\n"
          ]
        }
      ],
      "source": [
        "#### Using the os module\n",
        "import os\n",
        "cwd=os.getcwd()\n",
        "print(f\"Current working directory is {cwd}\")"
      ]
    },
    {
      "cell_type": "code",
      "execution_count": null,
      "metadata": {
        "id": "jhm-6NTY5s6y",
        "outputId": "2297fb6e-e49a-41cc-8928-cc3fd305eada"
      },
      "outputs": [
        {
          "name": "stdout",
          "output_type": "stream",
          "text": [
            "Directory 'package' create\n"
          ]
        }
      ],
      "source": [
        "## create a new directory\n",
        "new_directory=\"package\"\n",
        "os.mkdir(new_directory)\n",
        "print(f\"Directory '{new_directory}' create\")\n"
      ]
    },
    {
      "cell_type": "code",
      "execution_count": null,
      "metadata": {
        "id": "hTXk-2k35s6z",
        "outputId": "98b7dc15-e687-4786-c6ef-4c12bbdaad6f"
      },
      "outputs": [
        {
          "name": "stdout",
          "output_type": "stream",
          "text": [
            "['6.1-fileoperation.ipynb', '6.2-filepath.ipynb', 'destination.txt', 'example.bin', 'example.txt', 'package']\n"
          ]
        }
      ],
      "source": [
        "## Listing Files And Directories\n",
        "items=os.listdir('.')\n",
        "print(items)"
      ]
    },
    {
      "cell_type": "code",
      "execution_count": null,
      "metadata": {
        "id": "f-La86Xo5s60",
        "outputId": "b5a95f38-87cf-40f5-e117-284d97a3f444"
      },
      "outputs": [
        {
          "name": "stdout",
          "output_type": "stream",
          "text": [
            "folder\\file.txt\n"
          ]
        }
      ],
      "source": [
        "### Joining Paths\n",
        "\n",
        "dir_name=\"folder\"\n",
        "file_name=\"file.txt\"\n",
        "full_path=os.path.join(dir_name,file_name)\n",
        "print(full_path)"
      ]
    },
    {
      "cell_type": "code",
      "execution_count": null,
      "metadata": {
        "id": "R_O1xTDJ5s60",
        "outputId": "2c51d7cb-b33e-49fc-dc0b-ec59369afb26"
      },
      "outputs": [
        {
          "name": "stdout",
          "output_type": "stream",
          "text": [
            "e:\\UDemy Final\\python\\6-File Handling\\folder\\file.txt\n"
          ]
        }
      ],
      "source": [
        "\n",
        "dir_name=\"folder\"\n",
        "file_name=\"file.txt\"\n",
        "full_path=os.path.join(os.getcwd(),dir_name,file_name)\n",
        "print(full_path)"
      ]
    },
    {
      "cell_type": "code",
      "execution_count": null,
      "metadata": {
        "id": "AXrxwbwa5s60",
        "outputId": "e36bd9ae-a694-4baf-878a-9df16b1a7629"
      },
      "outputs": [
        {
          "name": "stdout",
          "output_type": "stream",
          "text": [
            "The path 'example1.txt' does not exists\n"
          ]
        }
      ],
      "source": [
        "path='example1.txt'\n",
        "if os.path.exists(path):\n",
        "    print(f\"The path '{path}' exists\")\n",
        "else:\n",
        "    print(f\"The path '{path}' does not exists\")"
      ]
    },
    {
      "cell_type": "code",
      "execution_count": null,
      "metadata": {
        "id": "qUiS27Ck5s62",
        "outputId": "fca3e16e-dd32-4d90-cba3-5edd18bd3fdd"
      },
      "outputs": [
        {
          "name": "stdout",
          "output_type": "stream",
          "text": [
            "The path 'example.txt' is a file.\n"
          ]
        }
      ],
      "source": [
        "#Checking if a Path is a File or Directory\n",
        "import os\n",
        "\n",
        "path = 'example.txt'\n",
        "if os.path.isfile(path):\n",
        "    print(f\"The path '{path}' is a file.\")\n",
        "elif os.path.isdir(path):\n",
        "    print(f\"The path '{path}' is a directory.\")\n",
        "else:\n",
        "    print(f\"The path '{path}' is neither a file nor a directory.\")\n"
      ]
    },
    {
      "cell_type": "code",
      "execution_count": null,
      "metadata": {
        "id": "SJNQODnB5s62",
        "outputId": "5b7bfd0f-2812-4fa7-ec70-eef717a770d1"
      },
      "outputs": [
        {
          "name": "stdout",
          "output_type": "stream",
          "text": [
            "e:\\UDemy Final\\python\\6-File Handling\\example.txt\n"
          ]
        }
      ],
      "source": [
        "## Getting the absolute path\n",
        "relative_path='example.txt'\n",
        "absolute_path=os.path.abspath(relative_path)\n",
        "print(absolute_path)"
      ]
    },
    {
      "cell_type": "code",
      "execution_count": null,
      "metadata": {
        "id": "M0UmpStt5s62"
      },
      "outputs": [],
      "source": []
    }
  ],
  "metadata": {
    "kernelspec": {
      "display_name": "Python 3",
      "language": "python",
      "name": "python3"
    },
    "language_info": {
      "codemirror_mode": {
        "name": "ipython",
        "version": 3
      },
      "file_extension": ".py",
      "mimetype": "text/x-python",
      "name": "python",
      "nbconvert_exporter": "python",
      "pygments_lexer": "ipython3",
      "version": "3.12.0"
    },
    "colab": {
      "provenance": [],
      "include_colab_link": true
    }
  },
  "nbformat": 4,
  "nbformat_minor": 0
}