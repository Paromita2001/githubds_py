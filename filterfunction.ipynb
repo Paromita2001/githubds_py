{
  "cells": [
    {
      "cell_type": "markdown",
      "metadata": {
        "id": "view-in-github",
        "colab_type": "text"
      },
      "source": [
        "<a href=\"https://colab.research.google.com/github/Paromita2001/githubds_py/blob/main/filterfunction.ipynb\" target=\"_parent\"><img src=\"https://colab.research.google.com/assets/colab-badge.svg\" alt=\"Open In Colab\"/></a>"
      ]
    },
    {
      "cell_type": "markdown",
      "metadata": {
        "id": "Ne6Yieqzy_7Z"
      },
      "source": [
        "##### The filter() Function in Python\n",
        "The filter() function constructs an iterator from elements of an iterable for which a function returns true. It is used to filter out items from a list (or any other iterable) based on a condition."
      ]
    },
    {
      "cell_type": "code",
      "execution_count": null,
      "metadata": {
        "id": "i99zkEfXy_7a"
      },
      "outputs": [],
      "source": [
        "def even(num):\n",
        "    if num%2==0:\n",
        "        return True"
      ]
    },
    {
      "cell_type": "code",
      "execution_count": null,
      "metadata": {
        "id": "k2sPvisSy_7b",
        "outputId": "98efdfc5-be95-499e-f338-c928058fa12a"
      },
      "outputs": [
        {
          "data": {
            "text/plain": [
              "True"
            ]
          },
          "execution_count": 2,
          "metadata": {},
          "output_type": "execute_result"
        }
      ],
      "source": [
        "even(24)"
      ]
    },
    {
      "cell_type": "code",
      "execution_count": null,
      "metadata": {
        "id": "u38LaWuby_7b",
        "outputId": "bf457058-52de-461c-b928-1a74f23dd91c"
      },
      "outputs": [
        {
          "data": {
            "text/plain": [
              "[2, 4, 6, 8, 10, 12]"
            ]
          },
          "execution_count": 3,
          "metadata": {},
          "output_type": "execute_result"
        }
      ],
      "source": [
        "lst=[1,2,3,4,5,6,7,8,9,10,11,12]\n",
        "\n",
        "list(filter(even,lst))\n"
      ]
    },
    {
      "cell_type": "code",
      "execution_count": null,
      "metadata": {
        "id": "ZqdeiP5cy_7b",
        "outputId": "0d929ceb-209e-4f78-ab87-da7149ca8bc7"
      },
      "outputs": [
        {
          "name": "stdout",
          "output_type": "stream",
          "text": [
            "[6, 7, 8, 9]\n"
          ]
        }
      ],
      "source": [
        "## filter with a Lambda Function\n",
        "numbers=[1,2,3,4,5,6,7,8,9]\n",
        "greater_than_five=list(filter(lambda x:x>5,numbers))\n",
        "print(greater_than_five)"
      ]
    },
    {
      "cell_type": "code",
      "execution_count": null,
      "metadata": {
        "id": "eFtsMW37y_7c",
        "outputId": "5f62673a-4975-48e0-c764-33c0e5fe237b"
      },
      "outputs": [
        {
          "name": "stdout",
          "output_type": "stream",
          "text": [
            "[6, 8]\n"
          ]
        }
      ],
      "source": [
        "## Filter with a lambda function and multiple conditions\n",
        "numbers=[1,2,3,4,5,6,7,8,9]\n",
        "even_and_greater_than_five=list(filter(lambda x:x>5 and x%2==0,numbers))\n",
        "print(even_and_greater_than_five)"
      ]
    },
    {
      "cell_type": "code",
      "execution_count": null,
      "metadata": {
        "id": "CfpA5fUGy_7c",
        "outputId": "fbe02882-2de9-4f81-d017-4e1434630627"
      },
      "outputs": [
        {
          "data": {
            "text/plain": [
              "[{'name': 'Krish', 'age': 32}, {'name': 'Jack', 'age': 33}]"
            ]
          },
          "execution_count": 6,
          "metadata": {},
          "output_type": "execute_result"
        }
      ],
      "source": [
        "## Filter() to check if the age is greate than 25 in dictionaries\n",
        "people=[\n",
        "    {'name':'Krish','age':32},\n",
        "    {'name':'Jack','age':33},\n",
        "    {'name':'John','age':25}\n",
        "]\n",
        "\n",
        "def age_greater_than_25(person):\n",
        "    return person['age']>25\n",
        "\n",
        "list(filter(age_greater_than_25,people))"
      ]
    },
    {
      "cell_type": "markdown",
      "metadata": {
        "id": "noBR7uQBy_7c"
      },
      "source": [
        "##### Conclusion\n",
        "The filter() function is a powerful tool for creating iterators that filter items out of an iterable based on a function. It is commonly used for data cleaning, filtering objects, and removing unwanted elements from lists. By mastering filter(), you can write more concise and efficient code for processing and manipulating collections in Python."
      ]
    },
    {
      "cell_type": "markdown",
      "metadata": {
        "id": "t828BeLdy_7c"
      },
      "source": []
    },
    {
      "cell_type": "code",
      "execution_count": null,
      "metadata": {
        "id": "pkOv4TjOy_7d"
      },
      "outputs": [],
      "source": []
    }
  ],
  "metadata": {
    "kernelspec": {
      "display_name": "Python 3",
      "language": "python",
      "name": "python3"
    },
    "language_info": {
      "codemirror_mode": {
        "name": "ipython",
        "version": 3
      },
      "file_extension": ".py",
      "mimetype": "text/x-python",
      "name": "python",
      "nbconvert_exporter": "python",
      "pygments_lexer": "ipython3",
      "version": "3.12.0"
    },
    "colab": {
      "provenance": [],
      "include_colab_link": true
    }
  },
  "nbformat": 4,
  "nbformat_minor": 0
}