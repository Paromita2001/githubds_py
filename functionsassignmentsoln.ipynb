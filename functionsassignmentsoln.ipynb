{
  "cells": [
    {
      "cell_type": "markdown",
      "metadata": {
        "id": "view-in-github",
        "colab_type": "text"
      },
      "source": [
        "<a href=\"https://colab.research.google.com/github/Paromita2001/githubds_py/blob/main/functionsassignmentsoln.ipynb\" target=\"_parent\"><img src=\"https://colab.research.google.com/assets/colab-badge.svg\" alt=\"Open In Colab\"/></a>"
      ]
    },
    {
      "cell_type": "markdown",
      "metadata": {
        "id": "I4D5d8c1wOql"
      },
      "source": [
        "# Module 4: Functions Assignments\n",
        "## Lesson 4.1: Defining Functions\n",
        "### Assignment 1: Simple Function\n",
        "\n",
        "Define a function that takes a single integer as input and returns its square. Test the function with different inputs."
      ],
      "id": "I4D5d8c1wOql"
    },
    {
      "cell_type": "code",
      "execution_count": null,
      "metadata": {
        "id": "wbMS2VuOwOqn"
      },
      "outputs": [],
      "source": [
        "def square(x):\n",
        "    return x ** 2\n",
        "\n",
        "# Test\n",
        "print(square(2))  # 4\n",
        "print(square(5))  # 25"
      ],
      "id": "wbMS2VuOwOqn"
    },
    {
      "cell_type": "markdown",
      "metadata": {
        "id": "0LGlyXBmwOqo"
      },
      "source": [
        "### Assignment 2: Multiple Arguments\n",
        "\n",
        "Define a function that takes two integers as input and returns their sum. Test the function with different inputs."
      ],
      "id": "0LGlyXBmwOqo"
    },
    {
      "cell_type": "code",
      "execution_count": null,
      "metadata": {
        "id": "3UN9Bxv8wOqo"
      },
      "outputs": [],
      "source": [
        "def add(x, y):\n",
        "    return x + y\n",
        "\n",
        "# Test\n",
        "print(add(2, 3))  # 5\n",
        "print(add(10, 20))  # 30"
      ],
      "id": "3UN9Bxv8wOqo"
    },
    {
      "cell_type": "markdown",
      "metadata": {
        "id": "c1VHFhpRwOqo"
      },
      "source": [
        "### Assignment 3: Default Arguments\n",
        "\n",
        "Define a function that takes two integers as input and returns their sum. The second integer should have a default value of 5. Test the function with different inputs."
      ],
      "id": "c1VHFhpRwOqo"
    },
    {
      "cell_type": "code",
      "execution_count": null,
      "metadata": {
        "id": "lta0gXHhwOqp"
      },
      "outputs": [],
      "source": [
        "def add(x, y=5):\n",
        "    return x + y\n",
        "\n",
        "# Test\n",
        "print(add(2))  # 7\n",
        "print(add(10, 20))  # 30"
      ],
      "id": "lta0gXHhwOqp"
    },
    {
      "cell_type": "markdown",
      "metadata": {
        "id": "InhMqrpEwOqp"
      },
      "source": [
        "### Assignment 4: Keyword Arguments\n",
        "\n",
        "Define a function that takes three named arguments: first_name, last_name, and age, and returns a formatted string. Test the function with different inputs."
      ],
      "id": "InhMqrpEwOqp"
    },
    {
      "cell_type": "code",
      "execution_count": null,
      "metadata": {
        "id": "k4Qqp2xtwOqp"
      },
      "outputs": [],
      "source": [
        "def format_person(first_name, last_name, age):\n",
        "    return f\"{first_name} {last_name} is {age} years old.\"\n",
        "\n",
        "# Test\n",
        "print(format_person(first_name=\"John\", last_name=\"Doe\", age=30))\n",
        "print(format_person(age=25, first_name=\"Jane\", last_name=\"Smith\"))"
      ],
      "id": "k4Qqp2xtwOqp"
    },
    {
      "cell_type": "markdown",
      "metadata": {
        "id": "m91SGRBXwOqp"
      },
      "source": [
        "### Assignment 5: Variable-length Arguments\n",
        "\n",
        "Define a function that takes a variable number of integer arguments and returns their product. Test the function with different inputs."
      ],
      "id": "m91SGRBXwOqp"
    },
    {
      "cell_type": "code",
      "execution_count": null,
      "metadata": {
        "id": "wPQ-KSbewOqq"
      },
      "outputs": [],
      "source": [
        "def multiply(*args):\n",
        "    product = 1\n",
        "    for num in args:\n",
        "        product *= num\n",
        "    return product\n",
        "\n",
        "# Test\n",
        "print(multiply(2, 3, 4))  # 24\n",
        "print(multiply(1, 2, 3, 4, 5))  # 120"
      ],
      "id": "wPQ-KSbewOqq"
    },
    {
      "cell_type": "markdown",
      "metadata": {
        "id": "P1n7B0E-wOqr"
      },
      "source": [
        "### Assignment 6: Nested Functions\n",
        "\n",
        "Define a function that contains another function inside it. The outer function should take two integers as input and return the result of the inner function, which multiplies the two integers. Test the function with different inputs."
      ],
      "id": "P1n7B0E-wOqr"
    },
    {
      "cell_type": "code",
      "execution_count": null,
      "metadata": {
        "id": "uE2_7B_IwOqr"
      },
      "outputs": [],
      "source": [
        "def outer_function(x, y):\n",
        "    def inner_function(a, b):\n",
        "        return a * b\n",
        "    return inner_function(x, y)\n",
        "\n",
        "# Test\n",
        "print(outer_function(2, 3))  # 6\n",
        "print(outer_function(4, 5))  # 20"
      ],
      "id": "uE2_7B_IwOqr"
    },
    {
      "cell_type": "markdown",
      "metadata": {
        "id": "8OkGAh9VwOqr"
      },
      "source": [
        "### Assignment 7: Returning Multiple Values\n",
        "\n",
        "Define a function that takes a single integer as input and returns the integer squared, cubed, and raised to the power of four. Test the function with different inputs."
      ],
      "id": "8OkGAh9VwOqr"
    },
    {
      "cell_type": "code",
      "execution_count": null,
      "metadata": {
        "id": "2L2WANX1wOqr"
      },
      "outputs": [],
      "source": [
        "def powers(x):\n",
        "    return x ** 2, x ** 3, x ** 4\n",
        "\n",
        "# Test\n",
        "print(powers(2))  # (4, 8, 16)\n",
        "print(powers(3))  # (9, 27, 81)"
      ],
      "id": "2L2WANX1wOqr"
    },
    {
      "cell_type": "markdown",
      "metadata": {
        "id": "1fUp6A2EwOqr"
      },
      "source": [
        "### Assignment 8: Recursive Function\n",
        "\n",
        "Define a recursive function that calculates the factorial of a given number. Test the function with different inputs."
      ],
      "id": "1fUp6A2EwOqr"
    },
    {
      "cell_type": "code",
      "execution_count": null,
      "metadata": {
        "id": "3rluFpCGwOqr"
      },
      "outputs": [],
      "source": [
        "def factorial(n):\n",
        "    if n == 0:\n",
        "        return 1\n",
        "    else:\n",
        "        return n * factorial(n - 1)\n",
        "\n",
        "# Test\n",
        "print(factorial(5))  # 120\n",
        "print(factorial(6))  # 720"
      ],
      "id": "3rluFpCGwOqr"
    },
    {
      "cell_type": "markdown",
      "metadata": {
        "id": "57f0VqEqwOqs"
      },
      "source": [
        "### Assignment 9: Lambda Function\n",
        "\n",
        "Define a lambda function that takes two integers as input and returns their sum. Test the lambda function with different inputs."
      ],
      "id": "57f0VqEqwOqs"
    },
    {
      "cell_type": "code",
      "execution_count": null,
      "metadata": {
        "id": "ln92pFF6wOqs"
      },
      "outputs": [],
      "source": [
        "add = lambda x, y: x + y\n",
        "\n",
        "# Test\n",
        "print(add(2, 3))  # 5\n",
        "print(add(10, 20))  # 30"
      ],
      "id": "ln92pFF6wOqs"
    },
    {
      "cell_type": "markdown",
      "metadata": {
        "id": "wBAl2BgzwOqs"
      },
      "source": [
        "### Assignment 10: Map Function\n",
        "\n",
        "Use the map function to apply a lambda function that squares each number in a list of integers. Test with different lists."
      ],
      "id": "wBAl2BgzwOqs"
    },
    {
      "cell_type": "code",
      "execution_count": null,
      "metadata": {
        "id": "sKSiqANRwOqs"
      },
      "outputs": [],
      "source": [
        "numbers = [1, 2, 3, 4, 5]\n",
        "squared_numbers = list(map(lambda x: x ** 2, numbers))\n",
        "print(squared_numbers)  # [1, 4, 9, 16, 25]"
      ],
      "id": "sKSiqANRwOqs"
    },
    {
      "cell_type": "markdown",
      "metadata": {
        "id": "lTdX7MSOwOqs"
      },
      "source": [
        "### Assignment 11: Filter Function\n",
        "\n",
        "Use the filter function to filter out all odd numbers from a list of integers. Test with different lists."
      ],
      "id": "lTdX7MSOwOqs"
    },
    {
      "cell_type": "code",
      "execution_count": null,
      "metadata": {
        "id": "eLmbgahdwOqs"
      },
      "outputs": [],
      "source": [
        "numbers = [1, 2, 3, 4, 5, 6, 7, 8, 9, 10]\n",
        "even_numbers = list(filter(lambda x: x % 2 == 0, numbers))\n",
        "print(even_numbers)  # [2, 4, 6, 8, 10]"
      ],
      "id": "eLmbgahdwOqs"
    },
    {
      "cell_type": "markdown",
      "metadata": {
        "id": "D4iyk6zqwOqs"
      },
      "source": [
        "### Assignment 12: Function Decorator\n",
        "\n",
        "Define a decorator function that prints 'Executing function...' before executing a function and 'Function executed.' after executing it. Apply this decorator to a function that takes a list of integers and returns their sum. Test the decorated function with different lists."
      ],
      "id": "D4iyk6zqwOqs"
    },
    {
      "cell_type": "code",
      "execution_count": null,
      "metadata": {
        "id": "vYd1L7KcwOqt"
      },
      "outputs": [],
      "source": [
        "def my_decorator(func):\n",
        "    def wrapper(*args, **kwargs):\n",
        "        print('Executing function...')\n",
        "        result = func(*args, **kwargs)\n",
        "        print('Function executed.')\n",
        "        return result\n",
        "    return wrapper\n",
        "\n",
        "@my_decorator\n",
        "def sum_list(lst):\n",
        "    return sum(lst)\n",
        "\n",
        "# Test\n",
        "print(sum_list([1, 2, 3, 4, 5]))  # 15"
      ],
      "id": "vYd1L7KcwOqt"
    },
    {
      "cell_type": "markdown",
      "metadata": {
        "id": "DlAigWzrwOqt"
      },
      "source": [
        "### Assignment 13: Function with *args and **kwargs\n",
        "\n",
        "Define a function that takes variable-length arguments and keyword arguments and prints them. Test the function with different inputs."
      ],
      "id": "DlAigWzrwOqt"
    },
    {
      "cell_type": "code",
      "execution_count": null,
      "metadata": {
        "id": "fb_mJVrfwOqt"
      },
      "outputs": [],
      "source": [
        "def print_args_kwargs(*args, **kwargs):\n",
        "    print('args:', args)\n",
        "    print('kwargs:', kwargs)\n",
        "\n",
        "# Test\n",
        "print_args_kwargs(1, 2, 3, a='apple', b='banana')\n",
        "print_args_kwargs('hello', 'world', x=10, y=20)"
      ],
      "id": "fb_mJVrfwOqt"
    },
    {
      "cell_type": "markdown",
      "metadata": {
        "id": "ytBjM7pywOqt"
      },
      "source": [
        "### Assignment 14: Higher-Order Function\n",
        "\n",
        "Define a higher-order function that takes a function and a list of integers as arguments, and applies the function to each integer in the list. Test with different functions and lists."
      ],
      "id": "ytBjM7pywOqt"
    },
    {
      "cell_type": "code",
      "execution_count": null,
      "metadata": {
        "id": "aieAuD96wOqt"
      },
      "outputs": [],
      "source": [
        "def apply_function(func, lst):\n",
        "    return [func(x) for x in lst]\n",
        "\n",
        "# Test\n",
        "print(apply_function(lambda x: x ** 2, [1, 2, 3, 4, 5]))  # [1, 4, 9, 16, 25]\n",
        "print(apply_function(lambda x: x + 1, [1, 2, 3, 4, 5]))  # [2, 3, 4, 5, 6]"
      ],
      "id": "aieAuD96wOqt"
    },
    {
      "cell_type": "markdown",
      "metadata": {
        "id": "6_Dwq549wOqt"
      },
      "source": [
        "### Assignment 15: Function Documentation\n",
        "\n",
        "Define a function with a docstring that explains what the function does, its parameters, and its return value. Print the function's docstring."
      ],
      "id": "6_Dwq549wOqt"
    },
    {
      "cell_type": "code",
      "execution_count": null,
      "metadata": {
        "id": "UacGTJOLwOqt"
      },
      "outputs": [],
      "source": [
        "def example_function(x, y):\n",
        "    \"\"\"\n",
        "    This function takes two integers and returns their sum.\n",
        "\n",
        "    Parameters:\n",
        "    x (int): The first integer.\n",
        "    y (int): The second integer.\n",
        "\n",
        "    Returns:\n",
        "    int: The sum of the two integers.\n",
        "    \"\"\"\n",
        "    return x + y\n",
        "\n",
        "# Print docstring\n",
        "print(example_function.__doc__)"
      ],
      "id": "UacGTJOLwOqt"
    }
  ],
  "metadata": {
    "kernelspec": {
      "display_name": "Python 3",
      "language": "python",
      "name": "python3"
    },
    "language_info": {
      "codemirror_mode": {
        "name": "ipython",
        "version": 3
      },
      "file_extension": ".py",
      "mimetype": "text/x-python",
      "name": "python",
      "nbconvert_exporter": "python",
      "pygments_lexer": "ipython3",
      "version": "3.9.7"
    },
    "colab": {
      "provenance": [],
      "include_colab_link": true
    }
  },
  "nbformat": 4,
  "nbformat_minor": 5
}