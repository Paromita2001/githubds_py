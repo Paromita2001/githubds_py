{
  "cells": [
    {
      "cell_type": "markdown",
      "metadata": {
        "id": "view-in-github",
        "colab_type": "text"
      },
      "source": [
        "<a href=\"https://colab.research.google.com/github/Paromita2001/githubds_py/blob/main/list_Assignment.ipynb\" target=\"_parent\"><img src=\"https://colab.research.google.com/assets/colab-badge.svg\" alt=\"Open In Colab\"/></a>"
      ]
    },
    {
      "cell_type": "markdown",
      "metadata": {
        "id": "u7I-zNi8KVbB"
      },
      "source": [
        "# Data Structures Assignments\n",
        "## Lesson: Lists"
      ],
      "id": "u7I-zNi8KVbB"
    },
    {
      "cell_type": "code",
      "source": [
        "#Assignment 1: Creating and Accessing Lists\n",
        "#Create a list of the first 20 positive integers. Print the list.\n",
        "list1=list(range(1,20))\n",
        "print(list1)\n"
      ],
      "metadata": {
        "colab": {
          "base_uri": "https://localhost:8080/"
        },
        "id": "hbSZKoPzKcWd",
        "outputId": "6023e71f-b7bd-4e9a-f494-1ca7ce449de1"
      },
      "id": "hbSZKoPzKcWd",
      "execution_count": 4,
      "outputs": [
        {
          "output_type": "stream",
          "name": "stdout",
          "text": [
            "[1, 2, 3, 4, 5, 6, 7, 8, 9, 10, 11, 12, 13, 14, 15, 16, 17, 18, 19]\n"
          ]
        }
      ]
    },
    {
      "cell_type": "code",
      "execution_count": 6,
      "metadata": {
        "colab": {
          "base_uri": "https://localhost:8080/"
        },
        "id": "JnEkuMtrKVbD",
        "outputId": "b80311ff-f39b-409f-a277-8f16507f114b"
      },
      "outputs": [
        {
          "output_type": "stream",
          "name": "stdout",
          "text": [
            "1\n",
            "10\n",
            "19\n"
          ]
        }
      ],
      "source": [
        "#Assignment 2: Accessing List Elements\n",
        "#Print the first, middle, and last elements of the list created in Assignment 1.\n",
        "first_element=list1[0]\n",
        "print(first_element)\n",
        "middle_element=list1[len(list1)//2]\n",
        "print(middle_element)\n",
        "last_element=list1[-1]\n",
        "print(last_element)\n"
      ],
      "id": "JnEkuMtrKVbD"
    },
    {
      "cell_type": "code",
      "source": [
        "#Assignment 3: List Slicing\n",
        "#Print the first five elements, the last five elements, and the elements from index 5 to 15 of the list created in Assignment 1.\n",
        "print(list1[:5])\n",
        "print(list1[5:15])\n",
        "print(list1[-5:])\n"
      ],
      "metadata": {
        "colab": {
          "base_uri": "https://localhost:8080/"
        },
        "id": "LTowNquPKmz1",
        "outputId": "1062b3ed-d854-4000-adbe-222e09b6b748"
      },
      "id": "LTowNquPKmz1",
      "execution_count": 7,
      "outputs": [
        {
          "output_type": "stream",
          "name": "stdout",
          "text": [
            "[1, 2, 3, 4, 5]\n",
            "[6, 7, 8, 9, 10, 11, 12, 13, 14, 15]\n",
            "[15, 16, 17, 18, 19]\n"
          ]
        }
      ]
    },
    {
      "cell_type": "code",
      "source": [
        "#Assignment 4: List Comprehensions\n",
        "#Create a new list containing the squares of the first 10 positive integers using a list comprehension. Print the new list.\n",
        "square=[i**2 for i in range (1,11)]\n",
        "print(square)\n"
      ],
      "metadata": {
        "colab": {
          "base_uri": "https://localhost:8080/"
        },
        "id": "pjYOw44WKqsY",
        "outputId": "83aced9d-82d6-4dee-baef-135d77dd6c36"
      },
      "id": "pjYOw44WKqsY",
      "execution_count": 8,
      "outputs": [
        {
          "output_type": "stream",
          "name": "stdout",
          "text": [
            "[1, 4, 9, 16, 25, 36, 49, 64, 81, 100]\n"
          ]
        }
      ]
    },
    {
      "cell_type": "code",
      "source": [
        "#Assignment 5: Filtering Lists\n",
        "#Create a new list containing only the even numbers from the list created in Assignment 1 using a list comprehension. Print the new list.\n",
        "even=[i for i in list1 if i%2==0]\n",
        "print(even)\n"
      ],
      "metadata": {
        "colab": {
          "base_uri": "https://localhost:8080/"
        },
        "id": "qo6DTaiOKu23",
        "outputId": "edba917a-8c46-4940-cb91-fcb415745fa4"
      },
      "id": "qo6DTaiOKu23",
      "execution_count": 9,
      "outputs": [
        {
          "output_type": "stream",
          "name": "stdout",
          "text": [
            "[2, 4, 6, 8, 10, 12, 14, 16, 18]\n"
          ]
        }
      ]
    },
    {
      "cell_type": "code",
      "source": [
        "#Assignment 6: List Methods\n",
        "#Create a list of random numbers and sort it in ascending and descending order. Remove the duplicates from the list and print the modified list.\n",
        "list2=[29,10,67,37,54,24,6,11,37,45,54]\n",
        "print(sorted(list2))\n",
        "print(sorted(list2, reverse=True))\n",
        "print(list(set(list2)))"
      ],
      "metadata": {
        "colab": {
          "base_uri": "https://localhost:8080/"
        },
        "id": "nDE3ZykHKu5L",
        "outputId": "16c08461-1a8c-4400-e96d-71774722c61a"
      },
      "id": "nDE3ZykHKu5L",
      "execution_count": 15,
      "outputs": [
        {
          "output_type": "stream",
          "name": "stdout",
          "text": [
            "[6, 10, 11, 24, 29, 37, 37, 45, 54, 54, 67]\n",
            "[67, 54, 54, 45, 37, 37, 29, 24, 11, 10, 6]\n",
            "[67, 37, 6, 10, 11, 45, 54, 24, 29]\n"
          ]
        }
      ]
    },
    {
      "cell_type": "code",
      "source": [
        "#Assignment 8: List of Dictionaries\n",
        "#Create a list of dictionaries where each dictionary represents a student with keys 'name' and 'score'. Sort the list of dictionaries by the 'score' in descending order and print the sorted list.\n",
        "students = [\n",
        "    {'name': 'Alice', 'score': 88},\n",
        "    {'name': 'Bob', 'score': 72},\n",
        "    {'name': 'Charlie', 'score': 95},\n",
        "    {'name': 'David', 'score': 65},\n",
        "    {'name': 'Eve', 'score': 78}\n",
        "]\n",
        "sorted_students = sorted(students, key=lambda x: x['score'], reverse=True)\n",
        "print(\"Sorted students by score in descending order:\")\n",
        "for student in sorted_students:\n",
        "    print(student)"
      ],
      "metadata": {
        "colab": {
          "base_uri": "https://localhost:8080/"
        },
        "id": "nZ7QsXClKu9w",
        "outputId": "1d174d12-bb75-4e3b-9cdd-c9acacde2cac"
      },
      "id": "nZ7QsXClKu9w",
      "execution_count": 29,
      "outputs": [
        {
          "output_type": "stream",
          "name": "stdout",
          "text": [
            "Sorted students by score in descending order:\n",
            "{'name': 'Charlie', 'score': 95}\n",
            "{'name': 'Alice', 'score': 88}\n",
            "{'name': 'Eve', 'score': 78}\n",
            "{'name': 'Bob', 'score': 72}\n",
            "{'name': 'David', 'score': 65}\n"
          ]
        }
      ]
    },
    {
      "cell_type": "code",
      "source": [
        "#Assignment 9: Matrix Transposition\n",
        "#Write a function that takes a 3x3 matrix (nested list) as input and returns its transpose. Print the original and transposed matrices.\n",
        "def transpose_matrix(matrix):\n",
        "    transposed = [[matrix[j][i] for j in range(len(matrix))] for i in range(len(matrix[0]))]\n",
        "    return transposed\n",
        "\n",
        "matrix = [\n",
        "    [1, 2, 3],\n",
        "    [4, 5, 6],\n",
        "    [7, 8, 9]\n",
        "]\n",
        "transposed = transpose_matrix(matrix)\n",
        "print(\"Original matrix:\")\n",
        "for row in matrix:\n",
        "    print(row)\n",
        "print(\"Transposed matrix:\")\n",
        "for row in transposed:\n",
        "    print(row)\n"
      ],
      "metadata": {
        "id": "QTBImSl4KvAC"
      },
      "id": "QTBImSl4KvAC",
      "execution_count": null,
      "outputs": []
    },
    {
      "cell_type": "code",
      "source": [
        "#Assignment 10: Flattening a Nested List\n",
        "#Write a function that takes a nested list and flattens it into a single list. Print the original and flattened lists\n",
        "def flatten_list(nested_list):\n",
        "    flat_list = [item for sublist in nested_list for item in sublist]\n",
        "    return flat_list\n",
        "\n",
        "nested_list = [\n",
        "    [1, 2, 3],\n",
        "    [4, 5, 6],\n",
        "    [7, 8, 9]\n",
        "]\n",
        "flattened = flatten_list(nested_list)\n",
        "print(\"Original nested list:\")\n",
        "print(nested_list)\n",
        "print(\"Flattened list:\")\n",
        "print(flattened)"
      ],
      "metadata": {
        "colab": {
          "base_uri": "https://localhost:8080/"
        },
        "id": "r6AiJdrRKvCT",
        "outputId": "bca0461b-3bb4-4829-a011-6cd5b8658d3c"
      },
      "id": "r6AiJdrRKvCT",
      "execution_count": 22,
      "outputs": [
        {
          "output_type": "stream",
          "name": "stdout",
          "text": [
            "[1, 2, 3, 4, 5, 6]\n"
          ]
        }
      ]
    },
    {
      "cell_type": "code",
      "source": [
        "#Assignment 11: List Manipulation\n",
        "#Create a list of the first 10 positive integers. Remove the elements at indices 2, 4, and 6, and insert the element '99' at index 5. Print the modified list.\n",
        "lst = list(range(1, 11))\n",
        "print(f\"Original list: {lst}\")\n",
        "del lst[6]\n",
        "del lst[4]\n",
        "del lst[2]\n",
        "lst.insert(5, 99)\n",
        "print(f\"Modified list: {lst}\")"
      ],
      "metadata": {
        "colab": {
          "base_uri": "https://localhost:8080/"
        },
        "id": "mjxWVx3lKvEb",
        "outputId": "2900ec2d-b267-4df9-c75a-033c19a62a03"
      },
      "id": "mjxWVx3lKvEb",
      "execution_count": 24,
      "outputs": [
        {
          "output_type": "stream",
          "name": "stdout",
          "text": [
            "Original list: [1, 2, 3, 4, 5, 6, 7, 8, 9, 10]\n",
            "Modified list: [1, 2, 4, 6, 8, 99, 9, 10]\n"
          ]
        }
      ]
    },
    {
      "cell_type": "code",
      "source": [
        "#Assignment 12: List Zipping\n",
        "#Create two lists of the same length. Use the zip function to combine these lists into a list of tuples and print the result.\n",
        "list3=[0,1,2,3,4,5,6,7,8,9]\n",
        "list4=[10,11,12,13,14,15,16,17,18,19]\n",
        "zip_tup=list(zip(list3,list4))\n",
        "print(zip_tup)"
      ],
      "metadata": {
        "colab": {
          "base_uri": "https://localhost:8080/"
        },
        "id": "IEVgcKGYKvGe",
        "outputId": "6bd933bc-6d3f-47ad-ddb0-9d58fc5084bf"
      },
      "id": "IEVgcKGYKvGe",
      "execution_count": 23,
      "outputs": [
        {
          "output_type": "stream",
          "name": "stdout",
          "text": [
            "[(0, 10), (1, 11), (2, 12), (3, 13), (4, 14), (5, 15), (6, 16), (7, 17), (8, 18), (9, 19)]\n"
          ]
        }
      ]
    },
    {
      "cell_type": "code",
      "source": [
        "#Assignment 13: List Reversal\n",
        "#Write a function that takes a list and returns a new list with the elements in reverse order. Print the original and reversed lists.\n",
        "def reverse_list(lst):\n",
        "    return lst[::-1]\n",
        "\n",
        "original_list = [1, 2, 3, 4, 5]\n",
        "reversed_list = reverse_list(original_list)\n",
        "print(f\"Original list: {original_list}\")\n",
        "print(f\"Reversed list: {reversed_list}\")\n"
      ],
      "metadata": {
        "colab": {
          "base_uri": "https://localhost:8080/"
        },
        "id": "mpIeQDODKvIy",
        "outputId": "f0652af6-9cb1-4a60-e825-9eca426b5d44"
      },
      "id": "mpIeQDODKvIy",
      "execution_count": 28,
      "outputs": [
        {
          "output_type": "stream",
          "name": "stdout",
          "text": [
            "Original list: [1, 2, 3, 4, 5]\n",
            "Reversed list: [5, 4, 3, 2, 1]\n"
          ]
        }
      ]
    },
    {
      "cell_type": "code",
      "source": [
        "#Assignment 14: List Rotation\n",
        "#Write a function that rotates a list by n positions. Print the original and rotated lists.\n",
        "\n",
        "def rotate_list(lst, n):\n",
        "    return lst[n:] + lst[:n]\n",
        "\n",
        "original_list = [1, 2, 3, 4, 5]\n",
        "rotated_list = rotate_list(original_list, 2)\n",
        "print(f\"Original list: {original_list}\")\n",
        "print(f\"Rotated list: {rotated_list}\")\n"
      ],
      "metadata": {
        "colab": {
          "base_uri": "https://localhost:8080/"
        },
        "id": "ZsIIxqDLKvK5",
        "outputId": "bd65b8dd-8fec-478a-ca92-41fccec6ffcc"
      },
      "id": "ZsIIxqDLKvK5",
      "execution_count": 27,
      "outputs": [
        {
          "output_type": "stream",
          "name": "stdout",
          "text": [
            "Original list: [1, 2, 3, 4, 5]\n",
            "Rotated list: [3, 4, 5, 1, 2]\n"
          ]
        }
      ]
    },
    {
      "cell_type": "code",
      "source": [
        "#Assignment 15: List Intersection\n",
        "#Write a function that takes two lists and returns a new list containing only the elements that are present in both lists. Print the intersected list.\n",
        "def list_intersection(lst1, lst2):\n",
        "    return [x for x in lst1 if x in lst2]\n",
        "\n",
        "list1 = [1, 2, 3, 4, 5]\n",
        "list2 = [3, 4, 5, 6, 7]\n",
        "intersection = list_intersection(list1, list2)\n",
        "print(f\"List 1: {list1}\")\n",
        "print(f\"List 2: {list2}\")\n",
        "print(f\"Intersection: {intersection}\")"
      ],
      "metadata": {
        "colab": {
          "base_uri": "https://localhost:8080/"
        },
        "id": "dFrB1kMBKvM_",
        "outputId": "84855d5c-5ef7-42a5-e8e1-60fb41a8b396"
      },
      "id": "dFrB1kMBKvM_",
      "execution_count": 26,
      "outputs": [
        {
          "output_type": "stream",
          "name": "stdout",
          "text": [
            "List 1: [1, 2, 3, 4, 5]\n",
            "List 2: [3, 4, 5, 6, 7]\n",
            "Intersection: [3, 4, 5]\n"
          ]
        }
      ]
    },
    {
      "cell_type": "code",
      "source": [],
      "metadata": {
        "id": "cTMBpVenKvQe"
      },
      "id": "cTMBpVenKvQe",
      "execution_count": null,
      "outputs": []
    }
  ],
  "metadata": {
    "kernelspec": {
      "display_name": "Python 3",
      "language": "python",
      "name": "python3"
    },
    "language_info": {
      "codemirror_mode": {
        "name": "ipython",
        "version": 3
      },
      "file_extension": ".py",
      "mimetype": "text/x-python",
      "name": "python",
      "nbconvert_exporter": "python",
      "pygments_lexer": "ipython3",
      "version": "3.9.7"
    },
    "colab": {
      "provenance": [],
      "include_colab_link": true
    }
  },
  "nbformat": 4,
  "nbformat_minor": 5
}