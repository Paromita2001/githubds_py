{
  "nbformat": 4,
  "nbformat_minor": 0,
  "metadata": {
    "colab": {
      "provenance": [],
      "authorship_tag": "ABX9TyP++0Xm8DXs9bOUYJ4LoHVi",
      "include_colab_link": true
    },
    "kernelspec": {
      "name": "python3",
      "display_name": "Python 3"
    },
    "language_info": {
      "name": "python"
    }
  },
  "cells": [
    {
      "cell_type": "markdown",
      "metadata": {
        "id": "view-in-github",
        "colab_type": "text"
      },
      "source": [
        "<a href=\"https://colab.research.google.com/github/Paromita2001/githubds_py/blob/main/loops.ipynb\" target=\"_parent\"><img src=\"https://colab.research.google.com/assets/colab-badge.svg\" alt=\"Open In Colab\"/></a>"
      ]
    },
    {
      "cell_type": "code",
      "execution_count": null,
      "metadata": {
        "colab": {
          "base_uri": "https://localhost:8080/"
        },
        "id": "7L_rHmdW8Rhf",
        "outputId": "d4b44b8f-306e-4856-b3be-ed45a2f7f9e6"
      },
      "outputs": [
        {
          "output_type": "stream",
          "name": "stdout",
          "text": [
            "enter a number: 5\n",
            "120\n"
          ]
        }
      ],
      "source": [
        "#factorial\n",
        "n=int(input('enter a number: '))\n",
        "f=1\n",
        "for i in range (1,n+1):\n",
        "  f*=i\n",
        "print(f)"
      ]
    },
    {
      "cell_type": "code",
      "source": [
        "#fibonacci series\n",
        "n=int(input('enter a number: '))\n",
        "a,b=0,1\n",
        "for i in range (0,n+1):\n",
        "  a,b=b, a+b\n",
        "  print(a)"
      ],
      "metadata": {
        "colab": {
          "base_uri": "https://localhost:8080/"
        },
        "id": "ojOAffW5XSow",
        "outputId": "23001616-6999-4c29-a44c-b333931f7f3b"
      },
      "execution_count": null,
      "outputs": [
        {
          "output_type": "stream",
          "name": "stdout",
          "text": [
            "enter a number: 10\n",
            "1\n",
            "1\n",
            "2\n",
            "3\n",
            "5\n",
            "8\n",
            "13\n",
            "21\n",
            "34\n",
            "55\n",
            "89\n"
          ]
        }
      ]
    },
    {
      "cell_type": "code",
      "source": [
        "#Find the maximum element in a list using a loop.\n",
        "l=[1,2,3,4,5,6,7,8,9,10]\n",
        "max=0\n",
        "for i in l:\n",
        "  if i>max:\n",
        "    max=i\n",
        "print(max)"
      ],
      "metadata": {
        "colab": {
          "base_uri": "https://localhost:8080/"
        },
        "id": "zB6RCFooYgmU",
        "outputId": "61b80e33-8974-4ad1-fc7e-e2b78998e2a5"
      },
      "execution_count": null,
      "outputs": [
        {
          "output_type": "stream",
          "name": "stdout",
          "text": [
            "10\n"
          ]
        }
      ]
    },
    {
      "cell_type": "code",
      "source": [
        "#Count vowels in a string.\n",
        "s = \"Looping is fun\"\n",
        "count=0\n",
        "vow=['a','e','i','o','u']\n",
        "for i in s:\n",
        "  if i in vow:\n",
        "    count+=1\n",
        "print(count)"
      ],
      "metadata": {
        "colab": {
          "base_uri": "https://localhost:8080/"
        },
        "id": "cStHxBzKpPG9",
        "outputId": "5815570a-c8de-4e1f-f756-5871ebd6418e"
      },
      "execution_count": null,
      "outputs": [
        {
          "output_type": "stream",
          "name": "stdout",
          "text": [
            "6\n"
          ]
        }
      ]
    },
    {
      "cell_type": "code",
      "source": [
        "#Reverse a string using a loop.\n",
        "s = \"Looping is fun\"\n",
        "rev=' '\n",
        "for i in s:\n",
        "  rev=i+rev\n",
        "print(rev)"
      ],
      "metadata": {
        "colab": {
          "base_uri": "https://localhost:8080/"
        },
        "id": "5MfI5eGIp08G",
        "outputId": "82a8fe35-37c0-4381-eeb8-ceea1dbb5ee6"
      },
      "execution_count": null,
      "outputs": [
        {
          "output_type": "stream",
          "name": "stdout",
          "text": [
            "nuf si gnipooL \n"
          ]
        }
      ]
    },
    {
      "cell_type": "code",
      "source": [
        "#Find the sum of digits of a number (e.g., 1234).\n",
        "num=12345\n",
        "sum=0\n",
        "for i in str(num):\n",
        "  sum=sum+int(i)\n",
        "print(sum)"
      ],
      "metadata": {
        "id": "JW5KrdNTqd7I",
        "colab": {
          "base_uri": "https://localhost:8080/"
        },
        "outputId": "b68b3c41-bd5c-402c-eeee-9f77e9049870"
      },
      "execution_count": null,
      "outputs": [
        {
          "output_type": "stream",
          "name": "stdout",
          "text": [
            "1\n",
            "2\n",
            "3\n",
            "4\n",
            "5\n",
            "15\n"
          ]
        }
      ]
    },
    {
      "cell_type": "code",
      "source": [
        "#Use nested loops to print a right triangle pattern.\n",
        "n=5\n",
        "for i in range(n+1):\n",
        "  for j in range(i):\n",
        "    print('*',end=' ')\n",
        "  print()\n"
      ],
      "metadata": {
        "colab": {
          "base_uri": "https://localhost:8080/"
        },
        "id": "Yw2iCwr3ZF5d",
        "outputId": "fae32113-165f-484b-b170-cd7dc64f9ffe"
      },
      "execution_count": null,
      "outputs": [
        {
          "output_type": "stream",
          "name": "stdout",
          "text": [
            "\n",
            "* \n",
            "* * \n",
            "* * * \n",
            "* * * * \n",
            "* * * * * \n"
          ]
        }
      ]
    },
    {
      "cell_type": "code",
      "source": [
        "#Count frequency of each character in a string\n",
        "text = \"Looping is so fun\"\n",
        "already_counted = []\n",
        "\n",
        "for char in text:\n",
        "    if char not in already_counted:\n",
        "        count = 0\n",
        "        for c in text:\n",
        "            if c == char:\n",
        "                count += 1\n",
        "        print(f\"{char} appears {count} times\")\n",
        "        already_counted.append(char)\n",
        "\n",
        "\n",
        "\n"
      ],
      "metadata": {
        "colab": {
          "base_uri": "https://localhost:8080/"
        },
        "id": "Y0vvRwQwZGIM",
        "outputId": "9a280438-e8f1-4636-e4f1-9101d5e3465f"
      },
      "execution_count": null,
      "outputs": [
        {
          "output_type": "stream",
          "name": "stdout",
          "text": [
            "L appears 1 times\n",
            "o appears 3 times\n",
            "p appears 1 times\n",
            "i appears 2 times\n",
            "n appears 2 times\n",
            "g appears 1 times\n",
            "  appears 3 times\n",
            "s appears 2 times\n",
            "f appears 1 times\n",
            "u appears 1 times\n"
          ]
        }
      ]
    },
    {
      "cell_type": "code",
      "source": [
        "#Check if a string is a palindrome using a loop.\n",
        "p='madam'\n",
        "is_pelindrome=True\n",
        "for i in range(len(p)):\n",
        "  if p[i]!=p[-(i+1)]:\n",
        "    is_pelindrome=False\n",
        "    break\n",
        "\n",
        "if is_pelindrome:\n",
        "    print('Pelindrome')\n",
        "else:\n",
        "    print('Not Pelindrome')\n"
      ],
      "metadata": {
        "colab": {
          "base_uri": "https://localhost:8080/"
        },
        "id": "56apXoebZXBu",
        "outputId": "764e1821-a077-437b-8f8f-1cbc24c3749d"
      },
      "execution_count": null,
      "outputs": [
        {
          "output_type": "stream",
          "name": "stdout",
          "text": [
            "Pelindrome\n"
          ]
        }
      ]
    },
    {
      "cell_type": "code",
      "source": [
        "#Remove duplicates from a list using a loop\n",
        "nums = [1, 2, 2, 3, 4, 4]\n",
        "unique_num=[]\n",
        "for i in nums:\n",
        "  if i not in unique_num:\n",
        "    unique_num.append(i)\n",
        "print(unique_num)"
      ],
      "metadata": {
        "colab": {
          "base_uri": "https://localhost:8080/"
        },
        "id": "8_QeplJrZefi",
        "outputId": "018de708-f413-4c6d-95f4-d1d286152890"
      },
      "execution_count": null,
      "outputs": [
        {
          "output_type": "stream",
          "name": "stdout",
          "text": [
            "[1, 2, 3, 4]\n"
          ]
        }
      ]
    },
    {
      "cell_type": "code",
      "source": [
        "#Prime number checker using a loop\n",
        "num = 29\n",
        "is_prime = True\n",
        "for i in range(2, int(num**0.5) + 1):\n",
        "  print(i)\n",
        "  if num % i == 0:\n",
        "        is_prime = False\n",
        "        break\n",
        "print(is_prime)\n"
      ],
      "metadata": {
        "colab": {
          "base_uri": "https://localhost:8080/"
        },
        "id": "Y0yTZil_ZnLZ",
        "outputId": "e0d06432-100b-4fbb-dddb-42da465fcba4"
      },
      "execution_count": null,
      "outputs": [
        {
          "output_type": "stream",
          "name": "stdout",
          "text": [
            "2\n",
            "3\n",
            "4\n",
            "5\n",
            "True\n"
          ]
        }
      ]
    },
    {
      "cell_type": "code",
      "source": [
        "#Print all prime numbers from 1 to 100.\n",
        "for i in range(2,101):\n",
        "  for j in range(2, int(i**0.5)+1):\n",
        "    if i%j==0:\n",
        "      break\n",
        "  else:\n",
        "    print(i)"
      ],
      "metadata": {
        "colab": {
          "base_uri": "https://localhost:8080/"
        },
        "id": "jBukmtZ1ZnXt",
        "outputId": "ed53cbbd-c968-49f4-9f6c-9a00da426c5f"
      },
      "execution_count": null,
      "outputs": [
        {
          "output_type": "stream",
          "name": "stdout",
          "text": [
            "2\n",
            "3\n",
            "5\n",
            "7\n",
            "11\n",
            "13\n",
            "17\n",
            "19\n",
            "23\n",
            "29\n",
            "31\n",
            "37\n",
            "41\n",
            "43\n",
            "47\n",
            "53\n",
            "59\n",
            "61\n",
            "67\n",
            "71\n",
            "73\n",
            "79\n",
            "83\n",
            "89\n",
            "97\n"
          ]
        }
      ]
    },
    {
      "cell_type": "code",
      "source": [
        "#Detect Armstrong numbers between 100 to 999.\n",
        "for i in range(100,1000):\n",
        "  if i == int(str(i)[0])**3 + int(str(i)[1])**3 + int(str(i)[2])**3:\n",
        "    print(i)"
      ],
      "metadata": {
        "id": "S487zBRIZnaZ",
        "colab": {
          "base_uri": "https://localhost:8080/"
        },
        "outputId": "56f1e110-df83-43ff-c63c-c760b9512579"
      },
      "execution_count": 1,
      "outputs": [
        {
          "output_type": "stream",
          "name": "stdout",
          "text": [
            "153\n",
            "370\n",
            "371\n",
            "407\n"
          ]
        }
      ]
    },
    {
      "cell_type": "code",
      "source": [
        "#Find the second largest element in a list using loops.\n",
        "nums = [4, 7, 2, 9, 5]\n",
        "first = second = float('-inf')\n",
        "for num in nums:\n",
        "    if num > first:\n",
        "        second = first\n",
        "        first = num\n",
        "    elif num > second and num != first:\n",
        "        second = num\n",
        "print(second)\n"
      ],
      "metadata": {
        "id": "r4Qg8pVFZndv",
        "colab": {
          "base_uri": "https://localhost:8080/"
        },
        "outputId": "9afbf5f5-8fe8-45e6-c103-b5c3b4ea1508"
      },
      "execution_count": 7,
      "outputs": [
        {
          "output_type": "stream",
          "name": "stdout",
          "text": [
            "7\n"
          ]
        }
      ]
    },
    {
      "cell_type": "code",
      "source": [
        "#Print Pascal’s Triangle up to 5 rows.\n",
        "from math import comb\n",
        "n = 5\n",
        "for i in range(n):\n",
        "  #print(i)\n",
        "  for j in range(i + 1):\n",
        "      #print(j)\n",
        "      print(comb(i, j), end=\" \")\n",
        "  print()"
      ],
      "metadata": {
        "id": "-rB1BoosZ-c9",
        "colab": {
          "base_uri": "https://localhost:8080/"
        },
        "outputId": "63136e28-9451-4433-8bc9-ca375106a789"
      },
      "execution_count": 11,
      "outputs": [
        {
          "output_type": "stream",
          "name": "stdout",
          "text": [
            "1 \n",
            "1 1 \n",
            "1 2 1 \n",
            "1 3 3 1 \n",
            "1 4 6 4 1 \n"
          ]
        }
      ]
    },
    {
      "cell_type": "code",
      "source": [
        "#Print all unique pairs in a list that sum to a target.\n",
        "arr = [2, 4, 3, 5, 7]\n",
        "target = 9\n",
        "for i in range(len(arr)):\n",
        "    for j in range(i+1, len(arr)):\n",
        "        if arr[i] + arr[j] == target:\n",
        "            print((arr[i], arr[j]))\n"
      ],
      "metadata": {
        "id": "qyvKl_9iZ-fk",
        "colab": {
          "base_uri": "https://localhost:8080/"
        },
        "outputId": "70019fd1-936e-4195-e810-ad990857bd97"
      },
      "execution_count": 6,
      "outputs": [
        {
          "output_type": "stream",
          "name": "stdout",
          "text": [
            "(2, 7)\n",
            "(4, 5)\n"
          ]
        }
      ]
    },
    {
      "cell_type": "code",
      "source": [
        "#Generate a number pyramid pattern.\n",
        "n = 5\n",
        "for i in range(1, n+1):\n",
        "    print(\" \"*(n-i), end=\" \")\n",
        "    for j in range(1, i+1):\n",
        "        print(j, end=\" \")\n",
        "    print()\n"
      ],
      "metadata": {
        "id": "nUJFH2mFZ-h3",
        "colab": {
          "base_uri": "https://localhost:8080/"
        },
        "outputId": "52e1eaad-a8c7-4d17-bffc-0f2509d15336"
      },
      "execution_count": 20,
      "outputs": [
        {
          "output_type": "stream",
          "name": "stdout",
          "text": [
            "     1 \n",
            "    1 2 \n",
            "   1 2 3 \n",
            "  1 2 3 4 \n",
            " 1 2 3 4 5 \n"
          ]
        }
      ]
    },
    {
      "cell_type": "code",
      "source": [
        "#Print all substrings of a given string\n",
        "s = \"abc\"\n",
        "for i in range(len(s)):  #3  : 0 1 2\n",
        "    for j in range(i+1, len(s)+1): #1:4 2:4 3:4\n",
        "      #print(i,j) #01 12 13, 12 13, 23\n",
        "      print(s[i:j])\n"
      ],
      "metadata": {
        "id": "RmmW5iy5Z-j7",
        "colab": {
          "base_uri": "https://localhost:8080/"
        },
        "outputId": "8a6d8756-e14b-464b-975d-e106cb896ed1"
      },
      "execution_count": 16,
      "outputs": [
        {
          "output_type": "stream",
          "name": "stdout",
          "text": [
            "a\n",
            "ab\n",
            "abc\n",
            "b\n",
            "bc\n",
            "c\n"
          ]
        }
      ]
    },
    {
      "cell_type": "code",
      "source": [
        "#Detect the longest word in a sentence using a loop.\n",
        "sentence = \"Python is a powerful programming language\"\n",
        "word=sentence.split(' ')\n",
        "long=' '\n",
        "for i in word:\n",
        "  if len(i)>len(long):\n",
        "    long=i\n",
        "print(long)\n"
      ],
      "metadata": {
        "colab": {
          "base_uri": "https://localhost:8080/"
        },
        "id": "CP2M844dZ-nX",
        "outputId": "3a71e066-eec1-48c9-f9b3-9c9ed8e424ae"
      },
      "execution_count": null,
      "outputs": [
        {
          "output_type": "stream",
          "name": "stdout",
          "text": [
            "programming\n"
          ]
        }
      ]
    },
    {
      "cell_type": "code",
      "source": [
        "#Implement bubble sort using a loop.\n",
        "arr = [5, 3, 8, 1]\n",
        "n = len(arr)\n",
        "for i in range(n):\n",
        "    for j in range(0, n-i-1):\n",
        "        if arr[j] > arr[j+1]:\n",
        "            arr[j], arr[j+1] = arr[j+1], arr[j]\n",
        "print(arr)\n",
        "\n",
        "\n"
      ],
      "metadata": {
        "id": "IEYMXlV7acSs",
        "colab": {
          "base_uri": "https://localhost:8080/"
        },
        "outputId": "282cfe9f-fd94-4b17-98e7-738cf359b852"
      },
      "execution_count": 4,
      "outputs": [
        {
          "output_type": "stream",
          "name": "stdout",
          "text": [
            "[1, 3, 5, 8]\n"
          ]
        }
      ]
    },
    {
      "cell_type": "code",
      "source": [],
      "metadata": {
        "id": "ffMmXkq5svih"
      },
      "execution_count": null,
      "outputs": []
    }
  ]
}