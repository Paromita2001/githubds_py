{
  "cells": [
    {
      "cell_type": "markdown",
      "metadata": {
        "id": "view-in-github",
        "colab_type": "text"
      },
      "source": [
        "<a href=\"https://colab.research.google.com/github/Paromita2001/githubds_py/blob/main/numpyassignment.ipynb\" target=\"_parent\"><img src=\"https://colab.research.google.com/assets/colab-badge.svg\" alt=\"Open In Colab\"/></a>"
      ]
    },
    {
      "cell_type": "markdown",
      "metadata": {
        "id": "y75HaezNx3AN"
      },
      "source": [
        "# Module: NumPy Assignments\n",
        "## Lesson: NumPy\n",
        "### Assignment 1: Array Creation and Manipulation\n",
        "\n",
        "1. Create a NumPy array of shape (5, 5) filled with random integers between 1 and 20. Replace all the elements in the third column with 1."
      ],
      "id": "y75HaezNx3AN"
    },
    {
      "cell_type": "code",
      "execution_count": null,
      "metadata": {
        "id": "byjFhwB-x3AP"
      },
      "outputs": [],
      "source": [
        "import numpy as np\n",
        "\n",
        "# Create a NumPy array of shape (5, 5) filled with random integers\n",
        "array = np.random.randint(1, 21, size=(5, 5))\n",
        "print(\"Original array:\")\n",
        "print(array)\n",
        "\n",
        "# Replace all the elements in the third column with 1\n",
        "array[:, 2] = 1\n",
        "print(\"Modified array:\")\n",
        "print(array)"
      ],
      "id": "byjFhwB-x3AP"
    },
    {
      "cell_type": "markdown",
      "metadata": {
        "id": "aZ9nnrUox3AP"
      },
      "source": [
        "2. Create a NumPy array of shape (4, 4) with values from 1 to 16. Replace the diagonal elements with 0."
      ],
      "id": "aZ9nnrUox3AP"
    },
    {
      "cell_type": "code",
      "execution_count": null,
      "metadata": {
        "id": "HuXLbeeSx3AQ"
      },
      "outputs": [],
      "source": [
        "# Create a NumPy array of shape (4, 4) with values from 1 to 16\n",
        "array = np.arange(1, 17).reshape((4, 4))\n",
        "print(\"Original array:\")\n",
        "print(array)\n",
        "\n",
        "# Replace the diagonal elements with 0\n",
        "np.fill_diagonal(array, 0)\n",
        "print(\"Modified array:\")\n",
        "print(array)"
      ],
      "id": "HuXLbeeSx3AQ"
    },
    {
      "cell_type": "markdown",
      "metadata": {
        "id": "DF_u_gBYx3AQ"
      },
      "source": [
        "### Assignment 2: Array Indexing and Slicing\n",
        "\n",
        "1. Create a NumPy array of shape (6, 6) with values from 1 to 36. Extract the sub-array consisting of the 3rd to 5th rows and 2nd to 4th columns."
      ],
      "id": "DF_u_gBYx3AQ"
    },
    {
      "cell_type": "code",
      "execution_count": null,
      "metadata": {
        "id": "UPYvW0tHx3AQ"
      },
      "outputs": [],
      "source": [
        "# Create a NumPy array of shape (6, 6) with values from 1 to 36\n",
        "array = np.arange(1, 37).reshape((6, 6))\n",
        "print(\"Original array:\")\n",
        "print(array)\n",
        "\n",
        "# Extract the sub-array\n",
        "sub_array = array[2:5, 1:4]\n",
        "print(\"Sub-array:\")\n",
        "print(sub_array)"
      ],
      "id": "UPYvW0tHx3AQ"
    },
    {
      "cell_type": "markdown",
      "metadata": {
        "id": "G8PWnphdx3AQ"
      },
      "source": [
        "2. Create a NumPy array of shape (5, 5) with random integers. Extract the elements on the border."
      ],
      "id": "G8PWnphdx3AQ"
    },
    {
      "cell_type": "code",
      "execution_count": null,
      "metadata": {
        "id": "Ftrxx4wix3AR"
      },
      "outputs": [],
      "source": [
        "# Create a NumPy array of shape (5, 5) with random integers\n",
        "array = np.random.randint(1, 21, size=(5, 5))\n",
        "print(\"Original array:\")\n",
        "print(array)\n",
        "\n",
        "# Extract the elements on the border\n",
        "border_elements = np.concatenate((array[0, :], array[-1, :], array[1:-1, 0], array[1:-1, -1]))\n",
        "print(\"Border elements:\")\n",
        "print(border_elements)"
      ],
      "id": "Ftrxx4wix3AR"
    },
    {
      "cell_type": "markdown",
      "metadata": {
        "id": "3jQcDO4ux3AR"
      },
      "source": [
        "### Assignment 3: Array Operations\n",
        "\n",
        "1. Create two NumPy arrays of shape (3, 4) filled with random integers. Perform element-wise addition, subtraction, multiplication, and division."
      ],
      "id": "3jQcDO4ux3AR"
    },
    {
      "cell_type": "code",
      "execution_count": null,
      "metadata": {
        "id": "LEe96m1ox3AR"
      },
      "outputs": [],
      "source": [
        "# Create two NumPy arrays of shape (3, 4) filled with random integers\n",
        "array1 = np.random.randint(1, 11, size=(3, 4))\n",
        "array2 = np.random.randint(1, 11, size=(3, 4))\n",
        "print(\"Array 1:\")\n",
        "print(array1)\n",
        "print(\"Array 2:\")\n",
        "print(array2)\n",
        "\n",
        "# Perform element-wise operations\n",
        "addition = array1 + array2\n",
        "subtraction = array1 - array2\n",
        "multiplication = array1 * array2\n",
        "division = array1 / array2\n",
        "\n",
        "print(\"Element-wise addition:\")\n",
        "print(addition)\n",
        "print(\"Element-wise subtraction:\")\n",
        "print(subtraction)\n",
        "print(\"Element-wise multiplication:\")\n",
        "print(multiplication)\n",
        "print(\"Element-wise division:\")\n",
        "print(division)"
      ],
      "id": "LEe96m1ox3AR"
    },
    {
      "cell_type": "markdown",
      "metadata": {
        "id": "zP6--WDbx3AR"
      },
      "source": [
        "2. Create a NumPy array of shape (4, 4) with values from 1 to 16. Compute the row-wise and column-wise sum."
      ],
      "id": "zP6--WDbx3AR"
    },
    {
      "cell_type": "code",
      "execution_count": null,
      "metadata": {
        "id": "KtSuevw7x3AR"
      },
      "outputs": [],
      "source": [
        "# Create a NumPy array of shape (4, 4) with values from 1 to 16\n",
        "array = np.arange(1, 17).reshape((4, 4))\n",
        "print(\"Original array:\")\n",
        "print(array)\n",
        "\n",
        "# Compute the row-wise and column-wise sum\n",
        "row_sum = np.sum(array, axis=1)\n",
        "column_sum = np.sum(array, axis=0)\n",
        "\n",
        "print(\"Row-wise sum:\")\n",
        "print(row_sum)\n",
        "print(\"Column-wise sum:\")\n",
        "print(column_sum)"
      ],
      "id": "KtSuevw7x3AR"
    },
    {
      "cell_type": "markdown",
      "metadata": {
        "id": "gXw7fzVIx3AR"
      },
      "source": [
        "### Assignment 4: Statistical Operations\n",
        "\n",
        "1. Create a NumPy array of shape (5, 5) filled with random integers. Compute the mean, median, standard deviation, and variance of the array."
      ],
      "id": "gXw7fzVIx3AR"
    },
    {
      "cell_type": "code",
      "execution_count": null,
      "metadata": {
        "id": "Ru0Ws0w7x3AS"
      },
      "outputs": [],
      "source": [
        "# Create a NumPy array of shape (5, 5) filled with random integers\n",
        "array = np.random.randint(1, 21, size=(5, 5))\n",
        "print(\"Original array:\")\n",
        "print(array)\n",
        "\n",
        "# Compute the statistical values\n",
        "mean = np.mean(array)\n",
        "median = np.median(array)\n",
        "std_dev = np.std(array)\n",
        "variance = np.var(array)\n",
        "\n",
        "print(\"Mean:\", mean)\n",
        "print(\"Median:\", median)\n",
        "print(\"Standard Deviation:\", std_dev)\n",
        "print(\"Variance:\", variance)"
      ],
      "id": "Ru0Ws0w7x3AS"
    },
    {
      "cell_type": "markdown",
      "metadata": {
        "id": "YSBTPSA_x3AS"
      },
      "source": [
        "2. Create a NumPy array of shape (3, 3) with values from 1 to 9. Normalize the array (i.e., scale the values to have a mean of 0 and a standard deviation of 1)."
      ],
      "id": "YSBTPSA_x3AS"
    },
    {
      "cell_type": "code",
      "execution_count": null,
      "metadata": {
        "id": "PfylpAvlx3AS"
      },
      "outputs": [],
      "source": [
        "# Create a NumPy array of shape (3, 3) with values from 1 to 9\n",
        "array = np.arange(1, 10).reshape((3, 3))\n",
        "print(\"Original array:\")\n",
        "print(array)\n",
        "\n",
        "# Normalize the array\n",
        "mean = np.mean(array)\n",
        "std_dev = np.std(array)\n",
        "normalized_array = (array - mean) / std_dev\n",
        "\n",
        "print(\"Normalized array:\")\n",
        "print(normalized_array)"
      ],
      "id": "PfylpAvlx3AS"
    },
    {
      "cell_type": "markdown",
      "metadata": {
        "id": "Sgdy4pWux3AS"
      },
      "source": [
        "### Assignment 5: Broadcasting\n",
        "\n",
        "1. Create a NumPy array of shape (3, 3) filled with random integers. Add a 1D array of shape (3,) to each row of the 2D array using broadcasting."
      ],
      "id": "Sgdy4pWux3AS"
    },
    {
      "cell_type": "code",
      "execution_count": null,
      "metadata": {
        "id": "5gtA5mQtx3AS"
      },
      "outputs": [],
      "source": [
        "# Create a NumPy array of shape (3, 3) filled with random integers\n",
        "array = np.random.randint(1, 11, size=(3, 3))\n",
        "row_array = np.random.randint(1, 11, size=(3,))\n",
        "print(\"Original array:\")\n",
        "print(array)\n",
        "print(\"1D array:\")\n",
        "print(row_array)\n",
        "\n",
        "# Add the 1D array to each row of the 2D array using broadcasting\n",
        "result = array + row_array\n",
        "print(\"Resulting array:\")\n",
        "print(result)"
      ],
      "id": "5gtA5mQtx3AS"
    },
    {
      "cell_type": "markdown",
      "metadata": {
        "id": "u8w9xeyKx3AS"
      },
      "source": [
        "2. Create a NumPy array of shape (4, 4) filled with random integers. Subtract a 1D array of shape (4,) from each column of the 2D array using broadcasting."
      ],
      "id": "u8w9xeyKx3AS"
    },
    {
      "cell_type": "code",
      "execution_count": null,
      "metadata": {
        "id": "CQShVXoFx3AS"
      },
      "outputs": [],
      "source": [
        "# Create a NumPy array of shape (4, 4) filled with random integers\n",
        "array = np.random.randint(1, 11, size=(4, 4))\n",
        "column_array = np.random.randint(1, 11, size=(4,))\n",
        "print(\"Original array:\")\n",
        "print(array)\n",
        "print(\"1D array:\")\n",
        "print(column_array)\n",
        "\n",
        "# Subtract the 1D array from each column of the 2D array using broadcasting\n",
        "result = array - column_array[:, np.newaxis]\n",
        "print(\"Resulting array:\")\n",
        "print(result)"
      ],
      "id": "CQShVXoFx3AS"
    },
    {
      "cell_type": "markdown",
      "metadata": {
        "id": "DUQ4dOkCx3AS"
      },
      "source": [
        "### Assignment 6: Linear Algebra\n",
        "\n",
        "1. Create a NumPy array of shape (3, 3) representing a matrix. Compute its determinant, inverse, and eigenvalues."
      ],
      "id": "DUQ4dOkCx3AS"
    },
    {
      "cell_type": "code",
      "execution_count": null,
      "metadata": {
        "id": "GRpGiaXHx3AT"
      },
      "outputs": [],
      "source": [
        "# Create a NumPy array of shape (3, 3) representing a matrix\n",
        "matrix = np.random.randint(1, 11, size=(3, 3))\n",
        "print(\"Original matrix:\")\n",
        "print(matrix)\n",
        "\n",
        "# Compute the determinant\n",
        "determinant = np.linalg.det(matrix)\n",
        "print(\"Determinant:\", determinant)\n",
        "\n",
        "# Compute the inverse\n",
        "inverse = np.linalg.inv(matrix)\n",
        "print(\"Inverse:\")\n",
        "print(inverse)\n",
        "\n",
        "# Compute the eigenvalues\n",
        "eigenvalues = np.linalg.eigvals(matrix)\n",
        "print(\"Eigenvalues:\", eigenvalues)"
      ],
      "id": "GRpGiaXHx3AT"
    },
    {
      "cell_type": "markdown",
      "metadata": {
        "id": "fcMsXEOkx3AT"
      },
      "source": [
        "2. Create two NumPy arrays of shape (2, 3) and (3, 2). Perform matrix multiplication on these arrays."
      ],
      "id": "fcMsXEOkx3AT"
    },
    {
      "cell_type": "code",
      "execution_count": null,
      "metadata": {
        "id": "tTC8YV5dx3AT"
      },
      "outputs": [],
      "source": [
        "# Create two NumPy arrays of shape (2, 3) and (3, 2)\n",
        "array1 = np.random.randint(1, 11, size=(2, 3))\n",
        "array2 = np.random.randint(1, 11, size=(3, 2))\n",
        "print(\"Array 1:\")\n",
        "print(array1)\n",
        "print(\"Array 2:\")\n",
        "print(array2)\n",
        "\n",
        "# Perform matrix multiplication\n",
        "result = np.dot(array1, array2)\n",
        "print(\"Matrix multiplication result:\")\n",
        "print(result)"
      ],
      "id": "tTC8YV5dx3AT"
    },
    {
      "cell_type": "markdown",
      "metadata": {
        "id": "f0_D3DQzx3AT"
      },
      "source": [
        "### Assignment 7: Advanced Array Manipulation\n",
        "\n",
        "1. Create a NumPy array of shape (3, 3) with values from 1 to 9. Reshape the array to shape (1, 9) and then to shape (9, 1)."
      ],
      "id": "f0_D3DQzx3AT"
    },
    {
      "cell_type": "code",
      "execution_count": null,
      "metadata": {
        "id": "N-0ekTzxx3AT"
      },
      "outputs": [],
      "source": [
        "# Create a NumPy array of shape (3, 3) with values from 1 to 9\n",
        "array = np.arange(1, 10).reshape((3, 3))\n",
        "print(\"Original array:\")\n",
        "print(array)\n",
        "\n",
        "# Reshape the array to shape (1, 9)\n",
        "reshaped_array_1 = array.reshape((1, 9))\n",
        "print(\"Reshaped array (1, 9):\")\n",
        "print(reshaped_array_1)\n",
        "\n",
        "# Reshape the array to shape (9, 1)\n",
        "reshaped_array_2 = reshaped_array_1.reshape((9, 1))\n",
        "print(\"Reshaped array (9, 1):\")\n",
        "print(reshaped_array_2)"
      ],
      "id": "N-0ekTzxx3AT"
    },
    {
      "cell_type": "markdown",
      "metadata": {
        "id": "4-7dBvlmx3AT"
      },
      "source": [
        "2. Create a NumPy array of shape (5, 5) filled with random integers. Flatten the array and then reshape it back to (5, 5)."
      ],
      "id": "4-7dBvlmx3AT"
    },
    {
      "cell_type": "code",
      "execution_count": null,
      "metadata": {
        "id": "QqyVXeffx3AT"
      },
      "outputs": [],
      "source": [
        "# Create a NumPy array of shape (5, 5) filled with random integers\n",
        "array = np.random.randint(1, 21, size=(5, 5))\n",
        "print(\"Original array:\")\n",
        "print(array)\n",
        "\n",
        "# Flatten the array\n",
        "flattened_array = array.flatten()\n",
        "print(\"Flattened array:\")\n",
        "print(flattened_array)\n",
        "\n",
        "# Reshape the array back to (5, 5)\n",
        "reshaped_array = flattened_array.reshape((5, 5))\n",
        "print(\"Reshaped array:\")\n",
        "print(reshaped_array)"
      ],
      "id": "QqyVXeffx3AT"
    },
    {
      "cell_type": "markdown",
      "metadata": {
        "id": "bEk7MimLx3AT"
      },
      "source": [
        "### Assignment 8: Fancy Indexing and Boolean Indexing\n",
        "\n",
        "1. Create a NumPy array of shape (5, 5) filled with random integers. Use fancy indexing to extract the elements at the corners of the array."
      ],
      "id": "bEk7MimLx3AT"
    },
    {
      "cell_type": "code",
      "execution_count": null,
      "metadata": {
        "id": "elWo_TqAx3AT"
      },
      "outputs": [],
      "source": [
        "# Create a NumPy array of shape (5, 5) filled with random integers\n",
        "array = np.random.randint(1, 21, size=(5, 5))\n",
        "print(\"Original array:\")\n",
        "print(array)\n",
        "\n",
        "# Use fancy indexing to extract the elements at the corners of the array\n",
        "corners = array[[0, 0, -1, -1], [0, -1, 0, -1]]\n",
        "print(\"Corner elements:\")\n",
        "print(corners)"
      ],
      "id": "elWo_TqAx3AT"
    },
    {
      "cell_type": "markdown",
      "metadata": {
        "id": "5iNcRdarx3AT"
      },
      "source": [
        "2. Create a NumPy array of shape (4, 4) filled with random integers. Use boolean indexing to set all elements greater than 10 to 10."
      ],
      "id": "5iNcRdarx3AT"
    },
    {
      "cell_type": "code",
      "execution_count": null,
      "metadata": {
        "id": "0sZXAJ49x3AU"
      },
      "outputs": [],
      "source": [
        "# Create a NumPy array of shape (4, 4) filled with random integers\n",
        "array = np.random.randint(1, 21, size=(4, 4))\n",
        "print(\"Original array:\")\n",
        "print(array)\n",
        "\n",
        "# Use boolean indexing to set all elements greater than 10 to 10\n",
        "array[array > 10] = 10\n",
        "print(\"Modified array:\")\n",
        "print(array)"
      ],
      "id": "0sZXAJ49x3AU"
    },
    {
      "cell_type": "markdown",
      "metadata": {
        "id": "3YXLI4J-x3AU"
      },
      "source": [
        "### Assignment 9: Structured Arrays\n",
        "\n",
        "1. Create a structured array with fields 'name' (string), 'age' (integer), and 'weight' (float). Add some data and sort the array by age."
      ],
      "id": "3YXLI4J-x3AU"
    },
    {
      "cell_type": "code",
      "execution_count": null,
      "metadata": {
        "id": "I80bMN9mx3AU"
      },
      "outputs": [],
      "source": [
        "# Create a structured array with fields 'name', 'age', and 'weight'\n",
        "data_type = [('name', 'U10'), ('age', 'i4'), ('weight', 'f4')]\n",
        "data = np.array([('Alice', 25, 55.5), ('Bob', 30, 85.3), ('Charlie', 20, 65.2)], dtype=data_type)\n",
        "print(\"Original array:\")\n",
        "print(data)\n",
        "\n",
        "# Sort the array by age\n",
        "sorted_data = np.sort(data, order='age')\n",
        "print(\"Sorted array by age:\")\n",
        "print(sorted_data)"
      ],
      "id": "I80bMN9mx3AU"
    },
    {
      "cell_type": "markdown",
      "metadata": {
        "id": "R_lzcAFZx3AU"
      },
      "source": [
        "2. Create a structured array with fields 'x' and 'y' (both integers). Add some data and compute the Euclidean distance between each pair of points."
      ],
      "id": "R_lzcAFZx3AU"
    },
    {
      "cell_type": "code",
      "execution_count": null,
      "metadata": {
        "id": "amPG5iNdx3AU"
      },
      "outputs": [],
      "source": [
        "# Create a structured array with fields 'x' and 'y'\n",
        "data_type = [('x', 'i4'), ('y', 'i4')]\n",
        "data = np.array([(1, 2), (3, 4), (5, 6)], dtype=data_type)\n",
        "print(\"Original array:\")\n",
        "print(data)\n",
        "\n",
        "# Compute the Euclidean distance between each pair of points\n",
        "distances = np.sqrt((data['x'][:, np.newaxis] - data['x'])**2 + (data['y'][:, np.newaxis] - data['y'])**2)\n",
        "print(\"Euclidean distances:\")\n",
        "print(distances)"
      ],
      "id": "amPG5iNdx3AU"
    },
    {
      "cell_type": "markdown",
      "metadata": {
        "id": "auDF-zzbx3AU"
      },
      "source": [
        "### Assignment 10: Masked Arrays\n",
        "\n",
        "1. Create a masked array of shape (4, 4) with random integers and mask the elements greater than 10. Compute the sum of the unmasked elements."
      ],
      "id": "auDF-zzbx3AU"
    },
    {
      "cell_type": "code",
      "execution_count": null,
      "metadata": {
        "id": "PnhCLF_ex3AU"
      },
      "outputs": [],
      "source": [
        "import numpy.ma as ma\n",
        "\n",
        "# Create a masked array of shape (4, 4) with random integers\n",
        "array = np.random.randint(1, 21, size=(4, 4))\n",
        "masked_array = ma.masked_greater(array, 10)\n",
        "print(\"Original array:\")\n",
        "print(array)\n",
        "print(\"Masked array:\")\n",
        "print(masked_array)\n",
        "\n",
        "# Compute the sum of the unmasked elements\n",
        "sum_unmasked = masked_array.sum()\n",
        "print(\"Sum of unmasked elements:\", sum_unmasked)"
      ],
      "id": "PnhCLF_ex3AU"
    },
    {
      "cell_type": "markdown",
      "metadata": {
        "id": "M2O32k3Kx3AV"
      },
      "source": [
        "2. Create a masked array of shape (3, 3) with random integers and mask the diagonal elements. Replace the masked elements with the mean of the unmasked elements."
      ],
      "id": "M2O32k3Kx3AV"
    },
    {
      "cell_type": "code",
      "execution_count": null,
      "metadata": {
        "id": "6lRm3Q6tx3Ad"
      },
      "outputs": [],
      "source": [
        "# Create a masked array of shape (3, 3) with random integers\n",
        "array = np.random.randint(1, 21, size=(3, 3))\n",
        "masked_array = ma.masked_array(array, mask=np.eye(3, dtype=bool))\n",
        "print(\"Original array:\")\n",
        "print(array)\n",
        "print(\"Masked array:\")\n",
        "print(masked_array)\n",
        "\n",
        "# Replace the masked elements with the mean of the unmasked elements\n",
        "mean_unmasked = masked_array.mean()\n",
        "masked_array = masked_array.filled(mean_unmasked)\n",
        "print(\"Modified masked array:\")\n",
        "print(masked_array)"
      ],
      "id": "6lRm3Q6tx3Ad"
    }
  ],
  "metadata": {
    "kernelspec": {
      "display_name": "Python 3",
      "language": "python",
      "name": "python3"
    },
    "language_info": {
      "codemirror_mode": {
        "name": "ipython",
        "version": 3
      },
      "file_extension": ".py",
      "mimetype": "text/x-python",
      "name": "python",
      "nbconvert_exporter": "python",
      "pygments_lexer": "ipython3",
      "version": "3.9.7"
    },
    "colab": {
      "provenance": [],
      "include_colab_link": true
    }
  },
  "nbformat": 4,
  "nbformat_minor": 5
}