{
  "cells": [
    {
      "cell_type": "markdown",
      "metadata": {
        "id": "view-in-github",
        "colab_type": "text"
      },
      "source": [
        "<a href=\"https://colab.research.google.com/github/Paromita2001/githubds_py/blob/main/pandasassignment.ipynb\" target=\"_parent\"><img src=\"https://colab.research.google.com/assets/colab-badge.svg\" alt=\"Open In Colab\"/></a>"
      ]
    },
    {
      "cell_type": "markdown",
      "metadata": {
        "id": "spFY6WUByJxk"
      },
      "source": [
        "# Module: Pandas Assignments\n",
        "## Lesson: Pandas\n",
        "### Assignment 1: DataFrame Creation and Indexing\n",
        "\n",
        "1. Create a Pandas DataFrame with 4 columns and 6 rows filled with random integers. Set the index to be the first column."
      ],
      "id": "spFY6WUByJxk"
    },
    {
      "cell_type": "code",
      "execution_count": null,
      "metadata": {
        "id": "Q51sUa0zyJxn"
      },
      "outputs": [],
      "source": [
        "import pandas as pd\n",
        "import numpy as np\n",
        "\n",
        "# Create a Pandas DataFrame with 4 columns and 6 rows filled with random integers\n",
        "df = pd.DataFrame(np.random.randint(1, 100, size=(6, 4)), columns=['A', 'B', 'C', 'D'])\n",
        "print(\"Original DataFrame:\")\n",
        "print(df)\n",
        "\n",
        "# Set the index to be the first column\n",
        "df.set_index('A', inplace=True)\n",
        "print(\"DataFrame with new index:\")\n",
        "print(df)"
      ],
      "id": "Q51sUa0zyJxn"
    },
    {
      "cell_type": "markdown",
      "metadata": {
        "id": "5hA2OqreyJxo"
      },
      "source": [
        "2. Create a Pandas DataFrame with columns 'A', 'B', 'C' and index 'X', 'Y', 'Z'. Fill the DataFrame with random integers and access the element at row 'Y' and column 'B'."
      ],
      "id": "5hA2OqreyJxo"
    },
    {
      "cell_type": "code",
      "execution_count": null,
      "metadata": {
        "id": "5AdJHmW1yJxq"
      },
      "outputs": [],
      "source": [
        "# Create a Pandas DataFrame with specified columns and index\n",
        "df = pd.DataFrame(np.random.randint(1, 100, size=(3, 3)), columns=['A', 'B', 'C'], index=['X', 'Y', 'Z'])\n",
        "print(\"Original DataFrame:\")\n",
        "print(df)\n",
        "\n",
        "# Access the element at row 'Y' and column 'B'\n",
        "element = df.at['Y', 'B']\n",
        "print(\"Element at row 'Y' and column 'B':\", element)"
      ],
      "id": "5AdJHmW1yJxq"
    },
    {
      "cell_type": "markdown",
      "metadata": {
        "id": "6sf3BIrAyJxr"
      },
      "source": [
        "### Assignment 2: DataFrame Operations\n",
        "\n",
        "1. Create a Pandas DataFrame with 3 columns and 5 rows filled with random integers. Add a new column that is the product of the first two columns."
      ],
      "id": "6sf3BIrAyJxr"
    },
    {
      "cell_type": "code",
      "execution_count": null,
      "metadata": {
        "id": "4mvdK6vvyJxr"
      },
      "outputs": [],
      "source": [
        "# Create a Pandas DataFrame with 3 columns and 5 rows filled with random integers\n",
        "df = pd.DataFrame(np.random.randint(1, 100, size=(5, 3)), columns=['A', 'B', 'C'])\n",
        "print(\"Original DataFrame:\")\n",
        "print(df)\n",
        "\n",
        "# Add a new column that is the product of the first two columns\n",
        "df['D'] = df['A'] * df['B']\n",
        "print(\"DataFrame with new column:\")\n",
        "print(df)"
      ],
      "id": "4mvdK6vvyJxr"
    },
    {
      "cell_type": "markdown",
      "metadata": {
        "id": "iBrXf0ziyJxr"
      },
      "source": [
        "2. Create a Pandas DataFrame with 3 columns and 4 rows filled with random integers. Compute the row-wise and column-wise sum."
      ],
      "id": "iBrXf0ziyJxr"
    },
    {
      "cell_type": "code",
      "execution_count": null,
      "metadata": {
        "id": "csXeJW9fyJxr"
      },
      "outputs": [],
      "source": [
        "# Create a Pandas DataFrame with 3 columns and 4 rows filled with random integers\n",
        "df = pd.DataFrame(np.random.randint(1, 100, size=(4, 3)), columns=['A', 'B', 'C'])\n",
        "print(\"Original DataFrame:\")\n",
        "print(df)\n",
        "\n",
        "# Compute the row-wise and column-wise sum\n",
        "row_sum = df.sum(axis=1)\n",
        "column_sum = df.sum(axis=0)\n",
        "\n",
        "print(\"Row-wise sum:\")\n",
        "print(row_sum)\n",
        "print(\"Column-wise sum:\")\n",
        "print(column_sum)"
      ],
      "id": "csXeJW9fyJxr"
    },
    {
      "cell_type": "markdown",
      "metadata": {
        "id": "Tgk3HAG1yJxr"
      },
      "source": [
        "### Assignment 3: Data Cleaning\n",
        "\n",
        "1. Create a Pandas DataFrame with 3 columns and 5 rows filled with random integers. Introduce some NaN values. Fill the NaN values with the mean of the respective columns."
      ],
      "id": "Tgk3HAG1yJxr"
    },
    {
      "cell_type": "code",
      "execution_count": null,
      "metadata": {
        "id": "ljiDs2klyJxs"
      },
      "outputs": [],
      "source": [
        "# Create a Pandas DataFrame with 3 columns and 5 rows filled with random integers\n",
        "df = pd.DataFrame(np.random.randint(1, 100, size=(5, 3)), columns=['A', 'B', 'C'])\n",
        "print(\"Original DataFrame:\")\n",
        "print(df)\n",
        "\n",
        "# Introduce some NaN values\n",
        "df.iloc[0, 1] = np.nan\n",
        "df.iloc[2, 2] = np.nan\n",
        "df.iloc[4, 0] = np.nan\n",
        "print(\"DataFrame with NaN values:\")\n",
        "print(df)\n",
        "\n",
        "# Fill the NaN values with the mean of the respective columns\n",
        "df.fillna(df.mean(), inplace=True)\n",
        "print(\"DataFrame with NaN values filled:\")\n",
        "print(df)"
      ],
      "id": "ljiDs2klyJxs"
    },
    {
      "cell_type": "markdown",
      "metadata": {
        "id": "_v0SuJCGyJxs"
      },
      "source": [
        "2. Create a Pandas DataFrame with 4 columns and 6 rows filled with random integers. Introduce some NaN values. Drop the rows with any NaN values."
      ],
      "id": "_v0SuJCGyJxs"
    },
    {
      "cell_type": "code",
      "execution_count": null,
      "metadata": {
        "id": "7__S8bKSyJxt"
      },
      "outputs": [],
      "source": [
        "# Create a Pandas DataFrame with 4 columns and 6 rows filled with random integers\n",
        "df = pd.DataFrame(np.random.randint(1, 100, size=(6, 4)), columns=['A', 'B', 'C', 'D'])\n",
        "print(\"Original DataFrame:\")\n",
        "print(df)\n",
        "\n",
        "# Introduce some NaN values\n",
        "df.iloc[1, 2] = np.nan\n",
        "df.iloc[3, 0] = np.nan\n",
        "df.iloc[5, 1] = np.nan\n",
        "print(\"DataFrame with NaN values:\")\n",
        "print(df)\n",
        "\n",
        "# Drop the rows with any NaN values\n",
        "df.dropna(inplace=True)\n",
        "print(\"DataFrame with NaN values dropped:\")\n",
        "print(df)"
      ],
      "id": "7__S8bKSyJxt"
    },
    {
      "cell_type": "markdown",
      "metadata": {
        "id": "6VXyfGgMyJxt"
      },
      "source": [
        "### Assignment 4: Data Aggregation\n",
        "\n",
        "1. Create a Pandas DataFrame with 2 columns: 'Category' and 'Value'. Fill the 'Category' column with random categories ('A', 'B', 'C') and the 'Value' column with random integers. Group the DataFrame by 'Category' and compute the sum and mean of 'Value' for each category."
      ],
      "id": "6VXyfGgMyJxt"
    },
    {
      "cell_type": "code",
      "execution_count": null,
      "metadata": {
        "id": "S5A-OGLDyJxt"
      },
      "outputs": [],
      "source": [
        "# Create a Pandas DataFrame with 2 columns: 'Category' and 'Value'\n",
        "df = pd.DataFrame({'Category': np.random.choice(['A', 'B', 'C'], size=10), 'Value': np.random.randint(1, 100, size=10)})\n",
        "print(\"Original DataFrame:\")\n",
        "print(df)\n",
        "\n",
        "# Group the DataFrame by 'Category' and compute the sum and mean of 'Value' for each category\n",
        "grouped = df.groupby('Category')['Value'].agg(['sum', 'mean'])\n",
        "print(\"Grouped DataFrame:\")\n",
        "print(grouped)"
      ],
      "id": "S5A-OGLDyJxt"
    },
    {
      "cell_type": "markdown",
      "metadata": {
        "id": "9pfwoJFtyJxu"
      },
      "source": [
        "2. Create a Pandas DataFrame with 3 columns: 'Product', 'Category', and 'Sales'. Fill the DataFrame with random data. Group the DataFrame by 'Category' and compute the total sales for each category."
      ],
      "id": "9pfwoJFtyJxu"
    },
    {
      "cell_type": "code",
      "execution_count": null,
      "metadata": {
        "id": "Y5WkfTdjyJxu"
      },
      "outputs": [],
      "source": [
        "# Create a Pandas DataFrame with 3 columns: 'Product', 'Category', and 'Sales'\n",
        "df = pd.DataFrame({'Product': np.random.choice(['Prod1', 'Prod2', 'Prod3'], size=10), 'Category': np.random.choice(['A', 'B', 'C'], size=10), 'Sales': np.random.randint(1, 100, size=10)})\n",
        "print(\"Original DataFrame:\")\n",
        "print(df)\n",
        "\n",
        "# Group the DataFrame by 'Category' and compute the total sales for each category\n",
        "grouped = df.groupby('Category')['Sales'].sum()\n",
        "print(\"Grouped DataFrame:\")\n",
        "print(grouped)"
      ],
      "id": "Y5WkfTdjyJxu"
    },
    {
      "cell_type": "markdown",
      "metadata": {
        "id": "OtgeRK4WyJxu"
      },
      "source": [
        "### Assignment 5: Merging DataFrames\n",
        "\n",
        "1. Create two Pandas DataFrames with a common column. Merge the DataFrames using the common column."
      ],
      "id": "OtgeRK4WyJxu"
    },
    {
      "cell_type": "code",
      "execution_count": null,
      "metadata": {
        "id": "oLUtGSVDyJxv"
      },
      "outputs": [],
      "source": [
        "# Create two Pandas DataFrames with a common column\n",
        "df1 = pd.DataFrame({'Key': ['A', 'B', 'C', 'D'], 'Value1': np.random.randint(1, 100, size=4)})\n",
        "df2 = pd.DataFrame({'Key': ['A', 'B', 'C', 'E'], 'Value2': np.random.randint(1, 100, size=4)})\n",
        "print(\"DataFrame 1:\")\n",
        "print(df1)\n",
        "print(\"DataFrame 2:\")\n",
        "print(df2)\n",
        "\n",
        "# Merge the DataFrames using the common column\n",
        "merged = pd.merge(df1, df2, on='Key')\n",
        "print(\"Merged DataFrame:\")\n",
        "print(merged)"
      ],
      "id": "oLUtGSVDyJxv"
    },
    {
      "cell_type": "markdown",
      "metadata": {
        "id": "fMl-46IRyJxv"
      },
      "source": [
        "2. Create two Pandas DataFrames with different columns. Concatenate the DataFrames along the rows and along the columns."
      ],
      "id": "fMl-46IRyJxv"
    },
    {
      "cell_type": "code",
      "execution_count": null,
      "metadata": {
        "id": "ImFXe5bayJxv"
      },
      "outputs": [],
      "source": [
        "# Create two Pandas DataFrames with different columns\n",
        "df1 = pd.DataFrame({'A': np.random.randint(1, 100, size=3), 'B': np.random.randint(1, 100, size=3)})\n",
        "df2 = pd.DataFrame({'C': np.random.randint(1, 100, size=3), 'D': np.random.randint(1, 100, size=3)})\n",
        "print(\"DataFrame 1:\")\n",
        "print(df1)\n",
        "print(\"DataFrame 2:\")\n",
        "print(df2)\n",
        "\n",
        "# Concatenate the DataFrames along the rows\n",
        "concat_rows = pd.concat([df1, df2], axis=0)\n",
        "print(\"Concatenated DataFrame (rows):\")\n",
        "print(concat_rows)\n",
        "\n",
        "# Concatenate the DataFrames along the columns\n",
        "concat_columns = pd.concat([df1, df2], axis=1)\n",
        "print(\"Concatenated DataFrame (columns):\")\n",
        "print(concat_columns)"
      ],
      "id": "ImFXe5bayJxv"
    },
    {
      "cell_type": "markdown",
      "metadata": {
        "id": "skcxkA14yJxw"
      },
      "source": [
        "### Assignment 6: Time Series Analysis\n",
        "\n",
        "1. Create a Pandas DataFrame with a datetime index and one column filled with random integers. Resample the DataFrame to compute the monthly mean of the values."
      ],
      "id": "skcxkA14yJxw"
    },
    {
      "cell_type": "code",
      "execution_count": null,
      "metadata": {
        "id": "AY1dxSMoyJxw"
      },
      "outputs": [],
      "source": [
        "# Create a Pandas DataFrame with a datetime index and one column filled with random integers\n",
        "date_rng = pd.date_range(start='2022-01-01', end='2022-12-31', freq='D')\n",
        "df = pd.DataFrame(date_rng, columns=['date'])\n",
        "df['data'] = np.random.randint(0, 100, size=(len(date_rng)))\n",
        "df.set_index('date', inplace=True)\n",
        "print(\"Original DataFrame:\")\n",
        "print(df)\n",
        "\n",
        "# Resample the DataFrame to compute the monthly mean of the values\n",
        "monthly_mean = df.resample('M').mean()\n",
        "print(\"Monthly mean DataFrame:\")\n",
        "print(monthly_mean)"
      ],
      "id": "AY1dxSMoyJxw"
    },
    {
      "cell_type": "markdown",
      "metadata": {
        "id": "wtxgX4ccyJxw"
      },
      "source": [
        "2. Create a Pandas DataFrame with a datetime index ranging from '2021-01-01' to '2021-12-31' and one column filled with random integers. Compute the rolling mean with a window of 7 days."
      ],
      "id": "wtxgX4ccyJxw"
    },
    {
      "cell_type": "code",
      "execution_count": null,
      "metadata": {
        "id": "dNlXyNO9yJxw"
      },
      "outputs": [],
      "source": [
        "# Create a Pandas DataFrame with a datetime index ranging from '2021-01-01' to '2021-12-31'\n",
        "date_rng = pd.date_range(start='2021-01-01', end='2021-12-31', freq='D')\n",
        "df = pd.DataFrame(date_rng, columns=['date'])\n",
        "df['data'] = np.random.randint(0, 100, size=(len(date_rng)))\n",
        "df.set_index('date', inplace=True)\n",
        "print(\"Original DataFrame:\")\n",
        "print(df)\n",
        "\n",
        "# Compute the rolling mean with a window of 7 days\n",
        "rolling_mean = df.rolling(window=7).mean()\n",
        "print(\"Rolling mean DataFrame:\")\n",
        "print(rolling_mean)"
      ],
      "id": "dNlXyNO9yJxw"
    },
    {
      "cell_type": "markdown",
      "metadata": {
        "id": "ARS6OHgTyJxx"
      },
      "source": [
        "### Assignment 7: MultiIndex DataFrame\n",
        "\n",
        "1. Create a Pandas DataFrame with a MultiIndex (hierarchical index). Perform some basic indexing and slicing operations on the MultiIndex DataFrame."
      ],
      "id": "ARS6OHgTyJxx"
    },
    {
      "cell_type": "code",
      "execution_count": null,
      "metadata": {
        "id": "mrpa1biSyJxx"
      },
      "outputs": [],
      "source": [
        "# Create a Pandas DataFrame with a MultiIndex (hierarchical index)\n",
        "arrays = [['A', 'A', 'B', 'B'], ['one', 'two', 'one', 'two']]\n",
        "index = pd.MultiIndex.from_arrays(arrays, names=('Category', 'SubCategory'))\n",
        "df = pd.DataFrame(np.random.randint(1, 100, size=(4, 3)), index=index, columns=['Value1', 'Value2', 'Value3'])\n",
        "print(\"MultiIndex DataFrame:\")\n",
        "print(df)\n",
        "\n",
        "# Basic indexing and slicing operations\n",
        "print(\"Indexing at Category 'A':\")\n",
        "print(df.loc['A'])\n",
        "\n",
        "print(\"Slicing at Category 'B' and SubCategory 'two':\")\n",
        "print(df.loc[('B', 'two')])"
      ],
      "id": "mrpa1biSyJxx"
    },
    {
      "cell_type": "markdown",
      "metadata": {
        "id": "Dfc5_k5zyJxx"
      },
      "source": [
        "2. Create a Pandas DataFrame with MultiIndex consisting of 'Category' and 'SubCategory'. Fill the DataFrame with random data and compute the sum of values for each 'Category' and 'SubCategory'."
      ],
      "id": "Dfc5_k5zyJxx"
    },
    {
      "cell_type": "code",
      "execution_count": null,
      "metadata": {
        "id": "q77k2S2YyJxx"
      },
      "outputs": [],
      "source": [
        "# Create a Pandas DataFrame with MultiIndex consisting of 'Category' and 'SubCategory'\n",
        "arrays = [['A', 'A', 'B', 'B', 'C', 'C'], ['one', 'two', 'one', 'two', 'one', 'two']]\n",
        "index = pd.MultiIndex.from_arrays(arrays, names=('Category', 'SubCategory'))\n",
        "df = pd.DataFrame(np.random.randint(1, 100, size=(6, 3)), index=index, columns=['Value1', 'Value2', 'Value3'])\n",
        "print(\"MultiIndex DataFrame:\")\n",
        "print(df)\n",
        "\n",
        "# Compute the sum of values for each 'Category' and 'SubCategory'\n",
        "sum_values = df.groupby(['Category', 'SubCategory']).sum()\n",
        "print(\"Sum of values:\")\n",
        "print(sum_values)"
      ],
      "id": "q77k2S2YyJxx"
    },
    {
      "cell_type": "markdown",
      "metadata": {
        "id": "UMp1jWcdyJxx"
      },
      "source": [
        "### Assignment 8: Pivot Tables\n",
        "\n",
        "1. Create a Pandas DataFrame with columns 'Date', 'Category', and 'Value'. Create a pivot table to compute the sum of 'Value' for each 'Category' by 'Date'."
      ],
      "id": "UMp1jWcdyJxx"
    },
    {
      "cell_type": "code",
      "execution_count": null,
      "metadata": {
        "id": "jXmEKOiqyJxy"
      },
      "outputs": [],
      "source": [
        "# Create a Pandas DataFrame with columns 'Date', 'Category', and 'Value'\n",
        "date_rng = pd.date_range(start='2022-01-01', end='2022-01-10', freq='D')\n",
        "df = pd.DataFrame({'Date': np.random.choice(date_rng, size=20), 'Category': np.random.choice(['A', 'B', 'C'], size=20), 'Value': np.random.randint(1, 100, size=20)})\n",
        "print(\"Original DataFrame:\")\n",
        "print(df)\n",
        "\n",
        "# Create a pivot table to compute the sum of 'Value' for each 'Category' by 'Date'\n",
        "pivot_table = df.pivot_table(values='Value', index='Date', columns='Category', aggfunc='sum')\n",
        "print(\"Pivot Table:\")\n",
        "print(pivot_table)"
      ],
      "id": "jXmEKOiqyJxy"
    },
    {
      "cell_type": "markdown",
      "metadata": {
        "id": "oaUHvoBhyJxy"
      },
      "source": [
        "2. Create a Pandas DataFrame with columns 'Year', 'Quarter', and 'Revenue'. Create a pivot table to compute the mean 'Revenue' for each 'Quarter' by 'Year'."
      ],
      "id": "oaUHvoBhyJxy"
    },
    {
      "cell_type": "code",
      "execution_count": null,
      "metadata": {
        "id": "JDEJIbePyJxy"
      },
      "outputs": [],
      "source": [
        "# Create a Pandas DataFrame with columns 'Year', 'Quarter', and 'Revenue'\n",
        "df = pd.DataFrame({'Year': np.random.choice([2020, 2021, 2022], size=12), 'Quarter': np.random.choice(['Q1', 'Q2', 'Q3', 'Q4'], size=12), 'Revenue': np.random.randint(1, 1000, size=12)})\n",
        "print(\"Original DataFrame:\")\n",
        "print(df)\n",
        "\n",
        "# Create a pivot table to compute the mean 'Revenue' for each 'Quarter' by 'Year'\n",
        "pivot_table = df.pivot_table(values='Revenue', index='Year', columns='Quarter', aggfunc='mean')\n",
        "print(\"Pivot Table:\")\n",
        "print(pivot_table)"
      ],
      "id": "JDEJIbePyJxy"
    },
    {
      "cell_type": "markdown",
      "metadata": {
        "id": "funnnI9JyJx0"
      },
      "source": [
        "### Assignment 9: Applying Functions\n",
        "\n",
        "1. Create a Pandas DataFrame with 3 columns and 5 rows filled with random integers. Apply a function that doubles the values of the DataFrame."
      ],
      "id": "funnnI9JyJx0"
    },
    {
      "cell_type": "code",
      "execution_count": null,
      "metadata": {
        "id": "XOG8B6hEyJx0"
      },
      "outputs": [],
      "source": [
        "# Create a Pandas DataFrame with 3 columns and 5 rows filled with random integers\n",
        "df = pd.DataFrame(np.random.randint(1, 100, size=(5, 3)), columns=['A', 'B', 'C'])\n",
        "print(\"Original DataFrame:\")\n",
        "print(df)\n",
        "\n",
        "# Apply a function that doubles the values of the DataFrame\n",
        "df_doubled = df.applymap(lambda x: x * 2)\n",
        "print(\"Doubled DataFrame:\")\n",
        "print(df_doubled)"
      ],
      "id": "XOG8B6hEyJx0"
    },
    {
      "cell_type": "markdown",
      "metadata": {
        "id": "03bdmu3zyJx0"
      },
      "source": [
        "2. Create a Pandas DataFrame with 3 columns and 6 rows filled with random integers. Apply a lambda function to create a new column that is the sum of the existing columns."
      ],
      "id": "03bdmu3zyJx0"
    },
    {
      "cell_type": "code",
      "execution_count": null,
      "metadata": {
        "id": "T23Sy-YDyJx0"
      },
      "outputs": [],
      "source": [
        "# Create a Pandas DataFrame with 3 columns and 6 rows filled with random integers\n",
        "df = pd.DataFrame(np.random.randint(1, 100, size=(6, 3)), columns=['A', 'B', 'C'])\n",
        "print(\"Original DataFrame:\")\n",
        "print(df)\n",
        "\n",
        "# Apply a lambda function to create a new column that is the sum of the existing columns\n",
        "df['Sum'] = df.apply(lambda row: row.sum(), axis=1)\n",
        "print(\"DataFrame with Sum column:\")\n",
        "print(df)"
      ],
      "id": "T23Sy-YDyJx0"
    },
    {
      "cell_type": "markdown",
      "metadata": {
        "id": "h_mgqyVQyJx1"
      },
      "source": [
        "### Assignment 10: Working with Text Data\n",
        "\n",
        "1. Create a Pandas Series with 5 random text strings. Convert all the strings to uppercase."
      ],
      "id": "h_mgqyVQyJx1"
    },
    {
      "cell_type": "code",
      "execution_count": null,
      "metadata": {
        "id": "mwRgYwbbyJx1"
      },
      "outputs": [],
      "source": [
        "# Create a Pandas Series with 5 random text strings\n",
        "text_data = pd.Series(['apple', 'banana', 'cherry', 'date', 'elderberry'])\n",
        "print(\"Original Series:\")\n",
        "print(text_data)\n",
        "\n",
        "# Convert all the strings to uppercase\n",
        "uppercase_data = text_data.str.upper()\n",
        "print(\"Uppercase Series:\")\n",
        "print(uppercase_data)"
      ],
      "id": "mwRgYwbbyJx1"
    },
    {
      "cell_type": "markdown",
      "metadata": {
        "id": "1i4qtO9gyJx2"
      },
      "source": [
        "2. Create a Pandas Series with 5 random text strings. Extract the first three characters of each string."
      ],
      "id": "1i4qtO9gyJx2"
    },
    {
      "cell_type": "code",
      "execution_count": null,
      "metadata": {
        "id": "CK3G1tdDyJx3"
      },
      "outputs": [],
      "source": [
        "# Create a Pandas Series with 5 random text strings\n",
        "text_data = pd.Series(['apple', 'banana', 'cherry', 'date', 'elderberry'])\n",
        "print(\"Original Series:\")\n",
        "print(text_data)\n",
        "\n",
        "# Extract the first three characters of each string\n",
        "first_three_chars = text_data.str[:3]\n",
        "print(\"First three characters:\")\n",
        "print(first_three_chars)"
      ],
      "id": "CK3G1tdDyJx3"
    }
  ],
  "metadata": {
    "kernelspec": {
      "display_name": "Python 3",
      "language": "python",
      "name": "python3"
    },
    "language_info": {
      "codemirror_mode": {
        "name": "ipython",
        "version": 3
      },
      "file_extension": ".py",
      "mimetype": "text/x-python",
      "name": "python",
      "nbconvert_exporter": "python",
      "pygments_lexer": "ipython3",
      "version": "3.9.7"
    },
    "colab": {
      "provenance": [],
      "include_colab_link": true
    }
  },
  "nbformat": 4,
  "nbformat_minor": 5
}