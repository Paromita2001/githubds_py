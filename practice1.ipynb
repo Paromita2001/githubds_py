{
  "nbformat": 4,
  "nbformat_minor": 0,
  "metadata": {
    "colab": {
      "provenance": [],
      "include_colab_link": true
    },
    "kernelspec": {
      "name": "python3",
      "display_name": "Python 3"
    },
    "language_info": {
      "name": "python"
    }
  },
  "cells": [
    {
      "cell_type": "markdown",
      "metadata": {
        "id": "view-in-github",
        "colab_type": "text"
      },
      "source": [
        "<a href=\"https://colab.research.google.com/github/Paromita2001/githubds_py/blob/main/practice1.ipynb\" target=\"_parent\"><img src=\"https://colab.research.google.com/assets/colab-badge.svg\" alt=\"Open In Colab\"/></a>"
      ]
    },
    {
      "cell_type": "markdown",
      "source": [
        "User will enter password which is set to be qwert\n",
        "If password matches, print Welcome to CloudyML Course!! else print Wrong Password!! and user will re-enter password\n",
        "In fourth trial, it will print One Last Trial left!!!\n"
      ],
      "metadata": {
        "id": "td-VceYqJIed"
      }
    },
    {
      "cell_type": "code",
      "execution_count": null,
      "metadata": {
        "colab": {
          "base_uri": "https://localhost:8080/"
        },
        "id": "FvrEU60SJE1P",
        "outputId": "db48f9d5-055f-4f17-db69-89f18120863e"
      },
      "outputs": [
        {
          "output_type": "stream",
          "name": "stdout",
          "text": [
            "Enter password: ww\n",
            "Wrong Password!! Try again.\n",
            "Enter password: hj\n",
            "Enter password: dd\n",
            "Wrong Password!! Try again.\n",
            "Wrong Password!! Try again.\n",
            "Enter password: dd\n",
            "One Last Trial left!!!\n"
          ]
        }
      ],
      "source": [
        "correct_password = \"qwert\"\n",
        "\n",
        "\n",
        "for attempt in range(1, 5):\n",
        "    user_input = input(\"Enter password: \")\n",
        "\n",
        "    if user_input == correct_password:\n",
        "        print(\"Welcome to CloudyML Course!!\")\n",
        "        break\n",
        "    else:\n",
        "        if attempt == 4:\n",
        "            print(\"One Last Trial left!!!\")\n",
        "            input('Enter password')\n",
        "        else:\n",
        "            print(\"Wrong Password!! Try again.\")\n",
        "\n"
      ]
    },
    {
      "cell_type": "markdown",
      "source": [
        "Enter password which is an OTP set to be 1008\n",
        "If OTP matches, It will ask user to provide details like Enter Your Name: and Enter Your City: and user will re-enter OTP\n",
        "In fourth trial, it will print One Last Trial left!!!"
      ],
      "metadata": {
        "id": "jo0HrTl638ZN"
      }
    },
    {
      "cell_type": "code",
      "source": [
        "for i in range(1, 6):\n",
        "    otp = int(input(\"Enter password: \"))\n",
        "\n",
        "    if otp == 1008:\n",
        "        name = input(\"Enter your name: \")\n",
        "        city = input(\"Enter your city: \")\n",
        "\n",
        "\n",
        "        confirm = int(input(\"Re-enter OTP to confirm: \"))\n",
        "        if confirm == 1008:\n",
        "            print(f\"Welcome, {name} from {city}!\")\n",
        "        else:\n",
        "            print(\"OTP mismatch during confirmation.\")\n",
        "        break\n",
        "    else:\n",
        "        if i == 4:\n",
        "            print(\"One Last Trial left!!!\")\n",
        "        elif i == 5:\n",
        "            print(\"Wrong Password!! Access Denied.\")\n",
        "        else:\n",
        "            print(\"Wrong Password!! Try again.\")\n"
      ],
      "metadata": {
        "id": "lNY_oQb-TXzy",
        "colab": {
          "base_uri": "https://localhost:8080/"
        },
        "outputId": "d3b5d7da-e4f2-4e10-8fcd-d5a7a8960f96"
      },
      "execution_count": null,
      "outputs": [
        {
          "output_type": "stream",
          "name": "stdout",
          "text": [
            "Enter password: 111\n",
            "Wrong Password!! Try again.\n",
            "Enter password: 222\n",
            "Wrong Password!! Try again.\n",
            "Enter password: 444\n",
            "Wrong Password!! Try again.\n",
            "Enter password: 888\n",
            "One Last Trial left!!!\n",
            "Enter password: 1008\n",
            "Enter your name: paro\n",
            "Enter your city: jsg\n",
            "Re-enter OTP to confirm: 1008\n",
            "Welcome, paro from jsg!\n"
          ]
        }
      ]
    },
    {
      "cell_type": "code",
      "source": [
        "#Find out Who scored highest marks in Python? ###\n",
        "#student marks nested list\n",
        "stu = [['Name',['Statistics','Python','SQL','ML','DeepLearning']],\n",
        "                 ['Ananya',[41, 34, 45, 55, 63]],\n",
        "                 ['Akash',[42, 23, 34, 44, 53]],\n",
        "                 ['Rahul',[32, 23, 13, 54, 67]],\n",
        "                 ['Gyan',[23, 82, 23, 63, 34]],\n",
        "                 ['Pranav',[21, 23, 25, 56, 56]] ]\n",
        "python_scores = []\n",
        "\n",
        "for student in stu[1:]:\n",
        "    name = student[0]\n",
        "    python_mark = student[1][1]\n",
        "    python_scores.append([name, python_mark])\n",
        "\n",
        "sorted_python = sorted(python_scores, key=lambda x: x[1], reverse=True)\n",
        "\n",
        "\n",
        "topper = sorted_python[0]\n",
        "\n",
        "print(f\"{topper[0]} scored the highest in Python with {topper[1]} marks.\")"
      ],
      "metadata": {
        "colab": {
          "base_uri": "https://localhost:8080/"
        },
        "id": "wR9C4x0uDVl7",
        "outputId": "887a6d4c-a688-4aaf-c1dd-18914ca95122"
      },
      "execution_count": 25,
      "outputs": [
        {
          "output_type": "stream",
          "name": "stdout",
          "text": [
            "Gyan scored the highest in Python with 82 marks.\n"
          ]
        }
      ]
    },
    {
      "cell_type": "code",
      "source": [
        "# If considered only top-4 subjects of a candidate, then who scored the highest percentage of marks?\n",
        "stu = [['Name', ['Statistics', 'Python', 'SQL', 'ML', 'DeepLearning']],\n",
        "       ['Ananya', [41, 34, 45, 55, 63]],\n",
        "       ['Akash', [42, 23, 34, 44, 53]],\n",
        "       ['Rahul', [32, 23, 13, 54, 67]],\n",
        "       ['Gyan', [23, 82, 23, 63, 34]],\n",
        "       ['Pranav', [21, 23, 25, 56, 56]]]\n",
        "\n",
        "topper_name = \"\"\n",
        "top_percentage = 0\n",
        "\n",
        "for student in stu[1:]:\n",
        "    name = student[0]\n",
        "    marks = student[1]\n",
        "\n",
        "    top4 = sorted(marks, reverse=True)[:4]\n",
        "\n",
        "    total = sum(top4)\n",
        "    percentage = total / (4 * 100) * 100\n",
        "\n",
        "    if percentage > top_percentage:\n",
        "        top_percentage = percentage\n",
        "        topper_name = name\n",
        "\n",
        "print(f\"{topper_name} scored the highest percentage ({top_percentage:.2f}%) considering top 4 subjects.\")\n",
        "\n"
      ],
      "metadata": {
        "id": "apw941jYDeor",
        "colab": {
          "base_uri": "https://localhost:8080/"
        },
        "outputId": "8b5b5d51-3acb-4d9e-888f-61b08811d164"
      },
      "execution_count": 26,
      "outputs": [
        {
          "output_type": "stream",
          "name": "stdout",
          "text": [
            "Ananya scored the highest percentage (51.00%) considering top 4 subjects.\n"
          ]
        }
      ]
    },
    {
      "cell_type": "code",
      "source": [
        "#Count the number of vowels in a given string using a loop.\n",
        "sent='this is a flower'\n",
        "vow='AEIOUaeiou'\n",
        "c=0\n",
        "for i in sent:\n",
        "  for j in vow:\n",
        "    if i==j:\n",
        "      c+=1\n",
        "print(c)"
      ],
      "metadata": {
        "colab": {
          "base_uri": "https://localhost:8080/"
        },
        "id": "gGDG4XJKDrFX",
        "outputId": "0302ad27-cff6-4abf-9062-5f9b898d4bee"
      },
      "execution_count": null,
      "outputs": [
        {
          "output_type": "stream",
          "name": "stdout",
          "text": [
            "5\n"
          ]
        }
      ]
    },
    {
      "cell_type": "code",
      "source": [
        "#Reverse a string using a for loop (without using slicing)\n",
        "sent='this is a flower'\n",
        "rev=''\n",
        "for i in sent:\n",
        "  rev=i+rev\n",
        "print(rev)"
      ],
      "metadata": {
        "colab": {
          "base_uri": "https://localhost:8080/"
        },
        "id": "fPwU_NPyDvF9",
        "outputId": "abce800b-29c1-49b4-e4ac-c8c32e276db4"
      },
      "execution_count": null,
      "outputs": [
        {
          "output_type": "stream",
          "name": "stdout",
          "text": [
            "rewolf a si siht\n"
          ]
        }
      ]
    },
    {
      "cell_type": "code",
      "source": [
        "#Print the factorial of a number using a while loop.\n",
        "num=5\n",
        "n=0\n",
        "fact=1\n",
        "while n<num:\n",
        "  fact=fact*(n+1)\n",
        "  n+=1\n",
        "print(fact)"
      ],
      "metadata": {
        "colab": {
          "base_uri": "https://localhost:8080/"
        },
        "id": "zB6VNowdDzNr",
        "outputId": "5d03f153-b91c-4062-dfa3-8754807b6a5e"
      },
      "execution_count": null,
      "outputs": [
        {
          "output_type": "stream",
          "name": "stdout",
          "text": [
            "120\n"
          ]
        }
      ]
    },
    {
      "cell_type": "code",
      "source": [
        "n=5\n",
        "for i in range (n+1):\n",
        "  fact=1\n",
        "  for j in range(1,i+1):\n",
        "    fact=fact*j\n",
        "print(fact)\n"
      ],
      "metadata": {
        "colab": {
          "base_uri": "https://localhost:8080/"
        },
        "id": "Es5-iRY6HOag",
        "outputId": "35e3a613-9b2a-4a3e-8790-51551c445c2d"
      },
      "execution_count": null,
      "outputs": [
        {
          "output_type": "stream",
          "name": "stdout",
          "text": [
            "120\n"
          ]
        }
      ]
    },
    {
      "cell_type": "code",
      "source": [
        "#Write a program to print the Fibonacci series up to n terms.\n",
        "a=0\n",
        "b=1\n",
        "for i in range(10):\n",
        "  print(a)\n",
        "  a,b=b,a+b"
      ],
      "metadata": {
        "colab": {
          "base_uri": "https://localhost:8080/"
        },
        "id": "aD5RoQqADzV4",
        "outputId": "4bde7a0f-bfbe-452d-8e4f-387ecb516755"
      },
      "execution_count": null,
      "outputs": [
        {
          "output_type": "stream",
          "name": "stdout",
          "text": [
            "0\n",
            "1\n",
            "1\n",
            "2\n",
            "3\n",
            "5\n",
            "8\n",
            "13\n",
            "21\n",
            "34\n"
          ]
        }
      ]
    },
    {
      "cell_type": "code",
      "source": [
        "#Find the sum of all elements in a list using a for loop.\n",
        "l=[2,1,7,8,5,4,2,3]\n",
        "sum=0\n",
        "for i in l:\n",
        "  sum+=i\n",
        "print(sum)\n"
      ],
      "metadata": {
        "colab": {
          "base_uri": "https://localhost:8080/"
        },
        "id": "IcJ9Y13rDzYr",
        "outputId": "69444689-83cf-4f51-d9d3-26fdccc3a72b"
      },
      "execution_count": null,
      "outputs": [
        {
          "output_type": "stream",
          "name": "stdout",
          "text": [
            "32\n"
          ]
        }
      ]
    },
    {
      "cell_type": "code",
      "source": [
        "#Find the maximum number in a list using a loop.\n",
        "l=[2,1,7,8,5,4,2,3]\n",
        "max=l[0]\n",
        "for i in l:\n",
        "  if i>max:\n",
        "    max=i\n",
        "print(max)\n"
      ],
      "metadata": {
        "colab": {
          "base_uri": "https://localhost:8080/"
        },
        "id": "s72ojGL4Dza2",
        "outputId": "9e69bdb2-1df4-48a8-898e-5255aadb0e5d"
      },
      "execution_count": null,
      "outputs": [
        {
          "output_type": "stream",
          "name": "stdout",
          "text": [
            "8\n"
          ]
        }
      ]
    },
    {
      "cell_type": "code",
      "source": [
        "#Print a pattern of numbers in reverse order (from 5 to 1) using a loop.\n",
        "rev=''\n",
        "for i in range(1,6):\n",
        "  rev=str(i)+rev\n",
        "print(rev)\n",
        "\n",
        "\n",
        "\n"
      ],
      "metadata": {
        "colab": {
          "base_uri": "https://localhost:8080/"
        },
        "id": "TnKvdM1LDzdP",
        "outputId": "177f8a90-1329-41ce-e2b7-83acd001595a"
      },
      "execution_count": null,
      "outputs": [
        {
          "output_type": "stream",
          "name": "stdout",
          "text": [
            "54321\n"
          ]
        }
      ]
    },
    {
      "cell_type": "code",
      "source": [
        "\n",
        "pal=323\n",
        "rev=''\n",
        "for i in str(pal):\n",
        "  rev= i+rev\n",
        "if pal==int(rev):\n",
        "    print('Palindrome')\n",
        "else:\n",
        "    print('Not Palindrome')\n"
      ],
      "metadata": {
        "colab": {
          "base_uri": "https://localhost:8080/"
        },
        "id": "d2K0jAWxDzfh",
        "outputId": "d57c84dd-3900-4dc9-f2a0-7ecfbbecf82f"
      },
      "execution_count": null,
      "outputs": [
        {
          "output_type": "stream",
          "name": "stdout",
          "text": [
            "Palindrome\n"
          ]
        }
      ]
    },
    {
      "cell_type": "code",
      "source": [
        "#Write a program to print all Armstrong numbers between 1 and 500.\n",
        "\n",
        "for i in range(1,500):\n",
        "  sum=0\n",
        "  for j in str(i):\n",
        "    sum+=int(j)**3\n",
        "  if sum==i:\n",
        "      print(i)\n",
        "\n"
      ],
      "metadata": {
        "colab": {
          "base_uri": "https://localhost:8080/"
        },
        "id": "M1epeAseDzhh",
        "outputId": "c1617f02-af65-4093-d70b-76861801602e"
      },
      "execution_count": null,
      "outputs": [
        {
          "output_type": "stream",
          "name": "stdout",
          "text": [
            "1\n",
            "153\n",
            "370\n",
            "371\n",
            "407\n"
          ]
        }
      ]
    },
    {
      "cell_type": "code",
      "source": [
        "for i in range (3,0,-1):\n",
        "  for j in range(1,i+1):\n",
        "    print(j,end='')\n",
        "  print()"
      ],
      "metadata": {
        "colab": {
          "base_uri": "https://localhost:8080/"
        },
        "id": "pjvCtaEWjTZV",
        "outputId": "ca83279c-a3d6-44fb-9cf0-3b8b41628adc"
      },
      "execution_count": null,
      "outputs": [
        {
          "output_type": "stream",
          "name": "stdout",
          "text": [
            "123\n",
            "12\n",
            "1\n"
          ]
        }
      ]
    },
    {
      "cell_type": "code",
      "source": [
        "for i in range (3,0,-1):\n",
        "  for j in range(1,i+1):\n",
        "    print(i,end='')\n",
        "  print()"
      ],
      "metadata": {
        "colab": {
          "base_uri": "https://localhost:8080/"
        },
        "id": "9qrBC1ByjTns",
        "outputId": "6446b62d-7b4e-43a2-e4de-4674db782486"
      },
      "execution_count": null,
      "outputs": [
        {
          "output_type": "stream",
          "name": "stdout",
          "text": [
            "333\n",
            "22\n",
            "1\n"
          ]
        }
      ]
    },
    {
      "cell_type": "code",
      "source": [
        "n=3\n",
        "for i in range (1,n+1):\n",
        "  for j in range(n-i+1):\n",
        "    print(i,end='')\n",
        "  print()"
      ],
      "metadata": {
        "colab": {
          "base_uri": "https://localhost:8080/"
        },
        "id": "LDEzoDsJjTrO",
        "outputId": "f91fe914-969d-4115-8c61-3b1b266126db"
      },
      "execution_count": null,
      "outputs": [
        {
          "output_type": "stream",
          "name": "stdout",
          "text": [
            "111\n",
            "22\n",
            "3\n"
          ]
        }
      ]
    }
  ]
}