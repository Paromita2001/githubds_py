{
  "cells": [
    {
      "cell_type": "markdown",
      "metadata": {
        "id": "view-in-github",
        "colab_type": "text"
      },
      "source": [
        "<a href=\"https://colab.research.google.com/github/Paromita2001/githubds_py/blob/main/sets_assignment.ipynb\" target=\"_parent\"><img src=\"https://colab.research.google.com/assets/colab-badge.svg\" alt=\"Open In Colab\"/></a>"
      ]
    },
    {
      "cell_type": "markdown",
      "metadata": {
        "id": "kXEu4KK-BNas"
      },
      "source": [
        "#Data Structures Assignments\n",
        "##Sets"
      ],
      "id": "kXEu4KK-BNas"
    },
    {
      "cell_type": "code",
      "execution_count": 9,
      "metadata": {
        "colab": {
          "base_uri": "https://localhost:8080/"
        },
        "id": "6exYBE0LBNav",
        "outputId": "ab403dee-2c84-40c7-b721-c300a4c6b643"
      },
      "outputs": [
        {
          "output_type": "stream",
          "name": "stdout",
          "text": [
            "{1, 2, 3, 4, 5, 6, 7, 8, 9, 10}\n"
          ]
        }
      ],
      "source": [
        "#Assignment 1: Creating and Accessing Sets\n",
        "#Create a set with the first 10 positive integers. Print the set.\n",
        "set_1={1,2,3,4,5,6,7,8,9,10}\n",
        "print(set_1)"
      ],
      "id": "6exYBE0LBNav"
    },
    {
      "cell_type": "code",
      "source": [
        "#Assignment 2: Adding and Removing Elements\n",
        "#Add the number 11 to the set created in Assignment 1. Then remove the number 1 from the set. Print the modified set.\n",
        "set_1.add(11)\n",
        "set_1.remove(1)\n",
        "print(set_1)"
      ],
      "metadata": {
        "colab": {
          "base_uri": "https://localhost:8080/"
        },
        "id": "9MsXpRCcXLFs",
        "outputId": "4d7887c9-3871-4450-fd89-3d38b70b191c"
      },
      "id": "9MsXpRCcXLFs",
      "execution_count": 10,
      "outputs": [
        {
          "output_type": "stream",
          "name": "stdout",
          "text": [
            "{2, 3, 4, 5, 6, 7, 8, 9, 10, 11}\n"
          ]
        }
      ]
    },
    {
      "cell_type": "code",
      "source": [
        "#Assignment 3: Set Operations\n",
        "#Create two sets: one with the first 5 positive integers and another with the first 5 even integers. Perform and print the results of union, intersection, difference,\n",
        "#and symmetric difference operations on these sets.\n",
        "set1={1,2,3,4,5}\n",
        "set2={2,4,6,8,10}\n",
        "print(set1.union(set2))\n",
        "print(set1.intersection(set2))\n",
        "print(set1.difference(set2))\n",
        "print(set1.symmetric_difference(set2))"
      ],
      "metadata": {
        "colab": {
          "base_uri": "https://localhost:8080/"
        },
        "id": "6KagMLmlXLQ3",
        "outputId": "56e2c0bd-f5aa-4aa0-96e9-d5d910bb22c8"
      },
      "id": "6KagMLmlXLQ3",
      "execution_count": 3,
      "outputs": [
        {
          "output_type": "stream",
          "name": "stdout",
          "text": [
            "{1, 2, 3, 4, 5, 6, 8, 10}\n",
            "{2, 4}\n",
            "{1, 3, 5}\n",
            "{1, 3, 5, 6, 8, 10}\n"
          ]
        }
      ]
    },
    {
      "cell_type": "code",
      "source": [
        "#Assignment 4: Set Comprehensions\n",
        "#Create a new set containing the squares of the first 10 positive integers using a set comprehension. Print the new set.\n",
        "set_=(i**2 for i in range(1,11))\n",
        "print(set(set_))\n"
      ],
      "metadata": {
        "colab": {
          "base_uri": "https://localhost:8080/"
        },
        "id": "lZuG4xbiXLUx",
        "outputId": "1874e3df-bea7-415c-84df-5866cb5028ba"
      },
      "id": "lZuG4xbiXLUx",
      "execution_count": 8,
      "outputs": [
        {
          "output_type": "stream",
          "name": "stdout",
          "text": [
            "{64, 1, 4, 36, 100, 9, 16, 49, 81, 25}\n"
          ]
        }
      ]
    },
    {
      "cell_type": "code",
      "source": [
        "#Assignment 5: Filtering Sets\n",
        "#Create a new set containing only the even numbers from the set created in Assignment 1 using a set comprehension. Print the new set.\n",
        "\n",
        "set_1={i for i in set1 if i%2==0}\n",
        "print(set_1)"
      ],
      "metadata": {
        "colab": {
          "base_uri": "https://localhost:8080/"
        },
        "id": "W1r6XjbeXLYa",
        "outputId": "29b82f26-bac1-4650-d2a8-8f91ff7b1862"
      },
      "id": "W1r6XjbeXLYa",
      "execution_count": 11,
      "outputs": [
        {
          "output_type": "stream",
          "name": "stdout",
          "text": [
            "{2, 4}\n"
          ]
        }
      ]
    },
    {
      "cell_type": "code",
      "source": [
        "#Assignment 6: Set Methods\n",
        "#Create a set with duplicate elements and remove the duplicates using set methods. Print the modified set.\n",
        "set_3={1,2,3,4,5,1,2,3,4,5}\n",
        "set_3=set(set_3)\n",
        "print(set_3)\n"
      ],
      "metadata": {
        "colab": {
          "base_uri": "https://localhost:8080/"
        },
        "id": "Fl-CJm4TXLcA",
        "outputId": "a2a927f8-6e9c-4556-e8da-0df1a2a12608"
      },
      "id": "Fl-CJm4TXLcA",
      "execution_count": 12,
      "outputs": [
        {
          "output_type": "stream",
          "name": "stdout",
          "text": [
            "{1, 2, 3, 4, 5}\n"
          ]
        }
      ]
    },
    {
      "cell_type": "code",
      "source": [
        "#Assignment 7: Subsets and Supersets\n",
        "#Create two sets: one with the first 5 positive integers and another with the first 3 positive integers.\n",
        "#Check if the second set is a subset of the first set and if the first set is a superset of the second set. Print the results.\n",
        "set_1={1,2,3,4,5}\n",
        "set_2={1,2,3}\n",
        "if set_2.issubset(set_1):\n",
        "  print(\"set2 is a subset of set1\")\n",
        "else:\n",
        "  print(\"set2 is not a subset of set1\")"
      ],
      "metadata": {
        "colab": {
          "base_uri": "https://localhost:8080/"
        },
        "id": "EaS2laSNXLfr",
        "outputId": "442772a3-4103-4a18-9354-d04afd123f62"
      },
      "id": "EaS2laSNXLfr",
      "execution_count": 18,
      "outputs": [
        {
          "output_type": "stream",
          "name": "stdout",
          "text": [
            "set2 is a subset of set1\n"
          ]
        }
      ]
    },
    {
      "cell_type": "code",
      "source": [
        "#Assignment 8: Frozenset\n",
        "#Create a frozenset with the first 5 positive integers. Print the frozenset.\n",
        "set_1={1,2,3,4,5}\n",
        "set_1=frozenset(set_1)\n",
        "print(set_1)\n"
      ],
      "metadata": {
        "colab": {
          "base_uri": "https://localhost:8080/"
        },
        "id": "0DgCbDh8XLjr",
        "outputId": "fff3ae58-bd12-4313-e03f-03e3d9e7e1f5"
      },
      "id": "0DgCbDh8XLjr",
      "execution_count": 19,
      "outputs": [
        {
          "output_type": "stream",
          "name": "stdout",
          "text": [
            "frozenset({1, 2, 3, 4, 5})\n"
          ]
        }
      ]
    },
    {
      "cell_type": "code",
      "source": [
        "#Assignment 9: Set and List Conversion\n",
        "#Create a set with the first 5 positive integers. Convert it to a list, append the number 6, and convert it back to a set. Print the resulting set.\n",
        "set_1={1,2,3,4,5}\n",
        "list_1=list(set_1)\n",
        "list_1.append(6)\n",
        "set_1=set(list_1)\n",
        "print(set_1)\n"
      ],
      "metadata": {
        "id": "ioCded3ZXLna"
      },
      "id": "ioCded3ZXLna",
      "execution_count": null,
      "outputs": []
    },
    {
      "cell_type": "code",
      "source": [
        "#Assignment 10: Set and Dictionary\n",
        "#Create a dictionary with set keys and integer values. Print the dictionary.\n",
        "dict_1={1:set1,2:set2}\n",
        "print(dict_1)"
      ],
      "metadata": {
        "colab": {
          "base_uri": "https://localhost:8080/"
        },
        "id": "4nUlRZkHXLq5",
        "outputId": "640f4689-687d-4eba-e1b7-b0ab570915f6"
      },
      "id": "4nUlRZkHXLq5",
      "execution_count": 21,
      "outputs": [
        {
          "output_type": "stream",
          "name": "stdout",
          "text": [
            "{1: {1, 2, 3, 4, 5}, 2: {2, 4, 6, 8, 10}}\n"
          ]
        }
      ]
    },
    {
      "cell_type": "code",
      "source": [
        "#Assignment 11: Iterating Over Sets\n",
        "#Create a set and iterate over the elements, printing each element.\n",
        "set_1={1,2,3,4,5}\n",
        "for i in set_1:\n",
        "  print(i)"
      ],
      "metadata": {
        "colab": {
          "base_uri": "https://localhost:8080/"
        },
        "id": "gZFVklDBXLuf",
        "outputId": "69930a2d-e1d8-4796-b0b0-c6acfa37d4c9"
      },
      "id": "gZFVklDBXLuf",
      "execution_count": 22,
      "outputs": [
        {
          "output_type": "stream",
          "name": "stdout",
          "text": [
            "1\n",
            "2\n",
            "3\n",
            "4\n",
            "5\n"
          ]
        }
      ]
    },
    {
      "cell_type": "code",
      "source": [
        "#Assignment 12: Removing Elements from Sets\n",
        "#Create a set and remove elements from it until it is empty. Print the set after each removal.\n",
        "for i in list(set_1):\n",
        "  set_1.remove(i)\n",
        "print(set_1)\n"
      ],
      "metadata": {
        "colab": {
          "base_uri": "https://localhost:8080/"
        },
        "id": "ZWz10cmNXLyJ",
        "outputId": "aaee8d07-44a4-4d53-d0fa-a8cb6e338a84"
      },
      "id": "ZWz10cmNXLyJ",
      "execution_count": 26,
      "outputs": [
        {
          "output_type": "stream",
          "name": "stdout",
          "text": [
            "set()\n"
          ]
        }
      ]
    },
    {
      "cell_type": "code",
      "source": [
        "#Assignment 13: Set Symmetric Difference Update\n",
        "#Create two sets and update the first set with the symmetric difference of the two sets. Print the modified first set.\n",
        "set1={1,2,3,4,5}\n",
        "set2={2,4,6,8,10}\n",
        "set1.symmetric_difference_update(set2)\n",
        "print(set1)\n"
      ],
      "metadata": {
        "colab": {
          "base_uri": "https://localhost:8080/"
        },
        "id": "FUz0hu18XL14",
        "outputId": "a73bd104-e654-455c-9da4-dca46c52c35c"
      },
      "id": "FUz0hu18XL14",
      "execution_count": 27,
      "outputs": [
        {
          "output_type": "stream",
          "name": "stdout",
          "text": [
            "{1, 3, 5, 6, 8, 10}\n"
          ]
        }
      ]
    },
    {
      "cell_type": "code",
      "source": [
        "#Assignment 14: Set Membership Testing\n",
        "#Create a set and test if certain elements are present in the set. Print the results.\n",
        "\n",
        "set_1={1,2,3,4,5}\n",
        "print(1 in set_1)\n",
        "print(6 in set_1)"
      ],
      "metadata": {
        "colab": {
          "base_uri": "https://localhost:8080/"
        },
        "id": "55HqQ-qbXL5u",
        "outputId": "00e08c37-127a-43d9-a4f1-beec9d7ded09"
      },
      "id": "55HqQ-qbXL5u",
      "execution_count": 28,
      "outputs": [
        {
          "output_type": "stream",
          "name": "stdout",
          "text": [
            "True\n",
            "False\n"
          ]
        }
      ]
    },
    {
      "cell_type": "code",
      "source": [
        "#Assignment 15: Set of Tuples\n",
        "#Create a set containing tuples, where each tuple contains two elements. Print the set.\n",
        "\n",
        "mix_set={(1,2),(3,4),(5,6)}\n",
        "print(mix_set)"
      ],
      "metadata": {
        "colab": {
          "base_uri": "https://localhost:8080/"
        },
        "id": "PA5pZuwUXL9T",
        "outputId": "3c1795d3-8dee-48a8-88ad-81de30f693de"
      },
      "id": "PA5pZuwUXL9T",
      "execution_count": 29,
      "outputs": [
        {
          "output_type": "stream",
          "name": "stdout",
          "text": [
            "{(1, 2), (3, 4), (5, 6)}\n"
          ]
        }
      ]
    },
    {
      "cell_type": "code",
      "source": [],
      "metadata": {
        "id": "KIyG4ABBXMD2"
      },
      "id": "KIyG4ABBXMD2",
      "execution_count": null,
      "outputs": []
    }
  ],
  "metadata": {
    "kernelspec": {
      "display_name": "Python 3",
      "language": "python",
      "name": "python3"
    },
    "language_info": {
      "codemirror_mode": {
        "name": "ipython",
        "version": 3
      },
      "file_extension": ".py",
      "mimetype": "text/x-python",
      "name": "python",
      "nbconvert_exporter": "python",
      "pygments_lexer": "ipython3",
      "version": "3.9.7"
    },
    "colab": {
      "provenance": [],
      "include_colab_link": true
    }
  },
  "nbformat": 4,
  "nbformat_minor": 5
}