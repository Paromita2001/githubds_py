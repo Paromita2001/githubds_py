{
  "cells": [
    {
      "cell_type": "markdown",
      "metadata": {
        "id": "view-in-github",
        "colab_type": "text"
      },
      "source": [
        "<a href=\"https://colab.research.google.com/github/Paromita2001/githubds_py/blob/main/tuple_assignment.ipynb\" target=\"_parent\"><img src=\"https://colab.research.google.com/assets/colab-badge.svg\" alt=\"Open In Colab\"/></a>"
      ]
    },
    {
      "cell_type": "markdown",
      "id": "6cade624",
      "metadata": {
        "id": "6cade624"
      },
      "source": [
        "# Module 3: Data Structures Assignments\n",
        "## Lesson Tuples\n",
        "### Assignment 1: Creating and Accessing Tuples\n",
        "\n",
        "Create a tuple with the first 10 positive integers. Print the tuple.\n",
        "\n",
        "### Assignment 2: Accessing Tuple Elements\n",
        "\n",
        "Print the first, middle, and last elements of the tuple created in Assignment 1.\n",
        "\n",
        "### Assignment 3: Tuple Slicing\n",
        "\n",
        "Print the first three elements, the last three elements, and the elements from index 2 to 5 of the tuple created in Assignment 1.\n",
        "\n",
        "### Assignment 4: Nested Tuples\n",
        "\n",
        "Create a nested tuple representing a 3x3 matrix and print the matrix. Access and print the element at the second row and third column.\n",
        "\n",
        "### Assignment 5: Tuple Concatenation\n",
        "\n",
        "Concatenate two tuples: (1, 2, 3) and (4, 5, 6). Print the resulting tuple.\n",
        "\n",
        "### Assignment 6: Tuple Methods\n",
        "\n",
        "Create a tuple with duplicate elements and count the occurrences of an element. Find the index of the first occurrence of an element in the tuple.\n",
        "\n",
        "### Assignment 7: Unpacking Tuples\n",
        "\n",
        "Create a tuple with 5 elements and unpack it into 5 variables. Print the variables.\n",
        "\n",
        "### Assignment 8: Tuple Conversion\n",
        "\n",
        "Convert a list of the first 5 positive integers to a tuple. Print the tuple.\n",
        "\n",
        "### Assignment 9: Tuple of Tuples\n",
        "\n",
        "Create a tuple containing 3 tuples, each with 3 elements. Print the tuple of tuples.\n",
        "\n",
        "### Assignment 10: Tuple and List\n",
        "\n",
        "Create a tuple with the first 5 positive integers. Convert it to a list, append the number 6, and convert it back to a tuple. Print the resulting tuple.\n",
        "\n",
        "### Assignment 11: Tuple and String\n",
        "\n",
        "Create a tuple with the characters of a string. Join the tuple elements into a single string. Print the string.\n",
        "\n",
        "### Assignment 12: Tuple and Dictionary\n",
        "\n",
        "Create a dictionary with tuple keys and integer values. Print the dictionary.\n",
        "\n",
        "### Assignment 13: Nested Tuple Iteration\n",
        "\n",
        "Create a nested tuple and iterate over the elements, printing each element.\n",
        "\n",
        "### Assignment 14: Tuple and Set\n",
        "\n",
        "Create a tuple with duplicate elements. Convert it to a set to remove duplicates and print the resulting set.\n",
        "\n",
        "### Assignment 15: Tuple Functions\n",
        "\n",
        "Write functions that take a tuple and return the minimum, maximum, and sum of the elements. Print the results for a sample tuple."
      ]
    },
    {
      "cell_type": "code",
      "execution_count": 1,
      "metadata": {
        "colab": {
          "base_uri": "https://localhost:8080/"
        },
        "id": "zAv4ZqZHegKy",
        "outputId": "6b9d25da-c3ea-4a1a-878c-0ed107438038"
      },
      "outputs": [
        {
          "output_type": "stream",
          "name": "stdout",
          "text": [
            "(1, 2, 3, 4, 5, 6, 7, 8, 9, 10)\n"
          ]
        }
      ],
      "source": [
        "#Assignment 1: Creating and Accessing Tuples\n",
        "#Create a tuple with the first 10 positive integers. Print the tuple.\n",
        "tup=(1,2,3,4,5,6,7,8,9,10)\n",
        "print(tup)"
      ],
      "id": "zAv4ZqZHegKy"
    },
    {
      "cell_type": "code",
      "source": [
        "#Assignment 2: Accessing Tuple Elements\n",
        "#Print the first, middle, and last elements of the tuple created in Assignment 1.\n",
        "print(tup[0])\n",
        "print(tup[4])\n",
        "print(tup[9])\n"
      ],
      "metadata": {
        "colab": {
          "base_uri": "https://localhost:8080/"
        },
        "id": "E9REFju0ewaL",
        "outputId": "d7bbbe23-09c7-48ba-9ef5-dabfd96f0126"
      },
      "id": "E9REFju0ewaL",
      "execution_count": 2,
      "outputs": [
        {
          "output_type": "stream",
          "name": "stdout",
          "text": [
            "1\n",
            "5\n",
            "10\n"
          ]
        }
      ]
    },
    {
      "cell_type": "code",
      "source": [
        "#Assignment 3: Tuple Slicing\n",
        "#Print the first three elements, the last three elements, and the elements from index 2 to 5 of the tuple created in Assignment 1.\n",
        "\n",
        "print(tup[0:3])\n",
        "print(tup[7:10])\n",
        "print(tup[2:6])"
      ],
      "metadata": {
        "colab": {
          "base_uri": "https://localhost:8080/"
        },
        "id": "3SgfJIM_ewyE",
        "outputId": "b996c738-2568-467a-e0cb-1a9fe9226c2e"
      },
      "id": "3SgfJIM_ewyE",
      "execution_count": 3,
      "outputs": [
        {
          "output_type": "stream",
          "name": "stdout",
          "text": [
            "(1, 2, 3)\n",
            "(8, 9, 10)\n",
            "(3, 4, 5, 6)\n"
          ]
        }
      ]
    },
    {
      "cell_type": "code",
      "source": [
        "#Assignment 4: Nested Tuples\n",
        "#Create a nested tuple representing a 3x3 matrix and print the matrix. Access and print the element at the second row and third column.\n",
        "tup_mat=((1,2,3),(4,5,6),(7,8,9))\n",
        "print(tup_mat)\n",
        "print(tup_mat[1][2])\n"
      ],
      "metadata": {
        "colab": {
          "base_uri": "https://localhost:8080/"
        },
        "id": "1y9bd50Lew4Y",
        "outputId": "793dea00-672a-4d8f-d929-e62dceee3939"
      },
      "id": "1y9bd50Lew4Y",
      "execution_count": 4,
      "outputs": [
        {
          "output_type": "stream",
          "name": "stdout",
          "text": [
            "((1, 2, 3), (4, 5, 6), (7, 8, 9))\n",
            "6\n"
          ]
        }
      ]
    },
    {
      "cell_type": "code",
      "source": [
        "#Assignment 5: Tuple Concatenation\n",
        "#Concatenate two tuples: (1, 2, 3) and (4, 5, 6). Print the resulting tuple.\n",
        "tup1=(1,2,3)\n",
        "tup2=(4,5,6)\n",
        "tup3=tup1+tup2\n",
        "print(tup3)\n"
      ],
      "metadata": {
        "colab": {
          "base_uri": "https://localhost:8080/"
        },
        "id": "Ndgl4W13ew8Y",
        "outputId": "9574f880-0649-475e-ed0a-d37df5d61350"
      },
      "id": "Ndgl4W13ew8Y",
      "execution_count": 5,
      "outputs": [
        {
          "output_type": "stream",
          "name": "stdout",
          "text": [
            "(1, 2, 3, 4, 5, 6)\n"
          ]
        }
      ]
    },
    {
      "cell_type": "code",
      "source": [
        "#Assignment 6: Tuple Methods\n",
        "#Create a tuple with duplicate elements and count the occurrences of an element. Find the index of the first occurrence of an element in the tuple.\n",
        "dup_tup=(1,1,4,8,5,2,1,3,7)\n",
        "print(dup_tup.count(1))\n",
        "print(dup_tup.index(1))\n"
      ],
      "metadata": {
        "colab": {
          "base_uri": "https://localhost:8080/"
        },
        "id": "P-ukSuIxew__",
        "outputId": "4da156ae-1eb1-485d-9c5a-6d6b5accb4bf"
      },
      "id": "P-ukSuIxew__",
      "execution_count": 7,
      "outputs": [
        {
          "output_type": "stream",
          "name": "stdout",
          "text": [
            "3\n",
            "0\n"
          ]
        }
      ]
    },
    {
      "cell_type": "code",
      "source": [
        "#Assignment 7: Unpacking Tuples\n",
        "#Create a tuple with 5 elements and unpack it into 5 variables. Print the variables.\n",
        "t=(1,2,3,4,5)\n",
        "a,b,c,d,e=t\n",
        "print(a)\n",
        "print(b)\n",
        "print(c)\n",
        "print(d)"
      ],
      "metadata": {
        "colab": {
          "base_uri": "https://localhost:8080/"
        },
        "id": "Hot_WWfDexDc",
        "outputId": "f77beef7-45de-4820-e23d-c8fe34dda66f"
      },
      "id": "Hot_WWfDexDc",
      "execution_count": 9,
      "outputs": [
        {
          "output_type": "stream",
          "name": "stdout",
          "text": [
            "1\n",
            "2\n",
            "3\n",
            "4\n"
          ]
        }
      ]
    },
    {
      "cell_type": "code",
      "source": [
        "#Assignment 8: Tuple Conversion\n",
        "#Convert a list of the first 5 positive integers to a tuple. Print the tuple.\n",
        "list1=[1,2,3,4,5]\n",
        "tup=tuple(list1)\n",
        "print(tup)\n"
      ],
      "metadata": {
        "colab": {
          "base_uri": "https://localhost:8080/"
        },
        "id": "LhbTZ5aBexHF",
        "outputId": "2eca57cb-89ca-4e10-c1d4-b9b9ebd65734"
      },
      "id": "LhbTZ5aBexHF",
      "execution_count": 10,
      "outputs": [
        {
          "output_type": "stream",
          "name": "stdout",
          "text": [
            "(1, 2, 3, 4, 5)\n"
          ]
        }
      ]
    },
    {
      "cell_type": "code",
      "source": [
        "#Assignment 9: Tuple of Tuples\n",
        "#Create a tuple containing 3 tuples, each with 3 elements. Print the tuple of tuples.\n",
        "tup_=(('a','b'),(1,2),('c',3))\n",
        "tup_"
      ],
      "metadata": {
        "colab": {
          "base_uri": "https://localhost:8080/"
        },
        "id": "HawwArdDexKt",
        "outputId": "1976f9b7-1911-4587-c51b-e922a57ad0cf"
      },
      "id": "HawwArdDexKt",
      "execution_count": 12,
      "outputs": [
        {
          "output_type": "execute_result",
          "data": {
            "text/plain": [
              "(('a', 'b'), (1, 2), ('c', 3))"
            ]
          },
          "metadata": {},
          "execution_count": 12
        }
      ]
    },
    {
      "cell_type": "code",
      "source": [
        "#Assignment 10: Tuple and List\n",
        "#Create a tuple with the first 5 positive integers. Convert it to a list, append the number 6, and convert it back to a tuple. Print the resulting tuple.\n",
        "tup_int=(1,2,3,4,5)\n",
        "list_int=list(tup_int)\n",
        "list_int.append(6)\n",
        "tup_int=tuple(list_int)\n",
        "print(tup_int)\n"
      ],
      "metadata": {
        "colab": {
          "base_uri": "https://localhost:8080/"
        },
        "id": "28kFOHIoexOC",
        "outputId": "2c8684e9-5a9a-49a6-9efb-5d79e3aa4c19"
      },
      "id": "28kFOHIoexOC",
      "execution_count": 14,
      "outputs": [
        {
          "output_type": "stream",
          "name": "stdout",
          "text": [
            "(1, 2, 3, 4, 5, 6)\n"
          ]
        }
      ]
    },
    {
      "cell_type": "code",
      "source": [
        "#Assignment 11: Tuple and String\n",
        "#Create a tuple with the characters of a string. Join the tuple elements into a single string. Print the string.\n",
        "tup1=('a','b','c','d')\n",
        "str1=''.join(tup1)\n",
        "print(str1)\n"
      ],
      "metadata": {
        "colab": {
          "base_uri": "https://localhost:8080/"
        },
        "id": "P2s7tYOtexRl",
        "outputId": "c3b53ec7-e219-41fb-d57e-e91fa585b351"
      },
      "id": "P2s7tYOtexRl",
      "execution_count": 15,
      "outputs": [
        {
          "output_type": "stream",
          "name": "stdout",
          "text": [
            "abcd\n"
          ]
        }
      ]
    },
    {
      "cell_type": "code",
      "source": [
        "#Assignment 12: Tuple and Dictionary\n",
        "#Create a dictionary with tuple keys and integer values. Print the dictionary.\n",
        "\n",
        "tup_dict={(1,2):1,(3,4):2,(5,6):3}\n",
        "print(tup_dict)"
      ],
      "metadata": {
        "colab": {
          "base_uri": "https://localhost:8080/"
        },
        "id": "Yf-xZHZcexVW",
        "outputId": "29ef350c-0e1b-4688-c855-f178299e9173"
      },
      "id": "Yf-xZHZcexVW",
      "execution_count": 16,
      "outputs": [
        {
          "output_type": "stream",
          "name": "stdout",
          "text": [
            "{(1, 2): 1, (3, 4): 2, (5, 6): 3}\n"
          ]
        }
      ]
    },
    {
      "cell_type": "code",
      "source": [
        "#Assignment 13: Nested Tuple Iteration\n",
        "#Create a nested tuple and iterate over the elements, printing each element.\n",
        "\n",
        "tup_nest=((1,2),(3,4),(5,6))\n",
        "for i in tup_nest:\n",
        "    for j in i:\n",
        "        print(j)"
      ],
      "metadata": {
        "colab": {
          "base_uri": "https://localhost:8080/"
        },
        "id": "VZTZzRpuexYn",
        "outputId": "0e6983da-b2ab-4e7d-b38c-134086a915ab"
      },
      "id": "VZTZzRpuexYn",
      "execution_count": 17,
      "outputs": [
        {
          "output_type": "stream",
          "name": "stdout",
          "text": [
            "1\n",
            "2\n",
            "3\n",
            "4\n",
            "5\n",
            "6\n"
          ]
        }
      ]
    },
    {
      "cell_type": "code",
      "source": [
        "#Assignment 14: Tuple and Set\n",
        "#Create a tuple with duplicate elements. Convert it to a set to remove duplicates and print the resulting set.\n",
        "tup_dup=(1,1,4,8,5,2,1,3,7)\n",
        "set_dup=set(tup_dup)\n",
        "print(set_dup)\n"
      ],
      "metadata": {
        "colab": {
          "base_uri": "https://localhost:8080/"
        },
        "id": "EJom9Ud_excU",
        "outputId": "49fa2dad-3157-46a3-f207-9928d78ffaff"
      },
      "id": "EJom9Ud_excU",
      "execution_count": 18,
      "outputs": [
        {
          "output_type": "stream",
          "name": "stdout",
          "text": [
            "{1, 2, 3, 4, 5, 7, 8}\n"
          ]
        }
      ]
    },
    {
      "cell_type": "code",
      "source": [
        "#Assignment 15: Tuple Functions\n",
        "#Write functions that take a tuple and return the minimum, maximum, and sum of the elements. Print the results for a sample tuple.\n",
        "def min_max_sum(tup):\n",
        "    min_val=min(tup)\n",
        "    max_val=max(tup)\n",
        "    sum_val=sum(tup)\n",
        "    return min_val,max_val,sum_val\n",
        "\n",
        "tup=(1,2,3,4,5)\n",
        "min_val,max_val,sum_val=min_max_sum(tup)\n",
        "print(min_val)\n",
        "print(max_val)\n",
        "print(sum_val)"
      ],
      "metadata": {
        "colab": {
          "base_uri": "https://localhost:8080/"
        },
        "id": "33XDtWz5exf2",
        "outputId": "e0feb336-74b2-49a0-c3d7-3f2cf06a1f2f"
      },
      "id": "33XDtWz5exf2",
      "execution_count": 20,
      "outputs": [
        {
          "output_type": "stream",
          "name": "stdout",
          "text": [
            "1\n",
            "5\n",
            "15\n"
          ]
        }
      ]
    },
    {
      "cell_type": "code",
      "source": [],
      "metadata": {
        "id": "-Un2nF2uexjQ"
      },
      "id": "-Un2nF2uexjQ",
      "execution_count": null,
      "outputs": []
    }
  ],
  "metadata": {
    "kernelspec": {
      "display_name": "Python 3",
      "language": "python",
      "name": "python3"
    },
    "language_info": {
      "codemirror_mode": {
        "name": "ipython",
        "version": 3
      },
      "file_extension": ".py",
      "mimetype": "text/x-python",
      "name": "python",
      "nbconvert_exporter": "python",
      "pygments_lexer": "ipython3",
      "version": "3.9.7"
    },
    "colab": {
      "provenance": [],
      "include_colab_link": true
    }
  },
  "nbformat": 4,
  "nbformat_minor": 5
}